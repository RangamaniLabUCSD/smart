{
 "cells": [
  {
   "attachments": {},
   "cell_type": "markdown",
   "id": "f65f18d7",
   "metadata": {},
   "source": [
    "# Example 4: Reaction-diffusion of second messenger in 3D\n",
    "\n",
    "Here, we implement the model presented in [Cugno et al 2019, Scientific Reports](https://www.nature.com/articles/s41598-019-48028-0), in which a second messenger (we assume calcium here) enters through the plasma membrane and is released from the endoplasmic reticulum (ER) into the main cell volume (cytosol).\n",
    "\n",
    "The geometry in this model is divided into 4 domains - two volumes and two surfaces:\n",
    "- plasma membrane (PM)\n",
    "- Cytosol\n",
    "- ER membrane\n",
    "- ER lumen (volume inside the ER)\n",
    "\n",
    "This model has a single species, $\\text{Ca}^{2+}$, with prescribed time-dependent fluxes at the PM and the ERM.\n",
    "\n",
    "There are three reactions:\n",
    "- $\\text{Ca}^{2+}$ influx at the PM\n",
    "- $\\text{Ca}^{2+}$ removal in the cytosol (e.g. via buffering)\n",
    "- $\\text{Ca}^{2+}$ flux into the ER  \n",
    "```"
   ]
  },
  {
   "cell_type": "code",
   "execution_count": null,
   "id": "cc398816",
   "metadata": {},
   "outputs": [],
   "source": [
    "import dolfin as d\n",
    "import sympy as sym\n",
    "import numpy as np\n",
    "import pathlib\n",
    "import logging\n",
    "import gmsh  # must be imported before pyvista if dolfin is imported first\n",
    "\n",
    "from smart import config, mesh, model, mesh_tools, visualization\n",
    "from smart.units import unit\n",
    "from smart.model_assembly import (\n",
    "    Compartment,\n",
    "    Parameter,\n",
    "    Reaction,\n",
    "    Species,\n",
    "    SpeciesContainer,\n",
    "    ParameterContainer,\n",
    "    CompartmentContainer,\n",
    "    ReactionContainer,\n",
    ")\n",
    "\n",
    "from matplotlib import pyplot as plt\n",
    "import matplotlib.image as mpimg\n",
    "from matplotlib import rcParams\n",
    "\n",
    "logger = logging.getLogger(\"smart\")\n",
    "logger.setLevel(logging.INFO)"
   ]
  },
  {
   "attachments": {},
   "cell_type": "markdown",
   "id": "95b9d865",
   "metadata": {},
   "source": [
    "First, we define the various units for the inputs"
   ]
  },
  {
   "cell_type": "code",
   "execution_count": null,
   "id": "4f4023cf",
   "metadata": {},
   "outputs": [],
   "source": [
    "# Aliases - base units\n",
    "uM = unit.uM\n",
    "um = unit.um\n",
    "molecule = unit.molecule\n",
    "sec = unit.sec\n",
    "dimensionless = unit.dimensionless\n",
    "# Aliases - units used in model\n",
    "D_unit = um**2 / sec\n",
    "flux_unit = uM * um / sec\n",
    "vol_unit = uM\n",
    "surf_unit = molecule / um**2"
   ]
  },
  {
   "attachments": {},
   "cell_type": "markdown",
   "id": "46582d26",
   "metadata": {},
   "source": [
    "## Model generation\n",
    "\n",
    "For each step of model generation, refer to Example 3 or API documentation for further details.\n",
    "\n",
    "We first define compartments and the compartment container. Note that we can specify nonadjacency for surfaces in the model, which is not required, but can speed up the solution process."
   ]
  },
  {
   "cell_type": "code",
   "execution_count": null,
   "id": "02a000f2",
   "metadata": {},
   "outputs": [],
   "source": [
    "Cyto = Compartment(\"Cyto\", 3, um, 1)\n",
    "PM = Compartment(\"PM\", 2, um, 10)\n",
    "ERm = Compartment(\"ERm\", 2, um, 12)\n",
    "PM.specify_nonadjacency(['ERm'])\n",
    "ERm.specify_nonadjacency(['PM'])\n",
    "\n",
    "cc = CompartmentContainer()\n",
    "cc.add([Cyto, PM, ERm])"
   ]
  },
  {
   "attachments": {},
   "cell_type": "markdown",
   "id": "f9121840",
   "metadata": {},
   "source": [
    "Define species (just calcium here) and place in species container."
   ]
  },
  {
   "cell_type": "code",
   "execution_count": null,
   "id": "09079b17",
   "metadata": {},
   "outputs": [],
   "source": [
    "Ca = Species(\"Ca\", 0.05, vol_unit, 10.0, D_unit, \"Cyto\")\n",
    "sc = SpeciesContainer()\n",
    "sc.add([Ca])"
   ]
  },
  {
   "attachments": {},
   "cell_type": "markdown",
   "id": "3c56e840",
   "metadata": {},
   "source": [
    "Define parameters and reactions, then place in respective containers. Here, there are 3 reactions:\n",
    "* r1: influx of calcium through the PM\n",
    "* r2: calcium flux out of the ER\n",
    "* r3: consumption of calcium in the cytosol (e.g., buffering)\n",
    "\n",
    "Calcium entry at the PM and efflux from the ER are dictated by time-dependent activation functions:\n",
    "\n",
    "$$\n",
    "j_{PM} = \\gamma (e^{-t/\\alpha} - e^{-t/\\beta})\\\\\n",
    "j_{ER} = \\zeta \\gamma (e^{-(t-t_{ER})/\\alpha} - e^{-(t-t_{ER})/\\beta}) H(t-t_{ER})\n",
    "$$\n",
    "\n",
    "where $H(x)$ is the Heaviside step function (approximated numerically below by a steep sigmoid).\n",
    "\n",
    "These time-dependent functions are specified as parameters by calling:\n",
    "```\n",
    "        param_var = Parameter.from_expression(\n",
    "            name, sym_expr, unit, preint_sym_expr (opt), group (opt),\n",
    "            notes (opt), use_preintegration (opt)\n",
    "        )\n",
    "```\n",
    "where:\n",
    "* name: string naming the parameter\n",
    "* sym_expr: string specifying an expression, \"t\" should be the only free variable\n",
    "* unit: units associated with given value\n",
    "* preint_sym_expr (opt): string giving the integral of the expression; if not given\n",
    "                            and use_preintegration is true, then sympy tries to integrate\n",
    "                            using sympy.integrate()\n",
    "* group (opt): optional string placing this reaction in a reaction group; for organizational purposes when there are multiple reaction modules\n",
    "* notes (optional): string related to this parameter\n",
    "* use_preintegration (optional): use preintegration in solution process if\n",
    "                                     \"use_preintegration\" is true (defaults to false)"
   ]
  },
  {
   "cell_type": "code",
   "execution_count": null,
   "id": "2e1f6882",
   "metadata": {},
   "outputs": [],
   "source": [
    "# Ca2+ influx at membrane\n",
    "gamma, alpha, beta = 1140.0, .0025, .002\n",
    "t = sym.symbols(\"t\")\n",
    "pulsePM = gamma*(sym.exp(-t/alpha) - sym.exp(-t/beta))\n",
    "pulsePM_I = gamma*(-alpha*sym.exp(-t/alpha) + beta*sym.exp(-t/beta))  # integral for preintegration\n",
    "j1pulse = Parameter.from_expression(\n",
    "    \"j1pulse\", pulsePM, flux_unit, use_preintegration=False, preint_sym_expr=pulsePM_I\n",
    ")\n",
    "r1 = Reaction(\n",
    "    \"r1\",\n",
    "    [],\n",
    "    [\"Ca\"],\n",
    "    param_map={\"J\": \"j1pulse\"},\n",
    "    eqn_f_str=\"J\",\n",
    "    explicit_restriction_to_domain=\"PM\",\n",
    ")\n",
    "# Ca2+ flux out of the ER\n",
    "zeta, tER = 0.2, .02\n",
    "def estep(t, t0, m): return 1 / (1+sym.exp(m*(t0-t)))\n",
    "\n",
    "\n",
    "pulseER = zeta*gamma*estep(t, tER, 20000)*(sym.exp(-(t-tER)/alpha) - sym.exp(-(t-tER)/beta))\n",
    "j2pulse = Parameter.from_expression(\n",
    "    \"j2pulse\", pulseER, flux_unit, use_preintegration=False\n",
    ")\n",
    "r2 = Reaction(\n",
    "    \"r2\",\n",
    "    [],\n",
    "    [\"Ca\"],\n",
    "    param_map={\"J\": \"j2pulse\"},\n",
    "    eqn_f_str=\"J\",\n",
    "    explicit_restriction_to_domain=\"ERm\",\n",
    ")\n",
    "# consumption of Ca in the cytosol\n",
    "tau = Parameter(\"tau\", 0.05, sec)\n",
    "r3 = Reaction(\"r3\", [\"Ca\"], [], param_map={\"tau\": \"tau\"},\n",
    "              eqn_f_str=\"Ca/tau\", species_map={\"Ca\": \"Ca\"})\n",
    "\n",
    "pc = ParameterContainer()\n",
    "pc.add([j1pulse, j2pulse, tau])\n",
    "rc = ReactionContainer()\n",
    "rc.add([r1, r2, r3])"
   ]
  },
  {
   "attachments": {},
   "cell_type": "markdown",
   "id": "901cc4f9",
   "metadata": {},
   "source": [
    "We can plot the time-dependent stimulus from r1 and r2 using lambdify."
   ]
  },
  {
   "cell_type": "code",
   "execution_count": null,
   "id": "e7aa0975",
   "metadata": {},
   "outputs": [],
   "source": [
    "from sympy.utilities.lambdify import lambdify\n",
    "pulsePM_func = lambdify(t, pulsePM, 'numpy')  # returns a numpy-ready function\n",
    "pulseER_func = lambdify(t, pulseER, 'numpy')\n",
    "tArray = np.linspace(0, 0.1, 500)\n",
    "fig, ax = plt.subplots(2, 1)\n",
    "fig.set_size_inches(10, 6)\n",
    "ax[0].plot(tArray, pulsePM_func(tArray))\n",
    "ax[0].set(xlabel='Time (s)',\n",
    "          ylabel='PM calcium flux (μM-μm/s)')\n",
    "ax[1].plot(tArray, pulseER_func(tArray))\n",
    "ax[1].set(xlabel='Time (s)',\n",
    "          ylabel='ER calcium flux (μM-μm/s)')"
   ]
  },
  {
   "attachments": {},
   "cell_type": "markdown",
   "id": "15c35d39",
   "metadata": {},
   "source": [
    "## Create and load in mesh\n",
    "\n",
    "Here, we consider an \"ellipsoid-in-an-ellipsoid\" geometry. The inner ellipsoid represents the ER and the volume between the ER boundary and the boundary of the outer ellipsoid represents the cytosol."
   ]
  },
  {
   "cell_type": "code",
   "execution_count": null,
   "id": "fe56e162",
   "metadata": {},
   "outputs": [],
   "source": [
    "curRadius = 0.25  # dendritic spine radius\n",
    "domain, facet_markers, cell_markers = mesh_tools.create_ellipsoids((1.25*curRadius, 0.8*curRadius, curRadius),\n",
    "                                                                   (1.25*curRadius/2, 0.8 *\n",
    "                                                                    curRadius/2, curRadius/2),\n",
    "                                                                   hEdge=0.01)\n",
    "# Write mesh and meshfunctions to file\n",
    "mesh_folder = pathlib.Path(\"mesh\")\n",
    "mesh_folder.mkdir(exist_ok=True)\n",
    "mesh_path = mesh_folder / \"DemoSphere.h5\"\n",
    "mesh_tools.write_mesh(\n",
    "    domain, facet_markers, cell_markers, filename=mesh_path\n",
    ")\n",
    "parent_mesh = mesh.ParentMesh(\n",
    "    mesh_filename=str(mesh_path),\n",
    "    mesh_filetype=\"hdf5\",\n",
    "    name=\"parent_mesh\",\n",
    ")\n",
    "visualization.plot_dolfin_mesh(domain, cell_markers, facet_markers)"
   ]
  },
  {
   "attachments": {},
   "cell_type": "markdown",
   "id": "0943588e",
   "metadata": {},
   "source": [
    "Initialize model and solver."
   ]
  },
  {
   "cell_type": "code",
   "execution_count": null,
   "id": "ac88bdec",
   "metadata": {},
   "outputs": [],
   "source": [
    "config_cur = config.Config()\n",
    "config_cur.flags.update({\"allow_unused_components\": True})\n",
    "model_cur = model.Model(pc, sc, cc, rc, config_cur, parent_mesh)\n",
    "config_cur.solver.update(\n",
    "    {\n",
    "        \"final_t\": 0.1,\n",
    "        \"initial_dt\": 0.001,\n",
    "        \"time_precision\": 6,\n",
    "    }\n",
    ")\n",
    "model_cur.initialize()"
   ]
  },
  {
   "attachments": {},
   "cell_type": "markdown",
   "id": "5d5aacbd",
   "metadata": {},
   "source": [
    "Initialize XDMF files for saving results, save model information to .pkl file, then solve the system until `model_cur.t > model_cur.final_t`"
   ]
  },
  {
   "cell_type": "code",
   "execution_count": null,
   "id": "b54d28ca",
   "metadata": {},
   "outputs": [],
   "source": [
    "# Write initial condition(s) to file\n",
    "results = dict()\n",
    "result_folder = pathlib.Path(f\"results\")\n",
    "result_folder.mkdir(exist_ok=True)\n",
    "for species_name, species in model_cur.sc.items:\n",
    "    results[species_name] = d.XDMFFile(\n",
    "        model_cur.mpi_comm_world, str(result_folder / f\"{species_name}.xdmf\")\n",
    "    )\n",
    "    results[species_name].parameters[\"flush_output\"] = True\n",
    "    results[species_name].write(model_cur.sc[species_name].u[\"u\"], model_cur.t)\n",
    "model_cur.to_pickle(\"model_cur.pkl\")\n",
    "\n",
    "# Set loglevel to warning in order not to pollute notebook output\n",
    "logger.setLevel(logging.WARNING)\n",
    "\n",
    "concVec = np.array([.05])\n",
    "cytoMesh = model_cur.cc['Cyto'].dolfin_mesh\n",
    "integrateDomain = d.MeshFunction(\"size_t\", cytoMesh, 3, 0)\n",
    "RTarget = (curRadius + curRadius/2) / 2\n",
    "for c in d.cells(cytoMesh):\n",
    "    RCur = np.sqrt(c.midpoint().x()**2 + c.midpoint().y()**2 + c.midpoint().z()**2)\n",
    "    integrateDomain[c] = 1 if (RCur > RTarget-.1*curRadius and RCur <\n",
    "                                RTarget + .1*curRadius) else 0\n",
    "dx = d.Measure(\"dx\", domain=cytoMesh, subdomain_data=integrateDomain)\n",
    "volume = d.assemble(1.0*dx(1))\n",
    "# Solve\n",
    "displayed = False\n",
    "while True:\n",
    "    # Solve the system\n",
    "    model_cur.monolithic_solve()\n",
    "    # Save results for post processing\n",
    "    for species_name, species in model_cur.sc.items:\n",
    "        results[species_name].write(model_cur.sc[species_name].u[\"u\"], model_cur.t)\n",
    "    # save mean value at r = (curRadius + curRadius/2)/2 (for comparison to Cugno graph below)\n",
    "    int_val = d.assemble(model_cur.sc['Ca'].u['u']*dx(1))\n",
    "    curConc = np.array([int_val / volume])\n",
    "    concVec = np.concatenate((concVec, curConc))\n",
    "    np.savetxt(result_folder / f\"tvec.txt\", np.array(model_cur.tvec).astype(np.float32))\n",
    "    if model_cur.t > .025 and not displayed:  # display first time after .025 s\n",
    "        visualization.plot(model_cur.sc['Ca'].u['u'])\n",
    "        displayed = True\n",
    "    # End if we've passed the final time\n",
    "    if model_cur.t >= model_cur.final_t:\n",
    "        break"
   ]
  },
  {
   "attachments": {},
   "cell_type": "markdown",
   "id": "ead460cb",
   "metadata": {},
   "source": [
    "Plot results side-by-side with figure from original paper. This graph from the paper uses a spherical cell geometry, whereas we use an ellipsoidal case here, so we expect only qualitatively similar dynamics."
   ]
  },
  {
   "cell_type": "code",
   "execution_count": null,
   "id": "7d17ded6",
   "metadata": {},
   "outputs": [],
   "source": [
    "rcParams['figure.figsize'] = 15, 5\n",
    "# read image from Fig 3b of paper\n",
    "img_A = mpimg.imread('Cugno_et_al_2019_Fig3b.png')\n",
    "fig, ax = plt.subplots(1, 2)\n",
    "ax[0].imshow(img_A)\n",
    "ax[0].axis('off')\n",
    "ax[1].plot(model_cur.tvec, concVec)\n",
    "plt.xlabel(\"Time (s)\")\n",
    "plt.ylabel(\"Calcium concentration (μM)\")\n",
    "plt.title(\"SMART simulation\")"
   ]
  },
  {
   "attachments": {},
   "cell_type": "markdown",
   "id": "713f0c16",
   "metadata": {},
   "source": [
    "Compare area under the curve (AUC) with value from previous simulations (regression test)."
   ]
  },
  {
   "cell_type": "code",
   "execution_count": null,
   "id": "dc6f88f7",
   "metadata": {},
   "outputs": [],
   "source": [
    "tvec = np.zeros(len(model_cur.tvec))\n",
    "for i in range(len(model_cur.tvec)):\n",
    "    tvec[i] = float(model_cur.tvec[i])\n",
    "auc_cur = np.trapz(concVec, tvec)\n",
    "auc_compare = 0.35133404882191754\n",
    "percent_error = 100*np.abs(auc_cur - auc_compare)/auc_compare\n",
    "assert percent_error < .01,\\\n",
    "    f\"Failed regression test: Example 4 results deviate {percent_error:.3f}% from the previous numerical solution\""
   ]
  }
 ],
 "metadata": {
  "jupytext": {
   "cell_metadata_filter": "-all",
   "main_language": "python",
   "notebook_metadata_filter": "-all"
  },
  "kernelspec": {
   "display_name": "Python 3",
   "language": "python",
   "name": "python3"
  },
  "language_info": {
   "codemirror_mode": {
    "name": "ipython",
    "version": 3
   },
   "file_extension": ".py",
   "mimetype": "text/x-python",
   "name": "python",
   "nbconvert_exporter": "python",
   "pygments_lexer": "ipython3",
   "version": "3.10.6"
  },
  "vscode": {
   "interpreter": {
    "hash": "916dbcbb3f70747c44a77c7bcd40155683ae19c65e1c03b4aa3499c5328201f1"
   }
  }
 },
 "nbformat": 4,
 "nbformat_minor": 5
}
