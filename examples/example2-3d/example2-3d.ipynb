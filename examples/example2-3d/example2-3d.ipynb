{
 "cells": [
  {
   "attachments": {},
   "cell_type": "markdown",
   "id": "f65f18d7",
   "metadata": {},
   "source": [
    "# Example 2 - 3D:  Simple 3D cell signaling model\n",
    "\n",
    "We model a reaction between the cell interior and cell membrane within a dendritic spine:\n",
    "- Cyto - 3D spine volume\n",
    "- PM - 2D cell boundary\n",
    "\n",
    "Model from [Rangamani et al, 2013, Cell](https://www.ncbi.nlm.nih.gov/pmc/articles/PMC3874130/). A cytosolic species, \"A\", reacts with a species on the PM, \"B\", to form a new species on the PM, \"X\".\n"
   ]
  },
  {
   "cell_type": "code",
   "execution_count": null,
   "id": "b224bea7",
   "metadata": {},
   "outputs": [],
   "source": [
    "import matplotlib.image as mpimg\n",
    "from matplotlib import pyplot as plt\n",
    "\n",
    "img_A = mpimg.imread('axb-diagram.png')\n",
    "plt.imshow(img_A)\n",
    "plt.axis('off')"
   ]
  },
  {
   "attachments": {},
   "cell_type": "markdown",
   "id": "a59f3428",
   "metadata": {},
   "source": [
    "Imports and logger initialization:"
   ]
  },
  {
   "cell_type": "code",
   "execution_count": null,
   "id": "cc398816",
   "metadata": {},
   "outputs": [],
   "source": [
    "import logging\n",
    "import pathlib\n",
    "\n",
    "import dolfin as d\n",
    "import numpy as np\n",
    "\n",
    "from smart import config, mesh, mesh_tools, model, visualization\n",
    "from smart.model_assembly import (Compartment, CompartmentContainer, Parameter,\n",
    "                                  ParameterContainer, Reaction,\n",
    "                                  ReactionContainer, Species, SpeciesContainer)\n",
    "from smart.units import unit\n",
    "\n",
    "logger = logging.getLogger(\"smart\")\n",
    "logger.setLevel(logging.INFO)"
   ]
  },
  {
   "attachments": {},
   "cell_type": "markdown",
   "id": "95b9d865",
   "metadata": {},
   "source": [
    "First, we define the various units for use in the model."
   ]
  },
  {
   "cell_type": "code",
   "execution_count": null,
   "id": "4f4023cf",
   "metadata": {},
   "outputs": [],
   "source": [
    "um = unit.um\n",
    "molecule = unit.molecule\n",
    "sec = unit.sec\n",
    "dimensionless = unit.dimensionless\n",
    "D_unit = um**2 / sec\n",
    "vol_unit = unit.uM\n",
    "flux_unit = molecule / (um**2 * sec)\n",
    "surf_unit = molecule / um**2"
   ]
  },
  {
   "attachments": {},
   "cell_type": "markdown",
   "id": "46582d26",
   "metadata": {},
   "source": [
    "Next we generate the model by assembling the compartment, species, parameter, and reaction containers (see Example 1 for or API documentation for more details)."
   ]
  },
  {
   "cell_type": "code",
   "execution_count": null,
   "id": "09079b17",
   "metadata": {},
   "outputs": [],
   "source": [
    "# =============================================================================================\n",
    "# Compartments\n",
    "# =============================================================================================\n",
    "# name, topological dimensionality, length scale units, marker value\n",
    "Cyto = Compartment(\"Cyto\", 3, um, 1)\n",
    "PM = Compartment(\"PM\", 2, um, 10)\n",
    "cc = CompartmentContainer()\n",
    "cc.add([Cyto, PM])\n",
    "\n",
    "# =============================================================================================\n",
    "# Species\n",
    "# =============================================================================================\n",
    "# name, initial concentration, concentration units, diffusion, diffusion units, compartment\n",
    "A = Species(\"A\", 1.0, vol_unit, 10.0, D_unit, \"Cyto\")\n",
    "X = Species(\"X\", 1000, surf_unit, 0.1, D_unit, \"PM\")\n",
    "B = Species(\"B\", 0.0, surf_unit, 0.01, D_unit, \"PM\")\n",
    "sc = SpeciesContainer()\n",
    "sc.add([A, X, B])\n",
    "\n",
    "# =============================================================================================\n",
    "# Parameters and Reactions\n",
    "# =============================================================================================\n",
    "\n",
    "# Reaction of A and X to make B (Cyto-PM reaction)\n",
    "kon = Parameter(\"kon\", 1.0, 1/(vol_unit*sec))\n",
    "koff = Parameter(\"koff\", 0.1, 1/sec)\n",
    "r1 = Reaction(\"r1\", [\"A\", \"X\"], [\"B\"],\n",
    "              param_map={\"on\": \"kon\", \"off\": \"koff\"},\n",
    "              species_map={\"A\": \"A\", \"X\": \"X\", \"B\": \"B\"})\n",
    "\n",
    "pc = ParameterContainer()\n",
    "pc.add([kon, koff])\n",
    "rc = ReactionContainer()\n",
    "rc.add([r1])"
   ]
  },
  {
   "attachments": {},
   "cell_type": "markdown",
   "id": "15c35d39",
   "metadata": {},
   "source": [
    "Now we load in the dendritic spine mesh and generate the marker functions `mf3` and `mf2`."
   ]
  },
  {
   "cell_type": "code",
   "execution_count": null,
   "id": "fe56e162",
   "metadata": {},
   "outputs": [],
   "source": [
    "# Load mesh\n",
    "spine_mesh = d.Mesh('spine_mesh.xml')\n",
    "mf3 = d.MeshFunction(\"size_t\", spine_mesh, 3, 1)\n",
    "mf2 = d.MeshFunction(\"size_t\", spine_mesh, 2, spine_mesh.domains())\n",
    "visualization.plot_dolfin_mesh(spine_mesh, mf3, clip_origin=(0.143, 0.107, -0.065))"
   ]
  },
  {
   "attachments": {},
   "cell_type": "markdown",
   "id": "fe04ad6b",
   "metadata": {},
   "source": [
    "Write mesh and meshfunctions to file, then create `mesh.ParentMesh` object."
   ]
  },
  {
   "cell_type": "code",
   "execution_count": null,
   "id": "e15255a1",
   "metadata": {},
   "outputs": [],
   "source": [
    "mesh_folder = pathlib.Path(\"spine_mesh\")\n",
    "mesh_folder.mkdir(exist_ok=True)\n",
    "mesh_file = mesh_folder / \"spine_mesh.h5\"\n",
    "mesh_tools.write_mesh(spine_mesh, mf2, mf3, mesh_file)\n",
    "\n",
    "parent_mesh = mesh.ParentMesh(\n",
    "    mesh_filename=str(mesh_file),\n",
    "    mesh_filetype=\"hdf5\",\n",
    "    name=\"parent_mesh\",\n",
    ")\n"
   ]
  },
  {
   "attachments": {},
   "cell_type": "markdown",
   "id": "d1c0cab2",
   "metadata": {},
   "source": [
    "Initialize model and solvers."
   ]
  },
  {
   "cell_type": "code",
   "execution_count": null,
   "id": "b059df37",
   "metadata": {},
   "outputs": [],
   "source": [
    "configCur = config.Config()\n",
    "configCur.solver.update(\n",
    "    {\n",
    "        \"final_t\": 5.0,\n",
    "        \"initial_dt\": 0.05,\n",
    "        \"time_precision\": 6,\n",
    "        \"use_snes\": True,\n",
    "    }\n",
    ")\n",
    "\n",
    "modelCur = model.Model(pc, sc, cc, rc, configCur, parent_mesh)\n",
    "modelCur.initialize()\n"
   ]
  },
  {
   "attachments": {},
   "cell_type": "markdown",
   "id": "e97c54a3",
   "metadata": {},
   "source": [
    "Save model information to .pkl file and write initial conditions to file."
   ]
  },
  {
   "cell_type": "code",
   "execution_count": null,
   "id": "274cc41d",
   "metadata": {},
   "outputs": [],
   "source": [
    "modelCur.to_pickle('modelCur.pkl')\n",
    "results = dict()\n",
    "result_folder = pathlib.Path(\"resultsSpine\")\n",
    "result_folder.mkdir(exist_ok=True)\n",
    "for species_name, species in modelCur.sc.items:\n",
    "    results[species_name] = d.XDMFFile(\n",
    "        modelCur.mpi_comm_world, str(result_folder / f\"{species_name}.xdmf\")\n",
    "    )\n",
    "    results[species_name].parameters[\"flush_output\"] = True\n",
    "    results[species_name].write(modelCur.sc[species_name].u[\"u\"], modelCur.t)\n"
   ]
  },
  {
   "attachments": {},
   "cell_type": "markdown",
   "id": "355a426e",
   "metadata": {},
   "source": [
    "Solve the system until `modelCur.t > modelCur.final_t`. We display the surface distribution of species B at $t$ = 1.0 s for comparison with Figure 1 of the JOSS paper."
   ]
  },
  {
   "cell_type": "code",
   "execution_count": null,
   "id": "40b213ea",
   "metadata": {},
   "outputs": [],
   "source": [
    "tvec = [0]\n",
    "avg_B = [B.initial_condition]\n",
    "# Set loglevel to warning in order not to pollute notebook output\n",
    "logger.setLevel(logging.WARNING)\n",
    "displayed = False\n",
    "\n",
    "while True:\n",
    "    # Solve the system\n",
    "    modelCur.monolithic_solve()\n",
    "    # Save results for post processing\n",
    "    for species_name, species in modelCur.sc.items:\n",
    "        results[species_name].write(modelCur.sc[species_name].u[\"u\"], modelCur.t)\n",
    "    dx = d.Measure(\"dx\", domain=modelCur.cc['PM'].dolfin_mesh)\n",
    "    int_val = d.assemble(modelCur.sc['B'].u['u']*dx)\n",
    "    volume = d.assemble(1.0*dx)\n",
    "    avg_B.append(int_val / volume)\n",
    "    tvec.append(modelCur.t)\n",
    "    if modelCur.t >= 1.0 and not displayed:\n",
    "        visualization.plot(modelCur.sc[\"B\"].u[\"u\"], clip_logic=False, clim=(50,75))\n",
    "        displayed = True\n",
    "    # End if we've passed the final time\n",
    "    if modelCur.t >= modelCur.final_t:\n",
    "        break"
   ]
  },
  {
   "attachments": {},
   "cell_type": "markdown",
   "id": "52c0fd7e",
   "metadata": {},
   "source": [
    "Now we plot the average concentration of B in the dendritic spine over time, which should match the plot shown in Fig 1 of JOSS."
   ]
  },
  {
   "cell_type": "code",
   "execution_count": null,
   "id": "4afd3149",
   "metadata": {},
   "outputs": [],
   "source": [
    "avg_B = np.array(avg_B)\n",
    "plt.plot(tvec, 1e12*avg_B*1e12/(6.02e23), label='SMART simulation')\n",
    "plt.xlabel('Time (s)')\n",
    "plt.ylabel('B $\\\\times$ $\\mathrm{10^{12}~(mol/m^2)}$')\n"
   ]
  }
 ],
 "metadata": {
  "jupytext": {
   "cell_metadata_filter": "-all",
   "main_language": "python",
   "notebook_metadata_filter": "-all"
  },
  "kernelspec": {
   "display_name": "Python 3",
   "language": "python",
   "name": "python3"
  },
  "language_info": {
   "codemirror_mode": {
    "name": "ipython",
    "version": 3
   },
   "file_extension": ".py",
   "mimetype": "text/x-python",
   "name": "python",
   "nbconvert_exporter": "python",
   "pygments_lexer": "ipython3",
   "version": "3.10.6"
  },
  "vscode": {
   "interpreter": {
    "hash": "916dbcbb3f70747c44a77c7bcd40155683ae19c65e1c03b4aa3499c5328201f1"
   }
  }
 },
 "nbformat": 4,
 "nbformat_minor": 5
}
