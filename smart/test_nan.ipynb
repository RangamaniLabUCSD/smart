{
 "cells": [
  {
   "cell_type": "code",
   "execution_count": null,
   "metadata": {},
   "outputs": [],
   "source": [
    "from smart import mesh_tools\n",
    "import dolfin as d\n",
    "import numpy as np\n",
    "curRadius = 1.0\n",
    "domain, facet_markers, cell_markers = mesh_tools.create_2Dcell(outerExpr=f\"r**2 + (z-({curRadius}+1))**2 - {curRadius}**2\", innerExpr=\"\", hEdge=0.01, hInnerEdge=0.01)\n",
    "cyto_mesh = d.create_meshview(cell_markers, 1)\n",
    "pm_mesh = d.create_meshview(facet_markers, 10)\n",
    "cyto_func_space = d.FunctionSpace(cyto_mesh, \"P\", 1)\n",
    "test_expr = d.Expression(f\"1/(pow(x[0],2)+pow(x[1],2)+pow(x[2]-({curRadius}+1),2)+0.1)\", degree=1)\n",
    "cyto_func = d.interpolate(test_expr, cyto_func_space)\n",
    "xCyto = d.SpatialCoordinate(cyto_mesh)\n",
    "dxCyto = d.Measure(\"dx\", cyto_mesh)\n",
    "testFunc = d.TestFunction(cyto_func_space)\n",
    "Nmax = 1e4\n",
    "N = 0\n",
    "while N < Nmax:\n",
    "    cur_val = d.assemble_mixed(xCyto[0]*cyto_func*testFunc*dxCyto)\n",
    "    if np.any(np.isnan(cur_val.get_local())):\n",
    "        print(f\"Current integral is {cur_val.get_local()}\")\n",
    "        break\n",
    "    N += 1\n",
    "    print(N)\n",
    "\n",
    "print(f\"Current integral is {cur_val.get_local()}\")"
   ]
  }
 ],
 "metadata": {
  "kernelspec": {
   "display_name": "Python 3",
   "language": "python",
   "name": "python3"
  },
  "language_info": {
   "codemirror_mode": {
    "name": "ipython",
    "version": 3
   },
   "file_extension": ".py",
   "mimetype": "text/x-python",
   "name": "python",
   "nbconvert_exporter": "python",
   "pygments_lexer": "ipython3",
   "version": "3.10.12"
  }
 },
 "nbformat": 4,
 "nbformat_minor": 2
}
