{
 "cells": [
  {
   "attachments": {},
   "cell_type": "markdown",
   "id": "f65f18d7",
   "metadata": {},
   "source": [
    "# Example 2: Simple 2D cell signaling model\n",
    "\n",
    "We model a reaction between the cell interior and cell membrane in a 2D geometry:\n",
    "- Cyto - 2D cell \"volume\"\n",
    "- PM - 1D cell boundary (represents plasma membrane)\n",
    "\n",
    "Model from [Rangamani et al, 2013, Cell](https://www.ncbi.nlm.nih.gov/pmc/articles/PMC3874130/). A cytosolic species, \"A\", reacts with a species on the PM, \"B\", to form a new species on the PM, \"X\".\n"
   ]
  },
  {
   "cell_type": "code",
   "execution_count": null,
   "id": "b224bea7",
   "metadata": {},
   "outputs": [],
   "source": [
    "from matplotlib import pyplot as plt\n",
    "import matplotlib.image as mpimg\n",
    "%matplotlib inline\n",
    "img_A = mpimg.imread('axb-diagram.png')\n",
    "plt.imshow(img_A)\n",
    "plt.axis('off')"
   ]
  },
  {
   "attachments": {},
   "cell_type": "markdown",
   "id": "a59f3428",
   "metadata": {},
   "source": [
    "Imports and logger initialization:"
   ]
  },
  {
   "cell_type": "code",
   "execution_count": null,
   "id": "cc398816",
   "metadata": {},
   "outputs": [],
   "source": [
    "import dolfin as d\n",
    "import sympy as sym\n",
    "import numpy as np\n",
    "import pathlib\n",
    "import logging\n",
    "import gmsh # must be imported before pyvista is dolfin is imported first\n",
    "\n",
    "from smart import config, common, mesh, model, mesh_tools, visualization\n",
    "from smart.units import unit\n",
    "from smart.model_assembly import (\n",
    "    Compartment,\n",
    "    Parameter,\n",
    "    Reaction,\n",
    "    Species,\n",
    "    SpeciesContainer,\n",
    "    ParameterContainer,\n",
    "    CompartmentContainer,\n",
    "    ReactionContainer,\n",
    ")\n",
    "from matplotlib import pyplot as plt\n",
    "from mpl_toolkits.mplot3d import Axes3D\n",
    "\n",
    "logger = logging.getLogger(\"smart\")\n",
    "logger.setLevel(logging.INFO)"
   ]
  },
  {
   "attachments": {},
   "cell_type": "markdown",
   "id": "95b9d865",
   "metadata": {},
   "source": [
    "First, we define the various units for use in the model."
   ]
  },
  {
   "cell_type": "code",
   "execution_count": null,
   "id": "4f4023cf",
   "metadata": {},
   "outputs": [],
   "source": [
    "# Aliases - base units\n",
    "um = unit.um\n",
    "molecule = unit.molecule\n",
    "sec = unit.sec\n",
    "dimensionless = unit.dimensionless\n",
    "# Aliases - units used in model\n",
    "D_unit = um**2 / sec\n",
    "surf_unit = molecule / um**2\n",
    "flux_unit = molecule / (um * sec)\n",
    "edge_unit = molecule / um"
   ]
  },
  {
   "attachments": {},
   "cell_type": "markdown",
   "id": "46582d26",
   "metadata": {},
   "source": [
    "Next we generate the model by assembling the compartment, species, parameter, and reaction containers (see Example 1 for or API documentation for more details)."
   ]
  },
  {
   "cell_type": "code",
   "execution_count": null,
   "id": "09079b17",
   "metadata": {},
   "outputs": [],
   "source": [
    "# =============================================================================================\n",
    "# Compartments\n",
    "# =============================================================================================\n",
    "# name, topological dimensionality, length scale units, marker value\n",
    "Cyto = Compartment(\"Cyto\", 2, um, 1)\n",
    "PM = Compartment(\"PM\", 1, um, 3)\n",
    "cc = CompartmentContainer()\n",
    "cc.add([Cyto, PM])\n",
    "\n",
    "# =============================================================================================\n",
    "# Species\n",
    "# =============================================================================================\n",
    "# name, initial concentration, concentration units, diffusion, diffusion units, compartment\n",
    "A = Species(\"A\", 1.0, surf_unit, 100.0, D_unit, \"Cyto\")\n",
    "X = Species(\"X\", 1.0, edge_unit, 1.0, D_unit, \"PM\")\n",
    "B = Species(\"B\", 0.0, edge_unit, 1.0, D_unit, \"PM\")\n",
    "sc = SpeciesContainer()\n",
    "sc.add([A, X, B])\n",
    "\n",
    "# =============================================================================================\n",
    "# Parameters and Reactions\n",
    "# =============================================================================================\n",
    "\n",
    "# Reaction of A and X to make B (Cyto-PM reaction)\n",
    "kon = Parameter(\"kon\", 1.0, 1/(surf_unit*sec))\n",
    "koff = Parameter(\"koff\", 1.0, 1/sec)\n",
    "r1 = Reaction(\"r1\", [\"A\", \"X\"], [\"B\"], \n",
    "              param_map={\"on\": \"kon\", \"off\": \"koff\"}, \n",
    "              species_map={\"A\": \"A\", \"X\": \"X\", \"B\": \"B\"})\n",
    "\n",
    "pc =ParameterContainer()\n",
    "pc.add([kon, koff])\n",
    "rc = ReactionContainer()\n",
    "rc.add([r1])"
   ]
  },
  {
   "attachments": {},
   "cell_type": "markdown",
   "id": "15c35d39",
   "metadata": {},
   "source": [
    "Now we create an circular mesh (mesh built using gmsh in `smart.mesh_tools`), along with marker functions `mf2` and `mf1`."
   ]
  },
  {
   "cell_type": "code",
   "execution_count": null,
   "id": "fe56e162",
   "metadata": {},
   "outputs": [],
   "source": [
    "# Create mesh\n",
    "h_ellipse = 0.1\n",
    "major_rad = 1.0\n",
    "minor_rad = 1.0\n",
    "inner_tag = 1\n",
    "edge_tag = 3\n",
    "ellipse_mesh, mf1, mf2 = mesh_tools.DemoEllipseMesh(major_rad, minor_rad, h_ellipse, inner_tag, edge_tag)\n",
    "# fig = plt.figure()\n",
    "# img_mesh = mpimg.imread('example2-mesh.png')\n",
    "# plt.imshow(img_mesh)\n",
    "# plt.axis('off')\n",
    "# fig.set_size_inches(8, 8)\n",
    "visualization.plot_dolfin_mesh(ellipse_mesh, mf2, view_xy=True)"
   ]
  },
  {
   "attachments": {},
   "cell_type": "markdown",
   "id": "fe04ad6b",
   "metadata": {},
   "source": [
    "Write mesh and meshfunctions to file, then create `mesh.ParentMesh` object."
   ]
  },
  {
   "cell_type": "code",
   "execution_count": null,
   "id": "e15255a1",
   "metadata": {},
   "outputs": [],
   "source": [
    "\n",
    "mesh_folder = pathlib.Path(\"ellipse_mesh\")\n",
    "mesh_folder.mkdir(exist_ok=True)\n",
    "mesh_file = mesh_folder / \"ellipse_mesh.h5\"\n",
    "hdf5 = d.HDF5File(ellipse_mesh.mpi_comm(), str(mesh_file.with_suffix(\".h5\")), \"w\")\n",
    "hdf5.write(ellipse_mesh, \"/mesh\")\n",
    "hdf5.write(mf2, \"/mf2\")\n",
    "hdf5.write(mf1, \"/mf1\")\n",
    "# For visualization of domains\n",
    "d.File(str(mesh_file.with_stem(mesh_file.stem + \"_mf2\").with_suffix(\".pvd\"))) << mf2\n",
    "d.File(str(mesh_file.with_stem(mesh_file.stem + \"_mf1\").with_suffix(\".pvd\"))) << mf1\n",
    "\n",
    "parent_mesh = mesh.ParentMesh(\n",
    "    mesh_filename=str(mesh_file),\n",
    "    mesh_filetype=\"hdf5\",\n",
    "    name=\"parent_mesh\",\n",
    ")"
   ]
  },
  {
   "attachments": {},
   "cell_type": "markdown",
   "id": "d1c0cab2",
   "metadata": {},
   "source": [
    "Initialize model and solvers."
   ]
  },
  {
   "cell_type": "code",
   "execution_count": null,
   "id": "b059df37",
   "metadata": {},
   "outputs": [],
   "source": [
    "configCur = config.Config()\n",
    "configCur.solver.update(\n",
    "    {\n",
    "        \"final_t\": 5.0,\n",
    "        \"initial_dt\": 0.05,\n",
    "        \"time_precision\": 6,\n",
    "        \"use_snes\": True,\n",
    "        \"print_assembly\": False,\n",
    "    }\n",
    ")\n",
    "\n",
    "modelCur = model.Model(pc, sc, cc, rc, configCur, parent_mesh)\n",
    "modelCur.initialize(initialize_solver=False)\n",
    "modelCur.initialize_discrete_variational_problem_and_solver()"
   ]
  },
  {
   "attachments": {},
   "cell_type": "markdown",
   "id": "e97c54a3",
   "metadata": {},
   "source": [
    "Save model information to .pkl file and write initial conditions to file."
   ]
  },
  {
   "cell_type": "code",
   "execution_count": null,
   "id": "274cc41d",
   "metadata": {},
   "outputs": [],
   "source": [
    "modelCur.to_pickle('modelCur.pkl')\n",
    "results = dict()\n",
    "result_folder = pathlib.Path(\"resultsEllipse\")\n",
    "result_folder.mkdir(exist_ok=True)\n",
    "for species_name, species in modelCur.sc.items:\n",
    "    results[species_name] = d.XDMFFile(\n",
    "        modelCur.mpi_comm_world, str(result_folder / f\"{species_name}.xdmf\")\n",
    "    )\n",
    "    results[species_name].parameters[\"flush_output\"] = True\n",
    "    results[species_name].write(modelCur.sc[species_name].u[\"u\"], modelCur.t)"
   ]
  },
  {
   "attachments": {},
   "cell_type": "markdown",
   "id": "355a426e",
   "metadata": {},
   "source": [
    "Solve the system until `modelCur.t > modelCur.final_t`."
   ]
  },
  {
   "cell_type": "code",
   "execution_count": null,
   "id": "40b213ea",
   "metadata": {},
   "outputs": [],
   "source": [
    "tvec = [0]\n",
    "avg_A = [A.initial_condition]\n",
    "while True:\n",
    "    # Solve the system\n",
    "    modelCur.monolithic_solve()\n",
    "    # Save results for post processing\n",
    "    for species_name, species in modelCur.sc.items:\n",
    "        results[species_name].write(modelCur.sc[species_name].u[\"u\"], modelCur.t)\n",
    "    dx = d.Measure(\"dx\",domain = modelCur.cc['Cyto'].dolfin_mesh)\n",
    "    int_val = d.assemble(modelCur.sc['A'].u['u']*dx)\n",
    "    volume = d.assemble(1.0*dx)\n",
    "    avg_A.append(int_val / volume)\n",
    "    tvec.append(modelCur.t)\n",
    "    # End if we've passed the final time\n",
    "    if modelCur.t >= modelCur.final_t:\n",
    "        break"
   ]
  },
  {
   "attachments": {},
   "cell_type": "markdown",
   "id": "52c0fd7e",
   "metadata": {},
   "source": [
    "Now we plot the concentration of A in the cell over time and compare this to analytical predictions for high value of the diffusion coefficient."
   ]
  },
  {
   "cell_type": "code",
   "execution_count": null,
   "id": "4afd3149",
   "metadata": {},
   "outputs": [],
   "source": [
    "plt.plot(tvec, avg_A, label='SMART simulation')\n",
    "plt.xlabel('Time (s)')\n",
    "plt.ylabel('A concentration (uM)')\n",
    "SA_vol = 4/(major_rad + minor_rad)\n",
    "root_vals = np.roots([-kon.value,\n",
    "                      -kon.value*X.initial_condition*SA_vol - koff.value + kon.value*A.initial_condition,\n",
    "                      koff.value*A.initial_condition])\n",
    "ss_pred = root_vals[root_vals > 0]\n",
    "plt.plot(tvec, np.ones(len(avg_A))*ss_pred, '--', label='Steady-state analytical prediction')\n",
    "plt.legend()\n",
    "assert np.abs(ss_pred-avg_A[-1])/ss_pred < 0.1/100"
   ]
  },
  {
   "attachments": {},
   "cell_type": "markdown",
   "id": "05f30a3c",
   "metadata": {},
   "source": [
    "Plot A concentration in the cell at the final time point."
   ]
  },
  {
   "cell_type": "code",
   "execution_count": null,
   "id": "d950b475",
   "metadata": {},
   "outputs": [],
   "source": [
    "visualization.plot(modelCur.sc[\"A\"].u[\"u\"], view_xy=True)"
   ]
  },
  {
   "attachments": {},
   "cell_type": "markdown",
   "id": "1e3490f5",
   "metadata": {},
   "source": [
    "Now iterate over three different cell aspect ratios and compare dynamics between cases."
   ]
  },
  {
   "cell_type": "code",
   "execution_count": null,
   "id": "11f1f9b9",
   "metadata": {},
   "outputs": [],
   "source": [
    "aspect_ratios = [1, 1.5, 2, 4]\n",
    "ss_calc = [avg_A[-1]]\n",
    "for i in range(1, len(aspect_ratios)):\n",
    "    # Create mesh\n",
    "    h_ellipse = 0.1\n",
    "    major_rad = 1.0*aspect_ratios[i]\n",
    "    minor_rad = 1.0/aspect_ratios[i]\n",
    "    inner_tag = 1\n",
    "    edge_tag = 3\n",
    "    ellipse_mesh, mf1, mf2 = mesh_tools.DemoEllipseMesh(major_rad, minor_rad, h_ellipse, inner_tag, edge_tag)\n",
    "    mesh_folder = pathlib.Path(f\"ellipse_mesh_AR{aspect_ratios[i]}\")\n",
    "    mesh_folder.mkdir(exist_ok=True)\n",
    "    mesh_file = mesh_folder / \"ellipse_mesh.h5\"\n",
    "    hdf5 = d.HDF5File(ellipse_mesh.mpi_comm(), str(mesh_file.with_suffix(\".h5\")), \"w\")\n",
    "    hdf5.write(ellipse_mesh, \"/mesh\")\n",
    "    hdf5.write(mf2, \"/mf2\")\n",
    "    hdf5.write(mf1, \"/mf1\")\n",
    "    # For visualization of domains\n",
    "    d.File(str(mesh_file.with_stem(mesh_file.stem + \"_mf2\").with_suffix(\".pvd\"))) << mf2\n",
    "    d.File(str(mesh_file.with_stem(mesh_file.stem + \"_mf1\").with_suffix(\".pvd\"))) << mf1\n",
    "    parent_mesh = mesh.ParentMesh(\n",
    "        mesh_filename=str(mesh_file),\n",
    "        mesh_filetype=\"hdf5\",\n",
    "        name=\"parent_mesh\",\n",
    "    )\n",
    "    configCur = config.Config()\n",
    "    configCur.solver.update(\n",
    "        {\n",
    "            \"final_t\": 5.0,\n",
    "            \"initial_dt\": 0.05,\n",
    "            \"time_precision\": 6,\n",
    "            \"use_snes\": True,\n",
    "            \"print_assembly\": False,\n",
    "        }\n",
    "    )\n",
    "    modelCur = model.Model(pc, sc, cc, rc, configCur, parent_mesh)\n",
    "    modelCur.initialize(initialize_solver=False)\n",
    "    modelCur.initialize_discrete_variational_problem_and_solver()\n",
    "    results = dict()\n",
    "    result_folder = pathlib.Path(\"resultsEllipse_AR{aspect_ratios[i]}\")\n",
    "    result_folder.mkdir(exist_ok=True)\n",
    "    for species_name, species in modelCur.sc.items:\n",
    "        results[species_name] = d.XDMFFile(\n",
    "            modelCur.mpi_comm_world, str(result_folder / f\"{species_name}.xdmf\")\n",
    "        )\n",
    "        results[species_name].parameters[\"flush_output\"] = True\n",
    "        results[species_name].write(modelCur.sc[species_name].u[\"u\"], modelCur.t)\n",
    "        tvec = [0]\n",
    "    avg_A = [A.initial_condition]\n",
    "    while True:\n",
    "        # Solve the system\n",
    "        modelCur.monolithic_solve()\n",
    "        # Save results for post processing\n",
    "        for species_name, species in modelCur.sc.items:\n",
    "            results[species_name].write(modelCur.sc[species_name].u[\"u\"], modelCur.t)\n",
    "        dx = d.Measure(\"dx\",domain = modelCur.cc['Cyto'].dolfin_mesh)\n",
    "        int_val = d.assemble(modelCur.sc['A'].u['u']*dx)\n",
    "        volume = d.assemble(1.0*dx)\n",
    "        avg_A.append(int_val / volume)\n",
    "        tvec.append(modelCur.t)\n",
    "        # End if we've passed the final time\n",
    "        if modelCur.t >= modelCur.final_t:\n",
    "            break\n",
    "    plt.plot(tvec, avg_A)\n",
    "    ss_calc.append(avg_A[-1])"
   ]
  },
  {
   "attachments": {},
   "cell_type": "markdown",
   "id": "e6f0010a",
   "metadata": {},
   "source": [
    "Compare steady-state values with those from past runs using SMART (regression test):"
   ]
  },
  {
   "cell_type": "code",
   "execution_count": null,
   "id": "086acd7a",
   "metadata": {},
   "outputs": [],
   "source": [
    "ss_stored = [0.4139461050700552, 0.38031028434564446, 0.326981289191557, 0.18809307969607147]\n",
    "assert max((np.array(ss_stored) - np.array(ss_calc))/np.array(ss_stored)) < .01/100"
   ]
  }
 ],
 "metadata": {
  "jupytext": {
   "cell_metadata_filter": "-all",
   "main_language": "python",
   "notebook_metadata_filter": "-all"
  },
  "kernelspec": {
   "display_name": "Python 3",
   "language": "python",
   "name": "python3"
  },
  "language_info": {
   "codemirror_mode": {
    "name": "ipython",
    "version": 3
   },
   "file_extension": ".py",
   "mimetype": "text/x-python",
   "name": "python",
   "nbconvert_exporter": "python",
   "pygments_lexer": "ipython3",
   "version": "3.10.6"
  },
  "vscode": {
   "interpreter": {
    "hash": "916dbcbb3f70747c44a77c7bcd40155683ae19c65e1c03b4aa3499c5328201f1"
   }
  }
 },
 "nbformat": 4,
 "nbformat_minor": 5
}
