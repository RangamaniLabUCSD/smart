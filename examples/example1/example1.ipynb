{
 "cells": [
  {
   "attachments": {},
   "cell_type": "markdown",
   "id": "f65f18d7",
   "metadata": {},
   "source": [
    "# Simple example showcasing some of the features of STUBS\n",
    "\n",
    "Geometry is divided into 4 domains; two volumes, and two surfaces:\n",
    "- PM\n",
    "- Cytosol\n",
    "- Cytosol\n",
    "\n",
    "TODO: Add some proper definitions of the geometries\n",
    "\n",
    "There are three function-spaces on the three domains:\n",
    "```\n",
    "- u[Cyto] = [A, B]\n",
    "- u[ERm]  = [R, Ro]\n",
    "- u[ER]   = [AER]\n",
    "```\n",
    "\n",
    "TODO: Write out the equations\n",
    "\n",
    "Roughly, this model is similar to an IP3 pulse at the PM, leading to Ca2+ release at the ER"
   ]
  },
  {
   "cell_type": "code",
   "execution_count": null,
   "id": "cc398816",
   "metadata": {},
   "outputs": [],
   "source": [
    "import os\n",
    "import logging\n",
    "\n",
    "import dolfin as d\n",
    "import sympy as sym\n",
    "\n",
    "from smart import config, common, mesh, model, mesh_tools\n",
    "from smart.model_assembly import (\n",
    "    Compartment,\n",
    "    Parameter,\n",
    "    Reaction,\n",
    "    Species,\n",
    "    SpeciesContainer,\n",
    "    ParameterContainer,\n",
    "    CompartmentContainer,\n",
    "    ReactionContainer,\n",
    ")\n",
    "from smart.units import unit"
   ]
  },
  {
   "attachments": {},
   "cell_type": "markdown",
   "id": "c8650536",
   "metadata": {},
   "source": [
    "We will set the logging level to `INFO`. This will display some output during the simulation. If you want to get even more output you could set the logging level to `DEBUG`."
   ]
  },
  {
   "cell_type": "code",
   "execution_count": null,
   "id": "9ed0899a",
   "metadata": {},
   "outputs": [],
   "source": [
    "logger = logging.getLogger(\"smart\")\n",
    "logger.setLevel(logging.INFO)"
   ]
  },
  {
   "attachments": {},
   "cell_type": "markdown",
   "id": "defc1095",
   "metadata": {},
   "source": [
    "Futhermore, you could also save the logs to a file by attaching a file handler to the logger as follows.\n",
    "\n",
    "```python\n",
    "file_handler = logging.FileHandler(\"filename.log\")\n",
    "file_handler.setFormatter(logging.Formatter(smart.config.base_format))\n",
    "logger.addHandler(file_handler)\n",
    "```"
   ]
  },
  {
   "attachments": {},
   "cell_type": "markdown",
   "id": "95b9d865",
   "metadata": {},
   "source": [
    "First, we define the various units for the inputs"
   ]
  },
  {
   "cell_type": "code",
   "execution_count": null,
   "id": "4f4023cf",
   "metadata": {},
   "outputs": [],
   "source": [
    "# Aliases - base units\n",
    "uM = unit.uM\n",
    "um = unit.um\n",
    "molecule = unit.molecule\n",
    "sec = unit.sec\n",
    "# Aliases - units used in model\n",
    "D_unit = um**2 / sec\n",
    "flux_unit = molecule / (um**2 * sec)\n",
    "vol_unit = uM\n",
    "surf_unit = molecule / um**2"
   ]
  },
  {
   "attachments": {},
   "cell_type": "markdown",
   "id": "46582d26",
   "metadata": {},
   "source": [
    "## Generate model\n",
    "Next we generate the model.\n",
    "\n",
    "\n",
    "### Species\n",
    "TODO: Write about the species. What is a the purpose of this, and how does this fit into the model\n",
    "name, initial concentration, concentration units, diffusion, diffusion units, compartment"
   ]
  },
  {
   "cell_type": "code",
   "execution_count": null,
   "id": "b2f34b3c",
   "metadata": {},
   "outputs": [],
   "source": [
    "A = Species(\"A\", 0.01, vol_unit, 1.0, D_unit, \"Cyto\")\n",
    "B = Species(\"B\", 0.0, vol_unit, 1.0, D_unit, \"Cyto\")\n",
    "AER = Species(\"AER\", 200.0, vol_unit, 5.0, D_unit, \"ER\")\n",
    "# Lets create an algebraic expression to define the initial condition of R\n",
    "Rinit = \"(sin(40*y) + cos(40*z) + sin(40*x) + 3) * (y-x)**2\"\n",
    "R1 = Species(\"R1\", Rinit, surf_unit, 0.02, D_unit, \"ERm\")\n",
    "R1o = Species(\"R1o\", 0.0, surf_unit, 0.02, D_unit, \"ERm\")\n",
    "# R2    = Species('R2'  , Rinit, surf_unit, 0   , D_unit, 'ERm')"
   ]
  },
  {
   "attachments": {},
   "cell_type": "markdown",
   "id": "d93ce862",
   "metadata": {},
   "source": [
    "Create a species container"
   ]
  },
  {
   "cell_type": "code",
   "execution_count": null,
   "id": "e86bebaf",
   "metadata": {},
   "outputs": [],
   "source": [
    "sc = SpeciesContainer()\n",
    "sc.add([R1o, R1, AER, B, A])"
   ]
  },
  {
   "attachments": {},
   "cell_type": "markdown",
   "id": "0a6acf0b",
   "metadata": {},
   "source": [
    "### Compartments\n",
    "\n",
    "TODO: Write about the compartments. What is a the purpose of this, and how does this fit into the model"
   ]
  },
  {
   "cell_type": "code",
   "execution_count": null,
   "id": "8d991278",
   "metadata": {},
   "outputs": [],
   "source": [
    "Cyto = Compartment(\"Cyto\", 3, um, 1)\n",
    "PM = Compartment(\"PM\", 2, um, 10)\n",
    "ER = Compartment(\"ER\", 3, um, 2)\n",
    "ERm = Compartment(\"ERm\", 2, um, 12)\n",
    "PM.specify_nonadjacency(['ERm', 'ER'])\n",
    "ERm.specify_nonadjacency(['PM'])"
   ]
  },
  {
   "attachments": {},
   "cell_type": "markdown",
   "id": "b60826cc",
   "metadata": {},
   "source": [
    "Create a compartment container"
   ]
  },
  {
   "cell_type": "code",
   "execution_count": null,
   "id": "701577e8",
   "metadata": {},
   "outputs": [],
   "source": [
    "cc = CompartmentContainer()\n",
    "cc.add([ERm, ER, PM, Cyto])"
   ]
  },
  {
   "attachments": {},
   "cell_type": "markdown",
   "id": "af900a73",
   "metadata": {},
   "source": [
    "###  Parameters and Reactions\n",
    "\n",
    "TODO: Add more info\n",
    "Pulse function for B input at the PM\n",
    "One way to prescribe a \"pulse-like\" flux is to define the flux as the derivative of a sigmoid\n",
    "(here we choose atan as the sigmoid because of its simple derivative)"
   ]
  },
  {
   "cell_type": "code",
   "execution_count": null,
   "id": "d2120ac6",
   "metadata": {},
   "outputs": [],
   "source": [
    "Vmax, t0, m = 500, 0.1, 200\n",
    "t = sym.symbols(\"t\")\n",
    "pulseI = Vmax * sym.atan(m * (t - t0))\n",
    "pulse = sym.diff(pulseI, t)\n",
    "j1pulse = Parameter.from_expression(\n",
    "    \"j1pulse\", pulse, flux_unit, use_preintegration=True, preint_sym_expr=pulseI\n",
    ")\n",
    "r1 = Reaction(\n",
    "    \"r1\",\n",
    "    [],\n",
    "    [\"B\"],\n",
    "    param_map={\"J\": \"j1pulse\"},\n",
    "    eqn_f_str=\"J\",\n",
    "    explicit_restriction_to_domain=\"PM\",\n",
    ")\n",
    "\n",
    "# Degradation of B in the cytosol\n",
    "k2f = Parameter(\"k2f\", 10, 1 / sec)\n",
    "r2 = Reaction(\n",
    "    \"r2\", [\"B\"], [], param_map={\"on\": \"k2f\"}, reaction_type=\"mass_action_forward\"\n",
    ")\n",
    "\n",
    "# Activating receptors on ERm with B\n",
    "k3f = Parameter(\"k3f\", 100, 1 / (uM * sec))\n",
    "k3r = Parameter(\"k3r\", 100, 1 / sec)\n",
    "r3 = Reaction(\"r3\", [\"B\", \"R1\"], [\"R1o\"], {\"on\": \"k3f\", \"off\": \"k3r\"})\n",
    "Reaction()\n",
    "# Release of A from ERm to cytosol\n",
    "k4Vmax = Parameter(\"k4Vmax\", 2000, 1 / (uM * sec))\n",
    "r4 = Reaction(\n",
    "    \"r4\",\n",
    "    [\"AER\"],\n",
    "    [\"A\"],\n",
    "    param_map={\"Vmax\": \"k4Vmax\"},\n",
    "    species_map={\"R1o\": \"R1o\", \"uER\": \"AER\", \"u\": \"A\"},\n",
    "    eqn_f_str=\"Vmax*R1o*(uER-u)\",\n",
    ")"
   ]
  },
  {
   "attachments": {},
   "cell_type": "markdown",
   "id": "3d883c6e",
   "metadata": {},
   "source": [
    "Create containers"
   ]
  },
  {
   "cell_type": "code",
   "execution_count": null,
   "id": "8ae2c2c1",
   "metadata": {},
   "outputs": [],
   "source": [
    "pc = ParameterContainer()\n",
    "pc.add([k4Vmax, k3r, k3f, k2f, j1pulse])\n",
    "\n",
    "rc = ReactionContainer()\n",
    "rc.add([r4, r3, r2, r1])"
   ]
  },
  {
   "attachments": {},
   "cell_type": "markdown",
   "id": "15c35d39",
   "metadata": {},
   "source": [
    "We load the model generated above, and load in the mesh we will use in this example.\n",
    "\n",
    "\n",
    "## Create/load in mesh\n",
    "\n",
    "In SMART we have different levels of meshes. Here we create a UnitCube mesh defined by\n",
    "\n",
    "$$\n",
    "\\Omega = [0, 1] \\times [0, 1] \\times [0, 1] \\subset \\mathbb{R}^3\n",
    "$$\n",
    "\n",
    "which will serve as out parent mesh\n",
    "\n",
    "There is also the notion of child meshes...."
   ]
  },
  {
   "cell_type": "code",
   "execution_count": null,
   "id": "e77f97fe",
   "metadata": {},
   "outputs": [],
   "source": [
    "domain, facet_markers, cell_markers = common.DemoCuboidsMesh()"
   ]
  },
  {
   "attachments": {},
   "cell_type": "markdown",
   "id": "035113ed",
   "metadata": {},
   "source": [
    "Since ? we turn of PM? on all sides. We do this by setting the facet markers whose $x$ value is greater than zero and that are already marked as ? (How do we know that the value we select should be 10?)"
   ]
  },
  {
   "cell_type": "code",
   "execution_count": null,
   "id": "fe56e162",
   "metadata": {},
   "outputs": [],
   "source": [
    "\n",
    "# Base mesh\n",
    "domain, facet_markers, cell_markers = mesh_tools.DemoCuboidsMesh()\n",
    "# Turn off \"PM\" on all sides of the cube except x=0\n",
    "for face in d.faces(domain):\n",
    "    if face.midpoint().x() > d.DOLFIN_EPS and facet_markers[face] == 10:\n",
    "        facet_markers[face] = 0\n"
   ]
  },
  {
   "attachments": {},
   "cell_type": "markdown",
   "id": "c17ebcbb",
   "metadata": {},
   "source": [
    "In order to load this into a `ParentMesh` object, we need to first save it"
   ]
  },
  {
   "cell_type": "code",
   "execution_count": null,
   "id": "5657aab1",
   "metadata": {},
   "outputs": [],
   "source": [
    "os.makedirs(\"mesh\", exist_ok=True)\n",
    "mesh_tools.write_mesh(domain, facet_markers, cell_markers, filename=\"mesh/DemoCuboidsMesh\")\n",
    "\n",
    "Now we can create a parent mesh. Explain what this is. Can we visualize it?"
   ]
  },
  {
   "cell_type": "code",
   "execution_count": null,
   "id": "2e323fd7",
   "metadata": {},
   "outputs": [],
   "source": [
    "parent_mesh = mesh.ParentMesh(\n",
    "    mesh_filename=\"mesh/DemoCuboidsMesh.h5\",\n",
    "    mesh_filetype=\"hdf5\",\n",
    "    name=\"parent_mesh\",\n",
    ")"
   ]
  },
  {
   "attachments": {},
   "cell_type": "markdown",
   "id": "0f1cf8a4",
   "metadata": {},
   "source": [
    "Now we are ready to set up the model. First we load the default configurations.\n",
    "\n"
   ]
  },
  {
   "cell_type": "code",
   "execution_count": null,
   "id": "8c1a2a92",
   "metadata": {},
   "outputs": [],
   "source": [
    "conf = config.Config()\n",
    "conf.solver.update(\n",
    "    {\n",
    "        \"final_t\": 1,\n",
    "        \"initial_dt\": 0.01,\n",
    "        \"time_precision\": 6,\n",
    "        \"use_snes\": True,\n",
    "        \"print_assembly\": False,\n",
    "    }\n",
    ")\n",
    "print(conf)"
   ]
  },
  {
   "attachments": {},
   "cell_type": "markdown",
   "id": "1511acc7",
   "metadata": {},
   "source": [
    "\n",
    "We create a model using the different containers and the parent mesh. "
   ]
  },
  {
   "cell_type": "code",
   "execution_count": null,
   "id": "e3c3c30f",
   "metadata": {},
   "outputs": [],
   "source": [
    "model = model.Model(pc, sc, cc, rc, conf, parent_mesh)\n",
    "print(model)"
   ]
  },
  {
   "attachments": {},
   "cell_type": "markdown",
   "id": "dfb70c74",
   "metadata": {},
   "source": [
    "Next we need to initialize the model"
   ]
  },
  {
   "cell_type": "code",
   "execution_count": null,
   "id": "c8976aa2",
   "metadata": {},
   "outputs": [],
   "source": [
    "model.initialize(initialize_solver=False)\n",
    "model.initialize_discrete_variational_problem_and_solver()"
   ]
  },
  {
   "attachments": {},
   "cell_type": "markdown",
   "id": "d05a1a75",
   "metadata": {},
   "source": [
    "We create some XDMF files where we will store the output "
   ]
  },
  {
   "cell_type": "code",
   "execution_count": null,
   "id": "5df9509e",
   "metadata": {},
   "outputs": [],
   "source": [
    "\n",
    "# Write initial condition(s) to file\n",
    "results = dict()\n",
    "os.makedirs(\"results\", exist_ok=True)\n",
    "for species_name, species in model.sc.items:\n",
    "    results[species_name] = d.XDMFFile(\n",
    "        model.mpi_comm_world, f\"results/{species_name}.xdmf\"\n",
    "    )\n",
    "    results[species_name].parameters[\"flush_output\"] = True\n",
    "    results[species_name].write(model.sc[species_name].u[\"u\"], model.t)"
   ]
  },
  {
   "attachments": {},
   "cell_type": "markdown",
   "id": "183376e6",
   "metadata": {},
   "source": [
    "We now run the the solver"
   ]
  },
  {
   "cell_type": "code",
   "execution_count": null,
   "id": "31d42278",
   "metadata": {},
   "outputs": [],
   "source": [
    "# Solve\n",
    "while model.t <  model.final_t:\n",
    "    # Solve the system\n",
    "    model.monolithic_solve()\n",
    "    # Save results for post processing\n",
    "    for species_name, species in model.sc.items:\n",
    "        results[species_name].write(model.sc[species_name].u[\"u\"], model.t)\n"
   ]
  },
  {
   "attachments": {},
   "cell_type": "markdown",
   "id": "e11917d7",
   "metadata": {},
   "source": [
    "Could we visualize the solution?"
   ]
  }
 ],
 "metadata": {
  "jupytext": {
   "cell_metadata_filter": "-all",
   "main_language": "python",
   "notebook_metadata_filter": "-all"
  },
  "kernelspec": {
   "display_name": "Python 3 (ipykernel)",
   "language": "python",
   "name": "python3"
  },
  "language_info": {
   "codemirror_mode": {
    "name": "ipython",
    "version": 3
   },
   "file_extension": ".py",
   "mimetype": "text/x-python",
   "name": "python",
   "nbconvert_exporter": "python",
   "pygments_lexer": "ipython3",
   "version": "3.10.6"
  },
  "vscode": {
   "interpreter": {
    "hash": "916dbcbb3f70747c44a77c7bcd40155683ae19c65e1c03b4aa3499c5328201f1"
   }
  }
 },
 "nbformat": 4,
 "nbformat_minor": 5
}
