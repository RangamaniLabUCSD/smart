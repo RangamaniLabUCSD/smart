{
 "cells": [
  {
   "attachments": {},
   "cell_type": "markdown",
   "id": "f65f18d7",
   "metadata": {},
   "source": [
    "# Example 3: Protein phosphorylation and diffusion in 3D cell geometry\n",
    "\n",
    "Here, we implement the model of protein phosphorylation at the cell membrane and diffusion in the cytosol from [Meyers, Craig, and Odde 2006, Current Biology](https://doi.org/10.1016/j.cub.2006.07.056).\n",
    "\n",
    "This model geometry consists of 2 domains - one surface and one volume:\n",
    "- plasma membrane (PM) - cell surface\n",
    "- cytosol - intracellular volume\n",
    "\n",
    "In this case, we only model the case of a spherical cell, where the cytosol corresponds to the interior of the sphere and the PM corresponds to the surface of the sphere.\n",
    "\n",
    "This model includes a single species, A, which is phosphorylated at the cell membrane. The unphosphorylated form of A ($A_{dephos}$) can be computed from mass conservation; everywhere $c_{A_{phos}} + c_{A_{dephos}} = c_{Tot}$, which is a constant in both time and space if the phosphorylated vs. unphosphorylated forms have the same diffusion coefficient.\n",
    "\n",
    "There are two reactions - one in the PM and other in the cytosol. At the membrane, $A_{dephos}$ is phosphorylated by a first-order reaction with rate $k_{kin}$, and in the cytosolic volume, $A_{phos}$ is dephosphorylated by a first order reaction with rate $k_p$. The resulting equations are:\n",
    "\n",
    "$$\n",
    "\\frac{\\partial{c_{A_{phos}}}}{\\partial{t}} = D_{A_{phos}} \\nabla ^2 c_{A_{phos}} - k_p c_{A_{phos}} \\quad \\text{in} \\; \\Omega_{Cyto}\\\\\n",
    "\\text{B.C.:} \\quad D_{A_{phos}}  (\\textbf{n} \\cdot \\nabla c_{A_{phos}})  = k_{kin} c_{A_{dephos}} \\quad \\text{on} \\; \\Gamma_{PM}\n",
    "$$\n",
    "\n",
    "where we note that $c_{A_{dephos}} = c_{Tot} - c_{A_{phos}}$ in the boundary condition due to mass conservation.\n",
    "\n",
    "In this file, we test this model over multiple cell sizes and compare the results to analytical predictions. Please note that because we are testing several different geometries, this file may take an hour or more to complete execution."
   ]
  },
  {
   "cell_type": "code",
   "execution_count": null,
   "id": "cc398816",
   "metadata": {},
   "outputs": [],
   "source": [
    "import dolfin as d\n",
    "import numpy as np\n",
    "import pathlib\n",
    "import logging\n",
    "\n",
    "from smart import config, mesh, model, mesh_tools\n",
    "from smart.units import unit\n",
    "import sympy as sym\n",
    "import gmsh  # must be imported before pyvista if dolfin is imported first\n",
    "\n",
    "from smart import config, mesh, model, mesh_tools, visualization\n",
    "from smart.model_assembly import (\n",
    "    Compartment,\n",
    "    Parameter,\n",
    "    Reaction,\n",
    "    Species,\n",
    "    SpeciesContainer,\n",
    "    ParameterContainer,\n",
    "    CompartmentContainer,\n",
    "    ReactionContainer,\n",
    ")\n",
    "\n",
    "from matplotlib import pyplot as plt\n",
    "from matplotlib import rcParams"
   ]
  },
  {
   "attachments": {},
   "cell_type": "markdown",
   "id": "da1c6bd5",
   "metadata": {},
   "source": [
    "We will set the logging level to `INFO`. This will display some output during the simulation. If you want to get even more output you could set the logging level to `DEBUG`."
   ]
  },
  {
   "cell_type": "code",
   "execution_count": null,
   "id": "30403c71",
   "metadata": {},
   "outputs": [],
   "source": [
    "logger = logging.getLogger(\"smart\")\n",
    "logger.setLevel(logging.INFO)"
   ]
  },
  {
   "attachments": {},
   "cell_type": "markdown",
   "id": "2943a2f9",
   "metadata": {},
   "source": [
    "Futhermore, you could also save the logs to a file by attaching a file handler to the logger as follows.\n",
    "\n",
    "```\n",
    "file_handler = logging.FileHandler(\"filename.log\")\n",
    "file_handler.setFormatter(logging.Formatter(smart.config.base_format))\n",
    "logger.addHandler(file_handler)\n",
    "```"
   ]
  },
  {
   "attachments": {},
   "cell_type": "markdown",
   "id": "95b9d865",
   "metadata": {},
   "source": [
    "Now, we define various units used in this problem."
   ]
  },
  {
   "cell_type": "code",
   "execution_count": null,
   "id": "4f4023cf",
   "metadata": {},
   "outputs": [],
   "source": [
    "uM = unit.uM\n",
    "um = unit.um\n",
    "molecule = unit.molecule\n",
    "sec = unit.sec\n",
    "dimensionless = unit.dimensionless\n",
    "D_unit = um**2 / sec\n",
    "flux_unit = molecule / (um**2 * sec)\n",
    "vol_unit = uM"
   ]
  },
  {
   "attachments": {},
   "cell_type": "markdown",
   "id": "46582d26",
   "metadata": {},
   "source": [
    "## Generate model\n",
    "Next we generate the model, which consists of four containers - compartments, species, reactions, and parameters.\n",
    "\n",
    "### Compartments\n",
    "As described above, the two compartments are the cytosol (\"Cyto\") and the plasma membrane (\"PM\"). These are initialized by calling:\n",
    "```\n",
    "compartment_var = Compartment(name, dimensionality, compartment_units, cell_marker)\n",
    "```\n",
    "where\n",
    "- name: string naming the compartment\n",
    "- dimensionality: topological dimensionality (i.e. 3 for Cyto, 2 for PM)\n",
    "- compartment_units: length units for the compartment (um for both here)\n",
    "- cell_marker: integer marker value identifying each compartment in the parent mesh"
   ]
  },
  {
   "cell_type": "code",
   "execution_count": null,
   "id": "8ec50252",
   "metadata": {},
   "outputs": [],
   "source": [
    "Cyto = Compartment(\"Cyto\", 3, um, 1)\n",
    "PMleft = Compartment(\"PMleft\", 2, um, 10)\n",
    "PMright = Compartment(\"PMright\", 2, um, 11)\n",
    "PMfront = Compartment(\"PMfront\", 2, um, 12)\n",
    "PMback = Compartment(\"PMback\", 2, um, 13)\n",
    "PMbottom = Compartment(\"PMbottom\", 2, um, 14)\n",
    "PMtop = Compartment(\"PMtop\", 2, um, 15)"
   ]
  },
  {
   "attachments": {},
   "cell_type": "markdown",
   "id": "12b4d3d6",
   "metadata": {},
   "source": [
    "Create a compartment container."
   ]
  },
  {
   "cell_type": "code",
   "execution_count": null,
   "id": "44349455",
   "metadata": {},
   "outputs": [],
   "source": [
    "cc = CompartmentContainer()\n",
    "cc.add([PMleft, PMright, PMfront, PMback, PMtop, PMbottom, Cyto])"
   ]
  },
  {
   "attachments": {},
   "cell_type": "markdown",
   "id": "105b9b7e",
   "metadata": {},
   "source": [
    "### Species\n",
    "In this case, we have a single species, \"A\", which exists in the cytosol. A single species is initialized by calling:\n",
    "```\n",
    "species_var = Species(\n",
    "            name, initial_condition, concentration_units,\n",
    "            D, diffusion_units, compartment_name, group (opt)\n",
    "        )\n",
    "```\n",
    "where\n",
    "- name: string naming the species\n",
    "- initial_condition: initial concentration for this species (can be an expression given by a string to be parsed by sympy - the only unknowns in the expression should be x, y, and z)\n",
    "- concentration_units: concentration units for this species (μM here)\n",
    "- D: diffusion coefficient\n",
    "- diffusion_units: units for diffusion coefficient (μm<sup>2</sup>/sec here)\n",
    "- compartment_name: each species should be assigned to a single compartment (\"Cyto\", here)\n",
    "- group (opt): for larger models, specifies a group of species this belongs to;\n",
    "            for organizational purposes when there are multiple reaction modules"
   ]
  },
  {
   "cell_type": "code",
   "execution_count": null,
   "id": "2aeb8fe6",
   "metadata": {},
   "outputs": [],
   "source": [
    "Aphos = Species(\"Aphos\", 0.0, vol_unit, 10.0, D_unit, \"Cyto\")"
   ]
  },
  {
   "attachments": {},
   "cell_type": "markdown",
   "id": "a80747e1",
   "metadata": {},
   "source": [
    "Create a species container."
   ]
  },
  {
   "cell_type": "code",
   "execution_count": null,
   "id": "a8f3e7e0",
   "metadata": {},
   "outputs": [],
   "source": [
    "sc = SpeciesContainer()\n",
    "sc.add([Aphos])"
   ]
  },
  {
   "attachments": {},
   "cell_type": "markdown",
   "id": "26a28c1d",
   "metadata": {},
   "source": [
    "### Parameters and Reactions\n",
    "Parameters and reactions are generally defined together, although the order does not strictly matter. Parameters are specified as:\n",
    "```\n",
    "param_var = Parameter(name, value, unit, group (opt), notes (opt), use_preintegration (opt))\n",
    "```\n",
    "where\n",
    "- name: string naming the parameter\n",
    "- value: value of the given parameter\n",
    "- unit: units associated with given value\n",
    "- group (optional): optional string placing this reaction in a reaction group; for organizational purposes when there are multiple reaction modules\n",
    "- notes (optional): string related to this parameter\n",
    "- use_preintegration (optional): in the case of a time-dependent parameter, uses preintegration in the solution process\n",
    "\n",
    "Reactions are specified by a variable number of arguments (arguments are indicated by (opt) are either never\n",
    "required or only required in some cases, for more details see notes below and API documentation):\n",
    "```\n",
    "reaction_var = Reaction(\n",
    "                name, lhs, rhs, param_map,\n",
    "                eqn_f_str (opt), eqn_r_str (opt), reaction_type (opt), species_map,\n",
    "                explicit_restriction_to_domain (opt), group (opt), flux_scaling (opt)\n",
    "            )\n",
    "```\n",
    "- name: string naming the reaction\n",
    "- lhs: list of strings specifying the reactants for this reaction\n",
    "- rhs: list of strings specifying the products for this reaction\n",
    "    ***NOTE: the lists \"reactants\" and \"products\" determine the stoichiometry of the reaction;\n",
    "       for instance, if two A's react to give one B, the reactants list would be [\"A\",\"A\"],\n",
    "       and the products list would be [\"B\"]\n",
    "- param_map: relationship between the parameters specified in the reaction string and those given\n",
    "              in the parameter container. By default, the reaction parameters are \"kon\" and \"koff\" when\n",
    "              a system obeys simple mass action. If the forward rate is given by a parameter \"k1\" and the\n",
    "              reverse rate is given by \"k2\", then param_map = {\"on\":\"k1\", \"off\":\"k2\"}\n",
    "- eqn_f_str: For systems not obeying simple mass action, this string specifies the forward reaction rate\n",
    "             By default, this string is \"on*{all reactants multiplied together}\"\n",
    "- eqn_r_str: For systems not obeying simple mass action, this string specifies the reverse reaction rate\n",
    "             By default, this string is \"off*{all products multiplied together}\"\n",
    "- reaction_type (opt): either \"custom\" or \"mass_action\" (default is \"mass_action\") [never a required argument]\n",
    "- species_map: same format as param_map; required if other species not listed in reactants or products appear in the\n",
    "            reaction string\n",
    "- explicit_restriction_to_domain: string specifying where the reaction occurs; required if the reaction is not\n",
    "                                  constrained by the reaction string (e.g., if production occurs only at the boundary,\n",
    "                                  as it does here, but the species being produced exists through the entire volume)\n",
    "- group (opt): string placing this reaction in a reaction group; for organizational purposes when there are multiple reaction modules\n",
    "- flux_scaling (opt): in certain cases, a given reactant or product may experience a scaled flux (for instance, if we assume that\n",
    "                some of the molecules are immediately sequestered after the reaction); in this case, to signify that this flux \n",
    "                should be rescaled, we specify ''flux_scaling = {scaled_species: scale_factor}'', where scaled_species is a\n",
    "                string specifying the species to be scaled and scale_factor is a number specifying the rescaling factor"
   ]
  },
  {
   "cell_type": "code",
   "execution_count": null,
   "id": "7cebdcf1",
   "metadata": {},
   "outputs": [],
   "source": [
    "Atot = Parameter(\"Atot\", 1.0, vol_unit)\n",
    "# Phosphorylation of Adephos at the PM\n",
    "kkin = Parameter(\"kkin\", 50.0, 1/sec)\n",
    "curRadius = 2  # first radius value to test\n",
    "# vol to surface area ratio of the cell (overwritten for each cell size)\n",
    "VolSA = Parameter(\"VolSA\", curRadius/3, um)\n",
    "r1 = []\n",
    "for PMsub in [\"PMleft\", \"PMright\", \"PMfront\", \"PMback\", \"PMbottom\", \"PMtop\"]:\n",
    "    r1.append(Reaction(f\"r1_{PMsub}\", [], [\"Aphos\"], param_map={\"kon\": \"kkin\", \"Atot\": \"Atot\", \"VolSA\": \"VolSA\"},\n",
    "              eqn_f_str=\"kon*VolSA*(Atot - Aphos)\", species_map={\"Aphos\": \"Aphos\"}, explicit_restriction_to_domain=PMsub))\n",
    "# Dephosphorylation of Aphos in the cytosol\n",
    "kp = Parameter(\"kp\", 10.0, 1/sec)\n",
    "r2 = Reaction(\"r2\", [\"Aphos\"], [], param_map={\"kon\": \"kp\"},\n",
    "              eqn_f_str=\"kp*Aphos\", species_map={\"Aphos\": \"Aphos\"})"
   ]
  },
  {
   "attachments": {},
   "cell_type": "markdown",
   "id": "430c8b6e",
   "metadata": {},
   "source": [
    "Create parameter and reaction containers."
   ]
  },
  {
   "cell_type": "code",
   "execution_count": null,
   "id": "09079b17",
   "metadata": {},
   "outputs": [],
   "source": [
    "pc = ParameterContainer()\n",
    "pc.add([Atot, kkin, VolSA, kp])\n",
    "\n",
    "rc = ReactionContainer()\n",
    "rc.add([*r1, r2])"
   ]
  },
  {
   "attachments": {},
   "cell_type": "markdown",
   "id": "48c25774",
   "metadata": {},
   "source": [
    "## Create/load in mesh\n",
    "\n",
    "In SMART we have different levels of meshes. Here, for our first mesh, we specify a sphere of radius 1.\n",
    "\n",
    "$$\n",
    "\\Omega: r \\in [0, 1] \\subset \\mathbb{R}^3\\\\\n",
    "\\text{where} \\qquad r = \\sqrt{x^2 + y^2 + z^2}\n",
    "$$\n",
    "\n",
    "which will serve as our parent mesh, giving the overall cell geometry.\n",
    "\n",
    "Different domains can be specified within this parent mesh by assigning marker values to cells (3D) or facets (2D) within the mesh. A subdomain within the parent mesh, defined by a region which shares the same marker value, is referred to as a child mesh.\n",
    "\n",
    "Here, we have two child meshes corresponding to the 2 compartments specified in the compartment container. As defined above, \"PM\" is a 2D compartment defined by facets with marker value 10 and \"Cyto\" is a 3D compartment defined by cells with marker value 1. These subdomains are defined by:\n",
    "- $\\Omega_{Cyto}: r \\in [0, 1) \\subset \\mathbb{R}^3$\n",
    "- $\\Gamma_{PM}: r=1 \\subset \\mathbb{R}^3$\n",
    "\n",
    "We generate the parent mesh with appropriate markers using gmsh in the function `mesh_tools.create_spheres`"
   ]
  },
  {
   "cell_type": "code",
   "execution_count": null,
   "id": "308b6a58",
   "metadata": {},
   "outputs": [],
   "source": [
    "# Base mesh\n",
    "# 0 in second argument corresponds to no inner sphere\n",
    "xSize, ySize, zSize = 2.0, 2.0, 2.0\n",
    "domain = d.BoxMesh(d.Point(0.0, 0.0, 0.0), d.Point(xSize, ySize, zSize), 10, 10, 10)\n",
    "cell_markers = d.MeshFunction(\"size_t\", domain, 3, 1)\n",
    "facet_markers = d.MeshFunction(\"size_t\", domain, 2, 0)\n",
    "for f in d.facets(domain):\n",
    "    x, y, z = f.midpoint()[:]\n",
    "    if np.isclose(x, 0.):\n",
    "        facet_markers[f] = 10\n",
    "    elif np.isclose(x, xSize):\n",
    "        facet_markers[f] = 11\n",
    "    elif np.isclose(y, 0.):\n",
    "        facet_markers[f] = 12\n",
    "    elif np.isclose(y, ySize):\n",
    "        facet_markers[f] = 13\n",
    "    elif np.isclose(z, 0.):\n",
    "        facet_markers[f] = 14\n",
    "    elif np.isclose(z, zSize):\n",
    "        facet_markers[f] = 15\n",
    "# domain, facet_markers, cell_markers = mesh_tools.create_spheres(curRadius, 0, hEdge=0.05, hInnerEdge=0.05)\n",
    "# visualization.plot_dolfin_mesh(domain, cell_markers, facet_markers)"
   ]
  },
  {
   "attachments": {},
   "cell_type": "markdown",
   "id": "3967a934",
   "metadata": {},
   "source": [
    "In order to load this into a `ParentMesh` object, we need to first save it and then load it in using the `smart.mesh.ParentMesh` function"
   ]
  },
  {
   "cell_type": "code",
   "execution_count": null,
   "id": "94a798bd",
   "metadata": {},
   "outputs": [],
   "source": [
    "# Write mesh and meshfunctions to file\n",
    "mesh_folder = pathlib.Path(f\"mesh_{curRadius:03f}/\")\n",
    "mesh_folder.mkdir(exist_ok=True)\n",
    "mesh_file = mesh_folder / \"DemoSphere.h5\"\n",
    "mesh_tools.write_mesh(domain, facet_markers, cell_markers, filename=mesh_file)\n",
    "# # Define parent mesh\n",
    "parent_mesh = mesh.ParentMesh(\n",
    "    str(mesh_file),\n",
    "    mesh_filetype=\"hdf5\",\n",
    "    name=\"parent_mesh\",\n",
    ")"
   ]
  },
  {
   "cell_type": "markdown",
   "id": "309e5e8a",
   "metadata": {},
   "source": [
    "Define manufactured solution and associated reactions. To not make the choice of manufactured solution completely arbitrary, we have chosen it as a multiplication of three solutions to the PDE in 1D, then multiplied by some time-dependence governed by the time-scale of protein dephosphorylation in the cytosol."
   ]
  },
  {
   "cell_type": "code",
   "execution_count": null,
   "id": "6ce6af50",
   "metadata": {},
   "outputs": [],
   "source": [
    "x = sym.Symbol('x')\n",
    "y = sym.Symbol('y')\n",
    "z = sym.Symbol('z')\n",
    "t = sym.Symbol('t')\n",
    "k_kin = kkin.value*VolSA.value\n",
    "k_p = kp.value\n",
    "cT = Atot.value\n",
    "D = Aphos.D\n",
    "xFactor = xSize / np.sqrt(3*D/k_p)\n",
    "Ax = (k_kin*xSize/(2*D))*np.exp(xFactor) / ((xFactor/2)*(np.exp(xFactor)-1) + (k_kin*xSize/(2*D))*(1+np.exp(xFactor)))\n",
    "Bx = (k_kin*xSize/(2*D)) / ((xFactor/2)*(np.exp(xFactor)-1) + (k_kin*xSize/(2*D))*(1+np.exp(xFactor)))\n",
    "yFactor = ySize / np.sqrt(3*D/k_p)\n",
    "Ay = (k_kin*ySize/(2*D))*np.exp(yFactor) / ((yFactor/2)*(np.exp(yFactor)-1) + (k_kin*ySize/(2*D))*(1+np.exp(yFactor)))\n",
    "By = (k_kin*ySize/(2*D)) / ((yFactor/2)*(np.exp(yFactor)-1) + (k_kin*ySize/(2*D))*(1+np.exp(yFactor)))\n",
    "zFactor = zSize / np.sqrt(3*D/k_p)\n",
    "Az = (k_kin*zSize/(2*D))*np.exp(zFactor) / ((zFactor/2)*(np.exp(zFactor)-1) + (k_kin*zSize/(2*D))*(1+np.exp(zFactor)))\n",
    "Bz = (k_kin*zSize/(2*D)) / ((zFactor/2)*(np.exp(zFactor)-1) + (k_kin*zSize/(2*D))*(1+np.exp(zFactor)))\n",
    "expFactor = np.sqrt(k_p/(3*D))\n",
    "Asol = cT * ((Ax*sym.exp(-expFactor*x) + Bx*sym.exp(expFactor*x)) * \n",
    "                (Ay*sym.exp(-expFactor*y) + By*sym.exp(expFactor*y)) * \n",
    "                (Az*sym.exp(-expFactor*z) + Bz*sym.exp(expFactor*z)) *\n",
    "                (1 - sym.exp(-k_kin*t)))\n",
    "f = sym.diff(Asol, t) - D*(sym.diff(sym.diff(Asol,x),x) + sym.diff(sym.diff(Asol,y),y) + sym.diff(sym.diff(Asol,z),z)) + k_p*Asol\n",
    "f_parameter = Parameter.from_expression(\"f_parameter\", str(f), uM/sec)#, use_preintegration=True)\n",
    "f_reaction = Reaction(\"f_reaction\", [], [\"Aphos\"], param_map={\"k\": \"f_parameter\"}, species_map={}, eqn_f_str=\"k\")\n",
    "pc.add([f_parameter])\n",
    "rc.add([f_reaction])\n",
    "\n",
    "gleft = -D*sym.diff(Asol,x) - k_kin*(Atot.value-Asol)\n",
    "gleft.subs(x, 0.0)\n",
    "gright = D*sym.diff(Asol,x) - k_kin*(Atot.value-Asol)\n",
    "gright.subs(x, xSize)\n",
    "gfront = -D*sym.diff(Asol,y) - k_kin*(Atot.value-Asol)\n",
    "gfront.subs(y, 0.0)\n",
    "gback = D*sym.diff(Asol,y) - k_kin*(Atot.value-Asol)\n",
    "gback.subs(y, ySize)\n",
    "gbottom = -D*sym.diff(Asol,z) - k_kin*(Atot.value-Asol)\n",
    "gbottom.subs(z, 0.0)\n",
    "gtop = D*sym.diff(Asol,z) - k_kin*(Atot.value-Asol)\n",
    "gtop.subs(z, zSize)\n",
    "\n",
    "g_params = []\n",
    "g_reactions = []\n",
    "PMsub_list = [\"PMleft\", \"PMright\", \"PMfront\", \"PMback\", \"PMbottom\", \"PMtop\"]\n",
    "gExpr_list = [gleft,  gright,  gfront,  gback,  gbottom,  gtop]\n",
    "for i in range(len(PMsub_list)):\n",
    "    g_params.append(Parameter.from_expression(f\"gParam_{PMsub_list[i]}\", gExpr_list[i], uM*um/sec))#, use_preintegration=True))\n",
    "    g_reactions.append(Reaction(f\"g_{PMsub_list[i]}\", [], [\"Aphos\"], param_map={\"k\": f\"gParam_{PMsub_list[i]}\"}, \n",
    "                                species_map={}, eqn_f_str=\"k\", explicit_restriction_to_domain=PMsub_list[i]))\n",
    "pc.add(g_params)\n",
    "rc.add(g_reactions)"
   ]
  },
  {
   "attachments": {},
   "cell_type": "markdown",
   "id": "b432d407",
   "metadata": {},
   "source": [
    "## Initialize model and solver\n",
    "\n",
    "Now we modify the solver configuration for this problem. In the solver config, we set the final t as 1 s, the initial dt at .01 s (without any additional specifications, this will be the time step for the whole simulation), and the time precision (number of digits after the decimal point to round to) as 6."
   ]
  },
  {
   "cell_type": "code",
   "execution_count": null,
   "id": "7bf8b98a",
   "metadata": {},
   "outputs": [],
   "source": [
    "config_cur = config.Config()\n",
    "model_cur = model.Model(pc, sc, cc, rc, config_cur, parent_mesh)\n",
    "config_cur.solver.update(\n",
    "    {\n",
    "        \"final_t\": 1,\n",
    "        \"initial_dt\": 0.01,\n",
    "        \"time_precision\": 6,\n",
    "    }\n",
    ")\n",
    "config_cur.flags.update({\"allow_unused_components\": True})"
   ]
  },
  {
   "attachments": {},
   "cell_type": "markdown",
   "id": "06cb53e8",
   "metadata": {},
   "source": [
    "Now we initialize the model and solver. "
   ]
  },
  {
   "cell_type": "code",
   "execution_count": null,
   "id": "fc885ec7",
   "metadata": {},
   "outputs": [],
   "source": [
    "model_cur.initialize()"
   ]
  },
  {
   "attachments": {},
   "cell_type": "markdown",
   "id": "b76d21d2",
   "metadata": {},
   "source": [
    "## Solve model and store output\n",
    "\n",
    "We create XDMF files where we will store the output and store model information in a .pkl file."
   ]
  },
  {
   "cell_type": "code",
   "execution_count": null,
   "id": "e7b52bac",
   "metadata": {},
   "outputs": [],
   "source": [
    "# Write initial condition(s) to file\n",
    "results = dict()\n",
    "result_folder = pathlib.Path(f\"resultsSphere_{curRadius:03f}\")\n",
    "result_folder.mkdir(exist_ok=True)\n",
    "for species_name, species in model_cur.sc.items:\n",
    "    results[species_name] = d.XDMFFile(\n",
    "        model_cur.mpi_comm_world, str(result_folder / f\"{species_name}.xdmf\")\n",
    "    )\n",
    "    results[species_name].parameters[\"flush_output\"] = True\n",
    "    results[species_name].write(model_cur.sc[species_name].u[\"u\"], model_cur.t)\n",
    "\n",
    "model_cur.to_pickle('model_cur.pkl')"
   ]
  },
  {
   "attachments": {},
   "cell_type": "markdown",
   "id": "6d917ded",
   "metadata": {},
   "source": [
    "We now run the solver until t reaches final_t, recording the average Aphos concentration at each time point. Then plot the final concentration profile using pyvista."
   ]
  },
  {
   "cell_type": "code",
   "execution_count": null,
   "id": "351eac3f",
   "metadata": {},
   "outputs": [],
   "source": [
    "# Set loglevel to warning in order not to pollute notebook output\n",
    "logger.setLevel(logging.WARNING)\n",
    "\n",
    "# save integration measure and volume for computing average Aphos at each time step\n",
    "dx = d.Measure(\"dx\", domain=model_cur.cc['Cyto'].dolfin_mesh)\n",
    "volume = d.assemble_mixed(1.0*dx)\n",
    "# Solve\n",
    "avg_Aphos = [Aphos.initial_condition]\n",
    "x, y, z = (sym.Symbol(f\"x[{i}]\") for i in range(3))\n",
    "from sympy.parsing.sympy_parser import parse_expr\n",
    "sym_expr = parse_expr(str(Asol)).subs({\"x\": x, \"y\": y, \"z\": z, \"t\": model_cur.t})\n",
    "Asol_expr = d.Expression(sym.printing.ccode(sym_expr), degree=3)\n",
    "avg_Asol = [d.assemble_mixed(Asol_expr*dx)/volume]\n",
    "L2_vec = [d.assemble_mixed((Asol_expr-model_cur.sc[\"Aphos\"].u[\"u\"])**2 *dx)]\n",
    "while True:\n",
    "    # Solve the system\n",
    "    model_cur.monolithic_solve()\n",
    "    # Save results for post processing\n",
    "    for species_name, species in model_cur.sc.items:\n",
    "        results[species_name].write(model_cur.sc[species_name].u[\"u\"], model_cur.t)\n",
    "    # compute average Aphos concentration at each time step\n",
    "    int_val = d.assemble_mixed(model_cur.sc['Aphos'].u['u']*dx)\n",
    "    avg_Aphos.append(int_val / volume)\n",
    "    sym_expr = parse_expr(str(Asol)).subs({\"x\": x, \"y\": y, \"z\": z, \"t\": model_cur.t})\n",
    "    Asol_expr = d.Expression(sym.printing.ccode(sym_expr), degree=3)\n",
    "    avg_Asol.append(d.assemble_mixed(Asol_expr*dx)/volume)\n",
    "    L2_vec.append(d.assemble_mixed((Asol_expr-model_cur.sc[\"Aphos\"].u[\"u\"])**2 *dx))\n",
    "    # End if we've passed the final time\n",
    "    if model_cur.t >= model_cur.final_t:\n",
    "        break\n",
    "# visualization.plot(model_cur.sc['Aphos'].u['u'])"
   ]
  },
  {
   "attachments": {},
   "cell_type": "markdown",
   "id": "04401157",
   "metadata": {},
   "source": [
    "We plot the average Aphos over time."
   ]
  },
  {
   "cell_type": "code",
   "execution_count": null,
   "id": "68d353b0",
   "metadata": {},
   "outputs": [],
   "source": [
    "plt.plot(model_cur.tvec, avg_Aphos)\n",
    "plt.plot(model_cur.tvec, avg_Asol, linestyle=\"dashed\")\n",
    "plt.xlabel('Time (s)')\n",
    "plt.ylabel('Aphos concentration (μM)')"
   ]
  }
 ],
 "metadata": {
  "jupytext": {
   "cell_metadata_filter": "-all",
   "main_language": "python",
   "notebook_metadata_filter": "-all"
  },
  "kernelspec": {
   "display_name": "Python 3",
   "language": "python",
   "name": "python3"
  },
  "language_info": {
   "codemirror_mode": {
    "name": "ipython",
    "version": 3
   },
   "file_extension": ".py",
   "mimetype": "text/x-python",
   "name": "python",
   "nbconvert_exporter": "python",
   "pygments_lexer": "ipython3",
   "version": "3.10.12"
  },
  "vscode": {
   "interpreter": {
    "hash": "916dbcbb3f70747c44a77c7bcd40155683ae19c65e1c03b4aa3499c5328201f1"
   }
  }
 },
 "nbformat": 4,
 "nbformat_minor": 5
}
