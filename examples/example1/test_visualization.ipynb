{
 "cells": [
  {
   "cell_type": "code",
   "execution_count": null,
   "metadata": {},
   "outputs": [],
   "source": [
    "import dolfin as d\n",
    "from smart import visualization\n",
    "import pyvista\n",
    "import numpy as np\n",
    "\n",
    "# Set some global options for all plots\n",
    "transparent = False\n",
    "figsize = 800\n",
    "pyvista.rcParams[\"background\"] = [0.5, 0.5, 0.5]\n",
    "\n",
    "x_size = 1.0\n",
    "y_size = 1.0\n",
    "m = 20; n = int(x_size/y_size)*m\n",
    "# rect_mesh = d.RectangleMesh(d.Point(0.0, 0.0), d.Point(x_size, y_size), n, m)\n",
    "rect_mesh = d.UnitCubeMesh(m, m, m)\n",
    "mf2 = d.MeshFunction(\"size_t\", rect_mesh, 3, 1)\n",
    "mf1 = d.MeshFunction(\"size_t\", rect_mesh, 2, 0)\n",
    "for c in d.cells(rect_mesh):\n",
    "    x_vals = np.zeros(4)\n",
    "    y_vals = np.zeros(4)\n",
    "    idx = 0\n",
    "    for vertex in d.vertices(c):\n",
    "        x_vals[idx] = vertex.point().array()[0]\n",
    "        y_vals[idx] = vertex.point().array()[1]\n",
    "        idx = idx+1\n",
    "    if np.mean(x_vals) < 0.5:\n",
    "        mf2[c] = 2\n",
    "visualization.plot_dolfin_mesh(rect_mesh, mf2)"
   ]
  }
 ],
 "metadata": {
  "kernelspec": {
   "display_name": "Python 3",
   "language": "python",
   "name": "python3"
  },
  "language_info": {
   "codemirror_mode": {
    "name": "ipython",
    "version": 3
   },
   "file_extension": ".py",
   "mimetype": "text/x-python",
   "name": "python",
   "nbconvert_exporter": "python",
   "pygments_lexer": "ipython3",
   "version": "3.10.6"
  }
 },
 "nbformat": 4,
 "nbformat_minor": 2
}
