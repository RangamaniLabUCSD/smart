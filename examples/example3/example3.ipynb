{
 "cells": [
  {
   "attachments": {},
   "cell_type": "markdown",
   "id": "f65f18d7",
   "metadata": {},
   "source": [
    "# Example 3: Protein phosphorylation and diffusion in 3D cell geometry\n",
    "\n",
    "Here, we implement the model of protein phosphorylation at the cell membrane and diffusion in the cytosol from [Meyers, Craig, and Odde 2006, Current Biology](https://doi.org/10.1016/j.cub.2006.07.056).\n",
    "\n",
    "This model geometry consists of 2 domains - one surface and one volume:\n",
    "- plasma membrane (PM) - cell surface\n",
    "- cytosol - intracellular volume\n",
    "\n",
    "In this case, we only model the case of a spherical cell, where the cytosol corresponds to the interior of the sphere and the PM corresponds to the surface of the sphere.\n",
    "\n",
    "This model includes a single species, A, which is phosphorylated at the cell membrane. The unphosphorylated form of A ($A_{dephos}$) can be computed from mass conservation; everywhere $c_{A_{phos}} + c_{A_{dephos}} = c_{Tot}$, which is a constant in both time and space if the phosphorylated vs. unphosphorylated forms have the same diffusion coefficient.\n",
    "\n",
    "There are two reactions - one in the PM and other in the cytosol. At the membrane, $A_{dephos}$ is phosphorylated by a first-order reaction with rate $k_{kin}$, and in the cytosolic volume, $A_{phos}$ is dephosphorylated by a first order reaction with rate $k_p$.\n"
   ]
  },
  {
   "cell_type": "code",
   "execution_count": null,
   "id": "cc398816",
   "metadata": {},
   "outputs": [],
   "source": [
    "import dolfin as d\n",
    "import numpy as np\n",
    "import pathlib\n",
    "import logging\n",
    "\n",
    "from smart import config, mesh, model, mesh_tools\n",
    "from smart.units import unit\n",
    "import sympy as sym\n",
    "import gmsh # must be imported before pyvista if dolfin is imported first\n",
    "\n",
    "from smart import config, common, mesh, model, mesh_tools, visualization\n",
    "from smart.model_assembly import (\n",
    "    Compartment,\n",
    "    Parameter,\n",
    "    Reaction,\n",
    "    Species,\n",
    "    SpeciesContainer,\n",
    "    ParameterContainer,\n",
    "    CompartmentContainer,\n",
    "    ReactionContainer,\n",
    ")\n",
    "\n",
    "from matplotlib import pyplot as plt\n",
    "import matplotlib.image as mpimg\n",
    "from matplotlib import rcParams\n",
    "%matplotlib inline"
   ]
  },
  {
   "attachments": {},
   "cell_type": "markdown",
   "id": "da1c6bd5",
   "metadata": {},
   "source": [
    "We will set the logging level to `INFO`. This will display some output during the simulation. If you want to get even more output you could set the logging level to `DEBUG`."
   ]
  },
  {
   "cell_type": "code",
   "execution_count": null,
   "id": "30403c71",
   "metadata": {},
   "outputs": [],
   "source": [
    "logger = logging.getLogger(\"smart\")\n",
    "logger.setLevel(logging.INFO)"
   ]
  },
  {
   "attachments": {},
   "cell_type": "markdown",
   "id": "2943a2f9",
   "metadata": {},
   "source": [
    "Futhermore, you could also save the logs to a file by attaching a file handler to the logger as follows.\n",
    "\n",
    "```python\n",
    "file_handler = logging.FileHandler(\"filename.log\")\n",
    "file_handler.setFormatter(logging.Formatter(smart.config.base_format))\n",
    "logger.addHandler(file_handler)\n",
    "```"
   ]
  },
  {
   "attachments": {},
   "cell_type": "markdown",
   "id": "95b9d865",
   "metadata": {},
   "source": [
    "Now, we define various units used in this problem."
   ]
  },
  {
   "cell_type": "code",
   "execution_count": null,
   "id": "4f4023cf",
   "metadata": {},
   "outputs": [],
   "source": [
    "# Aliases - base units\n",
    "uM = unit.uM\n",
    "um = unit.um\n",
    "molecule = unit.molecule\n",
    "sec = unit.sec\n",
    "dimensionless = unit.dimensionless\n",
    "# Aliases - units used in model\n",
    "D_unit = um**2 / sec\n",
    "flux_unit = molecule / (um**2 * sec)\n",
    "vol_unit = uM"
   ]
  },
  {
   "attachments": {},
   "cell_type": "markdown",
   "id": "46582d26",
   "metadata": {},
   "source": [
    "## Generate model\n",
    "Next we generate the model, which consists of four containers - compartments, species, reactions, and parameters.\n",
    "\n",
    "### Compartments\n",
    "As described above, the two compartments are the cytosol (\"Cyto\") and the plasma membrane (\"PM\"). These are initialized by calling:\n",
    "```\n",
    "compartment_var = Compartment(name, dimensionality, compartment_units, cell_marker)\n",
    "```\n",
    "where\n",
    "- name = string naming the compartment\n",
    "- dimensionality = topological dimensionality (i.e. 3 for Cyto, 2 for PM)\n",
    "- compartment_units = length units for the compartment (um for both here)\n",
    "- cell_marker = integer marker value identifying each compartment in the parent mesh"
   ]
  },
  {
   "cell_type": "code",
   "execution_count": null,
   "id": "8ec50252",
   "metadata": {},
   "outputs": [],
   "source": [
    "Cyto = Compartment(\"Cyto\", 3, um, 1)\n",
    "PM = Compartment(\"PM\", 2, um, 10)"
   ]
  },
  {
   "attachments": {},
   "cell_type": "markdown",
   "id": "12b4d3d6",
   "metadata": {},
   "source": [
    "Create a compartment container."
   ]
  },
  {
   "cell_type": "code",
   "execution_count": null,
   "id": "44349455",
   "metadata": {},
   "outputs": [],
   "source": [
    "cc = CompartmentContainer()\n",
    "cc.add([PM, Cyto])"
   ]
  },
  {
   "attachments": {},
   "cell_type": "markdown",
   "id": "105b9b7e",
   "metadata": {},
   "source": [
    "### Species\n",
    "In this case, we have a single species, \"A\", which exists in the cytosol. A single species is initialized by calling:\n",
    "```\n",
    "species_var = Species(\n",
    "            name, initial_condition, concentration_units,\n",
    "            D, diffusion_units, compartment_name, group (opt)\n",
    "        )\n",
    "```\n",
    "where\n",
    "- name = string naming the species\n",
    "- initial_condition = initial concentration for this species (can be an expression given by a string to be parsed by sympy - the only unknowns in the expression should be x, y, and z)\n",
    "- concentration_units = concentration units for this species (micromolar/uM here)\n",
    "- D = diffusion coefficient\n",
    "- diffusion_units = units for diffusion coefficient (um**2/sec here)\n",
    "- compartment_name = each species should be assigned to a single compartment (\"Cyto\", here)\n",
    "- group (opt): for larger models, specifies a group of species this belongs to;\n",
    "            for organizational purposes when there are multiple reaction modules"
   ]
  },
  {
   "cell_type": "code",
   "execution_count": null,
   "id": "2aeb8fe6",
   "metadata": {},
   "outputs": [],
   "source": [
    "Aphos = Species(\"Aphos\", 0.1, vol_unit, 10.0, D_unit, \"Cyto\")"
   ]
  },
  {
   "attachments": {},
   "cell_type": "markdown",
   "id": "a80747e1",
   "metadata": {},
   "source": [
    "Create a species container."
   ]
  },
  {
   "cell_type": "code",
   "execution_count": null,
   "id": "a8f3e7e0",
   "metadata": {},
   "outputs": [],
   "source": [
    "sc = SpeciesContainer()\n",
    "sc.add([Aphos])"
   ]
  },
  {
   "attachments": {},
   "cell_type": "markdown",
   "id": "26a28c1d",
   "metadata": {},
   "source": [
    "### Parameters and Reactions\n",
    "Parameters and reactions are generally defined together, although the order does not strictly matter. Parameters are specified as:\n",
    "```\n",
    "param_var = Parameter(name, value, unit, group (opt), notes (opt), use_preintegration (opt))\n",
    "```\n",
    "where\n",
    "- name: string naming the parameter\n",
    "- value: value of the given parameter\n",
    "- unit: units associated with given value\n",
    "- group (opt): optional string placing this reaction in a reaction group; for organizational purposes when there are multiple reaction modules\n",
    "- notes (optional): string related to this parameter\n",
    "- use_preintegration (optional): in the case of a time-dependent parameter, uses preintegration in the solution process\n",
    "\n",
    "Reactions are specified by a variable number of arguments (arguments are indicated by (opt) are either never\n",
    "required or only required in some cases, for more details see notes below and API documentation):\n",
    "```\n",
    "reaction_var = Reaction(\n",
    "                name, lhs, rhs, param_map,\n",
    "                eqn_f_str (opt), eqn_r_str (opt), reaction_type (opt), species_map,\n",
    "                explicit_restriction_to_domain (opt), group (opt), flux_scaling (opt)\n",
    "            )\n",
    "```\n",
    "- name: string naming the reaction\n",
    "- lhs: list of strings specifying the reactants for this reaction\n",
    "- rhs: list of strings specifying the products for this reaction\n",
    "    ***NOTE: the lists \"reactants\" and \"products\" determine the stoichiometry of the reaction;\n",
    "       for instance, if two A's react to give one B, the reactants list would be [\"A\",\"A\"],\n",
    "       and the products list would be [\"B\"]\n",
    "- param_map: relationship between the parameters specified in the reaction string and those given\n",
    "              in the parameter container. By default, the reaction parameters are \"kon\" and \"koff\" when\n",
    "              a system obeys simple mass action. If the forward rate is given by a parameter \"k1\" and the\n",
    "              reverse rate is given by \"k2\", then param_map = {\"on\":\"k1\", \"off\":\"k2\"}\n",
    "- eqn_f_str: For systems not obeying simple mass action, this string specifies the forward reaction rate\n",
    "             By default, this string is \"on*{all reactants multiplied together}\"\n",
    "- eqn_r_str: For systems not obeying simple mass action, this string specifies the reverse reaction rate\n",
    "             By default, this string is \"off*{all products multiplied together}\"\n",
    "- reaction_type (opt): either \"custom\" or \"mass_action\" (default is \"mass_action\") [never a required argument]\n",
    "- species_map: same format as param_map; required if other species not listed in reactants or products appear in the\n",
    "            reaction string\n",
    "- explicit_restriction_to_domain: string specifying where the reaction occurs; required if the reaction is not\n",
    "                                  constrained by the reaction string (e.g., if production occurs only at the boundary,\n",
    "                                  as it does here, but the species being produced exists through the entire volume)\n",
    "- group (opt): string placing this reaction in a reaction group; for organizational purposes when there are multiple reaction modules\n",
    "- flux_scaling (opt): in certain cases, a given reactant or product may experience a scaled flux (for instance, if we assume that\n",
    "                some of the molecules are immediately sequestered after the reaction); in this case, to signify that this flux \n",
    "                should be rescaled, we specify ''flux_scaling = {scaled_species: scale_factor}'', where scaled_species is a\n",
    "                string specifying the species to be scaled and scale_factor is a number specifying the rescaling factor"
   ]
  },
  {
   "cell_type": "code",
   "execution_count": null,
   "id": "7cebdcf1",
   "metadata": {},
   "outputs": [],
   "source": [
    "Atot = Parameter(\"Atot\", 1.0, vol_unit)\n",
    "# Phosphorylation of Adephos at the PM\n",
    "kkin = Parameter(\"kkin\", 50.0, 1/sec)\n",
    "curRadius = 1 # first radius value to test \n",
    "VolSA = Parameter(\"VolSA\", curRadius/3, um) # vol to surface area ratio of the cell (overwritten for each cell size)\n",
    "r1 = Reaction(\"r1\", [], [\"Aphos\"], param_map={\"kon\": \"kkin\", \"Atot\": \"Atot\", \"VolSA\": \"VolSA\"},\n",
    "    eqn_f_str=\"kon*VolSA*(Atot - Aphos)\", species_map={\"Aphos\": \"Aphos\"}, explicit_restriction_to_domain=\"PM\")\n",
    "# Dephosphorylation of Aphos in the cytosol\n",
    "kp = Parameter(\"kp\", 10.0, 1/sec)\n",
    "r2 = Reaction(\"r2\", [\"Aphos\"], [], param_map={\"kon\": \"kp\"},\n",
    "        eqn_f_str=\"kp*Aphos\", species_map={\"Aphos\": \"Aphos\"})"
   ]
  },
  {
   "attachments": {},
   "cell_type": "markdown",
   "id": "430c8b6e",
   "metadata": {},
   "source": [
    "Create parameter and reaction containers."
   ]
  },
  {
   "cell_type": "code",
   "execution_count": null,
   "id": "09079b17",
   "metadata": {},
   "outputs": [],
   "source": [
    "pc = ParameterContainer()\n",
    "pc.add([Atot, kkin, VolSA, kp])\n",
    "\n",
    "rc = ReactionContainer()\n",
    "rc.add([r1, r2])"
   ]
  },
  {
   "attachments": {},
   "cell_type": "markdown",
   "id": "48c25774",
   "metadata": {},
   "source": [
    "## Create/load in mesh\n",
    "\n",
    "In SMART we have different levels of meshes. Here, for our first mesh, we specify a sphere of radius 1.\n",
    "\n",
    "$$\n",
    "\\Omega: r \\in [0, 1] \\subset \\mathbb{R}^3\\\\\n",
    "\\text{where} \\qquad r = \\sqrt{x^2 + y^2 + z^2}\n",
    "$$\n",
    "\n",
    "which will serve as our parent mesh, giving the overall cell geometry.\n",
    "\n",
    "Different domains can be specified within this parent mesh by assigning marker values to cells (3D) or facets (2D) within the mesh. A subdomain within the parent mesh, defined by a region which shares the same marker value, is referred to as a child mesh.\n",
    "\n",
    "Here, we have two child meshes corresponding to the 2 compartments specified in the compartment container. As defined above, \"PM\" is a 2D compartment defined by facets with marker value 10 and \"Cyto\" is a 3D compartment defined by cells with marker value 1. These subdomains are defined by:\n",
    "- $\\Omega_{Cyto}: r \\in [0, 1) \\subset \\mathbb{R}^3$\n",
    "- $\\Gamma_{PM}: r=1 \\subset \\mathbb{R}^3$\n",
    "\n",
    "We generate the parent mesh with appropriate markers using gmsh in the function \"DemoSpheresMesh\""
   ]
  },
  {
   "cell_type": "code",
   "execution_count": null,
   "id": "308b6a58",
   "metadata": {},
   "outputs": [],
   "source": [
    "# Base mesh\n",
    "# 0 in second argument corresponds to no inner sphere\n",
    "domain, facet_markers, cell_markers = mesh_tools.create_spheres(curRadius, 0, hEdge=0.2)\n",
    "visualization.plot_dolfin_mesh(domain, cell_markers, facet_markers)"
   ]
  },
  {
   "attachments": {},
   "cell_type": "markdown",
   "id": "3967a934",
   "metadata": {},
   "source": [
    "In order to load this into a `ParentMesh` object, we need to first save it and then load it in using the `smart.mesh.ParentMesh` function"
   ]
  },
  {
   "cell_type": "code",
   "execution_count": null,
   "id": "94a798bd",
   "metadata": {},
   "outputs": [],
   "source": [
    "# Write mesh and meshfunctions to file\n",
    "mesh_folder = pathlib.Path(f\"mesh_{curRadius:03f}/\")\n",
    "mesh_folder.mkdir(exist_ok=True)\n",
    "mesh_file = mesh_folder / \"DemoSphere.h5\"\n",
    "mesh_tools.write_mesh(domain, facet_markers, cell_markers, filename=mesh_file)\n",
    "# # Define parent mesh\n",
    "parent_mesh = mesh.ParentMesh(\n",
    "    str(mesh_file),\n",
    "    mesh_filetype=\"hdf5\",\n",
    "    name=\"parent_mesh\",\n",
    ")"
   ]
  },
  {
   "attachments": {},
   "cell_type": "markdown",
   "id": "b432d407",
   "metadata": {},
   "source": [
    "## Initialize model and solver\n",
    "\n",
    "Now we modify the solver configuration for this problem. In the solver config, we set the final t as 1 s, the initial dt at .01 s (without any additional specifications, this will be the time step for the whole simulation), and the time precision (number of digits after the decimal point to round to) as 6. We indicate we are using the SNES solver within PETSc and suppress printing the assembly of the linear system."
   ]
  },
  {
   "cell_type": "code",
   "execution_count": null,
   "id": "7bf8b98a",
   "metadata": {},
   "outputs": [],
   "source": [
    "configCur = config.Config()\n",
    "model_cur = model.Model(pc, sc, cc, rc, configCur, parent_mesh)\n",
    "configCur.solver.update(\n",
    "    {\n",
    "        \"final_t\": 1,\n",
    "        \"initial_dt\": 0.01,\n",
    "        \"time_precision\": 6,\n",
    "        \"use_snes\": True,\n",
    "        \"print_assembly\": False,\n",
    "    }\n",
    ")"
   ]
  },
  {
   "attachments": {},
   "cell_type": "markdown",
   "id": "06cb53e8",
   "metadata": {},
   "source": [
    "Now we initialize the model and solver. "
   ]
  },
  {
   "cell_type": "code",
   "execution_count": null,
   "id": "fc885ec7",
   "metadata": {},
   "outputs": [],
   "source": [
    "model_cur.initialize(initialize_solver=False)\n",
    "model_cur.initialize_discrete_variational_problem_and_solver()"
   ]
  },
  {
   "attachments": {},
   "cell_type": "markdown",
   "id": "b76d21d2",
   "metadata": {},
   "source": [
    "## Solve model and store output\n",
    "\n",
    "We create XDMF files where we will store the output and store model information in a .pkl file."
   ]
  },
  {
   "cell_type": "code",
   "execution_count": null,
   "id": "e7b52bac",
   "metadata": {},
   "outputs": [],
   "source": [
    "# Write initial condition(s) to file\n",
    "results = dict()\n",
    "result_folder = pathlib.Path(f\"resultsSphere_{curRadius:03f}\")\n",
    "result_folder.mkdir(exist_ok=True)\n",
    "for species_name, species in model_cur.sc.items:\n",
    "    results[species_name] = d.XDMFFile(\n",
    "        model_cur.mpi_comm_world, str(result_folder / f\"{species_name}.xdmf\")\n",
    "    )\n",
    "    results[species_name].parameters[\"flush_output\"] = True\n",
    "    results[species_name].write(model_cur.sc[species_name].u[\"u\"], model_cur.t)\n",
    "\n",
    "model_cur.to_pickle('model_cur.pkl')"
   ]
  },
  {
   "attachments": {},
   "cell_type": "markdown",
   "id": "6d917ded",
   "metadata": {},
   "source": [
    "We now run the solver until t reaches final_t, recording the average Aphos concentration at each time point. Then plot the final concentration profile using pyvista."
   ]
  },
  {
   "cell_type": "code",
   "execution_count": null,
   "id": "351eac3f",
   "metadata": {},
   "outputs": [],
   "source": [
    "# Set loglevel to warning in order not to pollute notebook output\n",
    "logger.setLevel(logging.WARNING)\n",
    "\n",
    "# Solve\n",
    "avg_Aphos = []\n",
    "tvec = []\n",
    "while True:\n",
    "    # Solve the system\n",
    "    model_cur.monolithic_solve()\n",
    "    # Save results for post processing\n",
    "    for species_name, species in model_cur.sc.items:\n",
    "        results[species_name].write(model_cur.sc[species_name].u[\"u\"], model_cur.t)\n",
    "    # compute average Aphos concentration at each time step\n",
    "    dx = d.Measure(\"dx\",domain = model_cur.cc['Cyto'].dolfin_mesh)\n",
    "    int_val = d.assemble(model_cur.sc['Aphos'].u['u']*dx)\n",
    "    volume = d.assemble(1.0*dx)\n",
    "    avg_Aphos.append(int_val / volume)\n",
    "    tvec.append(model_cur.t)\n",
    "    # End if we've passed the final time\n",
    "    if model_cur.t >= model_cur.final_t:\n",
    "        break\n",
    "visualization.plot(model_cur.sc['Aphos'].u['u'])"
   ]
  },
  {
   "attachments": {},
   "cell_type": "markdown",
   "id": "04401157",
   "metadata": {},
   "source": [
    "We plot the average Aphos over time."
   ]
  },
  {
   "cell_type": "code",
   "execution_count": null,
   "id": "68d353b0",
   "metadata": {},
   "outputs": [],
   "source": [
    "plt.plot(tvec, avg_Aphos)\n",
    "plt.xlabel('Time (s)')\n",
    "plt.ylabel('Aphos concentration (μM)')"
   ]
  },
  {
   "attachments": {},
   "cell_type": "markdown",
   "id": "15c35d39",
   "metadata": {},
   "source": [
    "Now we repeat this process for other values of cell radii, to test the dependence of steady state calcium concentration on cell size"
   ]
  },
  {
   "cell_type": "code",
   "execution_count": null,
   "id": "fe56e162",
   "metadata": {},
   "outputs": [],
   "source": [
    "radiusVec = np.logspace(0,1,num=10) # currently testing 10 radius values\n",
    "ss_vec = np.zeros(len(radiusVec))\n",
    "ss_vec[0] = avg_Aphos[-1]\n",
    "plt.plot(tvec, avg_Aphos)\n",
    "plt.xlabel('Time (s)')\n",
    "plt.ylabel('Aphos concentration (μM)')\n",
    "\n",
    "for i in range(1,len(radiusVec)):\n",
    "    curRadius = radiusVec[i]\n",
    "    avg_Aphos = []\n",
    "    tvec = []\n",
    "    pc['VolSA'].value = curRadius/3\n",
    "\n",
    "    # =============================================================================================\n",
    "    # Create/load in mesh\n",
    "    # =============================================================================================\n",
    "    # Base mesh\n",
    "    # 0 in second argument corresponds to no inner sphere\n",
    "    domain, facet_markers, cell_markers = mesh_tools.DemoSpheresMesh(curRadius, 0, hEdge = 0.2)\n",
    "    # Write mesh and meshfunctions to file\n",
    "    mesh_folder = pathlib.Path(f\"mesh_{curRadius:03f}/\")\n",
    "    mesh_folder.mkdir(exist_ok=True)\n",
    "    mesh_file = mesh_folder / \"DemoSphere.h5\"\n",
    "    mesh_tools.write_mesh(domain, facet_markers, cell_markers, filename=mesh_file)\n",
    "\n",
    "    # # Define solvers\n",
    "    parent_mesh = mesh.ParentMesh(\n",
    "        mesh_filename=f\"mesh_{curRadius:03f}/DemoSphere.h5\",\n",
    "        mesh_filetype=\"hdf5\",\n",
    "        name=\"parent_mesh\",\n",
    "    )\n",
    "    configCur = config.Config()\n",
    "    model_cur = model.Model(pc, sc, cc, rc, configCur, parent_mesh)\n",
    "    configCur.solver.update(\n",
    "        {\n",
    "            \"final_t\": 1,\n",
    "            \"initial_dt\": 0.01,\n",
    "            \"time_precision\": 6,\n",
    "            \"use_snes\": True,\n",
    "            \"print_assembly\": False,\n",
    "        }\n",
    "    )\n",
    "\n",
    "    model_cur.initialize(initialize_solver=False)\n",
    "    model_cur.initialize_discrete_variational_problem_and_solver()\n",
    "    # Write initial condition(s) to file\n",
    "    results = dict()\n",
    "    result_folder = pathlib.Path(f\"resultsSphere_{i:03d}\")\n",
    "    result_folder.mkdir(exist_ok=True)\n",
    "    for species_name, species in model_cur.sc.items:\n",
    "        results[species_name] = d.XDMFFile(\n",
    "            model_cur.mpi_comm_world, str(result_folder / f\"{species_name}.xdmf\")\n",
    "        )\n",
    "        results[species_name].parameters[\"flush_output\"] = True\n",
    "        results[species_name].write(model_cur.sc[species_name].u[\"u\"], model_cur.t)\n",
    "\n",
    "    # Solve\n",
    "    while True:\n",
    "        # Solve the system\n",
    "        model_cur.monolithic_solve()\n",
    "        # Save results for post processing\n",
    "        for species_name, species in model_cur.sc.items:\n",
    "            results[species_name].write(model_cur.sc[species_name].u[\"u\"], model_cur.t)\n",
    "        # compute average Aphos concentration at each time step\n",
    "        dx = d.Measure(\"dx\",domain = model_cur.cc['Cyto'].dolfin_mesh)\n",
    "        int_val = d.assemble(model_cur.sc['Aphos'].u['u']*dx)\n",
    "        volume = d.assemble(1.0*dx)\n",
    "        avg_Aphos.append(int_val / volume)\n",
    "        tvec.append(model_cur.t)\n",
    "        # End if we've passed the final time\n",
    "        if model_cur.t >= model_cur.final_t:\n",
    "            break\n",
    "    \n",
    "    # store steady state at the end of each run\n",
    "    ss_vec[i] = avg_Aphos[-1]\n",
    "    plt.plot(tvec, avg_Aphos)\n",
    "\n",
    "np.savetxt(f\"ss_vec.txt\", ss_vec)"
   ]
  },
  {
   "attachments": {},
   "cell_type": "markdown",
   "id": "329199c2",
   "metadata": {},
   "source": [
    "## Compare model results to analytical solution and previous results\n",
    "\n",
    "Here, we plot the steady-state concentration as a function of cell radius, according to the analytical solution and the SMART numerical solution."
   ]
  },
  {
   "cell_type": "code",
   "execution_count": null,
   "id": "d950b475",
   "metadata": {},
   "outputs": [],
   "source": [
    "plt.plot(radiusVec, ss_vec, 'ro')\n",
    "radiusTest = np.logspace(0,1,100)\n",
    "thieleMod = radiusTest / 1.0\n",
    "k_kin = 50\n",
    "k_p = 10\n",
    "cT = 1\n",
    "D = 10\n",
    "C1 = k_kin*cT*radiusTest**2/((3*D*(np.sqrt(k_p/D)-(1/radiusTest)) + k_kin*radiusTest)*np.exp(thieleMod) +\n",
    "        (3*D*(np.sqrt(k_p/D)+(1/radiusTest))-k_kin*radiusTest)*np.exp(-thieleMod))\n",
    "cA = (6*C1/radiusTest)*(np.cosh(thieleMod)/thieleMod - np.sinh(thieleMod)/thieleMod**2)\n",
    "plt.plot(radiusTest, cA)\n",
    "plt.xlabel(\"Cell radius (μm)\")\n",
    "plt.ylabel(\"Steady state concentration (μM)\")\n",
    "plt.legend((\"SMART simulation\", \"Analytical solution\"))"
   ]
  },
  {
   "attachments": {},
   "cell_type": "markdown",
   "id": "b695baa7",
   "metadata": {},
   "source": [
    "We compare the SMART results to the analytical solution, requiring that the steady state concentration in simulations deviates less than 1% from the known analytical value."
   ]
  },
  {
   "cell_type": "code",
   "execution_count": null,
   "id": "fe379435",
   "metadata": {},
   "outputs": [],
   "source": [
    "# quantify percent error\n",
    "thieleMod = radiusVec / 1.0\n",
    "k_kin = 50\n",
    "k_p = 10\n",
    "cT = 1\n",
    "D = 10\n",
    "C1 = k_kin*cT*radiusVec**2/((3*D*(np.sqrt(k_p/D)-(1/radiusVec)) + k_kin*radiusVec)*np.exp(thieleMod) +\n",
    "                            (3*D*(np.sqrt(k_p/D)+(1/radiusVec))-k_kin*radiusVec)*np.exp(-thieleMod))\n",
    "cA = (6*C1/radiusVec)*(np.cosh(thieleMod)/thieleMod - np.sinh(thieleMod)/thieleMod**2)\n",
    "percentError = 100*np.abs(ss_vec - cA) / cA\n",
    "plt.plot(radiusVec, percentError)\n",
    "plt.xlabel(\"Cell radius (μm)\")\n",
    "plt.ylabel(\"Percent error from analytical solution\")\n",
    "assert all(percentError <\n",
    "           1), f\"Example 2 results deviate {max(percentError):.3f}% from the analytical solution\"\n",
    "rmse = np.sqrt(np.mean(percentError**2))\n",
    "print(f\"RMSE with respect to analytical solution = {rmse:.3f}%\")"
   ]
  },
  {
   "attachments": {},
   "cell_type": "markdown",
   "id": "05de1f82",
   "metadata": {},
   "source": [
    "As a regression test, we compare the steady-state values from this SMART simulation with stored values run in a previous version of SMART. We require that the results deviate less than 0.01% from the stored values."
   ]
  },
  {
   "cell_type": "code",
   "execution_count": null,
   "id": "05043f63",
   "metadata": {},
   "outputs": [],
   "source": [
    "# check that solution is not too far from previous numerical solution (regression test)\n",
    "ss_vec_ref = np.array([7.923821144851057596e-01, 7.669667883419870602e-01,\n",
    "                       7.298498502029002744e-01, 6.788940529553533221e-01,\n",
    "                       6.142454046569625348e-01, 5.396662231709322688e-01,\n",
    "                       4.614726970070175405e-01, 3.858559025223168293e-01,\n",
    "                       3.170657047898646219e-01, 2.570951001202800845e-01])\n",
    "percentErrorRegression = 100*np.abs(ss_vec - ss_vec_ref) / ss_vec_ref\n",
    "assert all(percentErrorRegression <\n",
    "           0.01), f\"Failed regression test: Example 3 results deviate {max(percentErrorRegression):.3f}% from the previous numerical solution\"\n",
    "rmse_regression = np.sqrt(np.mean(percentErrorRegression**2))\n",
    "print(f\"RMSE with respect to previous numerical solution = {rmse_regression:.3f}%\")"
   ]
  }
 ],
 "metadata": {
  "jupytext": {
   "cell_metadata_filter": "-all",
   "main_language": "python",
   "notebook_metadata_filter": "-all"
  },
  "kernelspec": {
   "display_name": "Python 3",
   "language": "python",
   "name": "python3"
  },
  "language_info": {
   "codemirror_mode": {
    "name": "ipython",
    "version": 3
   },
   "file_extension": ".py",
   "mimetype": "text/x-python",
   "name": "python",
   "nbconvert_exporter": "python",
   "pygments_lexer": "ipython3",
   "version": "3.10.6"
  },
  "vscode": {
   "interpreter": {
    "hash": "916dbcbb3f70747c44a77c7bcd40155683ae19c65e1c03b4aa3499c5328201f1"
   }
  }
 },
 "nbformat": 4,
 "nbformat_minor": 5
}
