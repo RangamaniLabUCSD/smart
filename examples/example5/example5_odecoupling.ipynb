{
 "cells": [
  {
   "attachments": {},
   "cell_type": "markdown",
   "id": "f65f18d7",
   "metadata": {},
   "source": [
    "# Example 5: Generic cell signaling system in 3D\n",
    "\n",
    "Geometry is divided into 4 domains; two volumes, and two surfaces:\n",
    "- cytosol (Cyto): $\\Omega_{Cyto}$\n",
    "- endoplasmic reticulum volume (ER): $\\Omega_{ER}$\n",
    "- plasma membrane (PM): $\\Gamma_{PM}$\n",
    "- ER membrane (ERm): $\\Gamma_{ERm}$\n",
    "\n",
    "For simplicity, here we consider a \"cube-within-a-cube\" geometry, in which the smaller\n",
    "inner cube represents a section of ER and one face of the outer cube ($x=0$) represents the PM. The other\n",
    "faces of the outer cube are treated as no flux boundaries. The space outside\n",
    "the inner cube but inside the outer cube is classified as cytosol.\n",
    "\n",
    "There are three function-spaces on these three domains:\n",
    "\n",
    "$$\n",
    "u^{Cyto} = [A, B] \\quad \\text{on} \\quad \\Omega^{Cyto}\\\\\n",
    "u^{ER} = [AER] \\quad \\text{on} \\quad \\Omega^{ER}\\\\\n",
    "v^{ERm} = [R, Ro] \\quad \\text{on} \\quad \\Gamma^{ERm}\n",
    "$$\n",
    "\n",
    "In words, this says that species A and B reside in the cytosolic volume, \n",
    "species AER corresponds to an amount of species A that lives in the ER volume,\n",
    "and species R (closed receptor/channel) and Ro (open receptor/channel) reside on the ER membrane.\n",
    "\n",
    "In this model, species B reacts with a receptor/channel, R, on the ER membrane, causing it to open (change state from R->Ro), \n",
    "allowing species A to flow out of the ER and into the cytosol. \n",
    "Note that this is roughly similar to an IP<sub>3</sub> pulse at the PM, leading to Ca<sup>2+</sup> release from the ER,\n",
    "where, by analogy, species B is similar to IP<sub>3</sub> and species A is similar to Ca<sup>2+</sup>. A more comprehensive\n",
    "model of Ca<sup>2+</sup> dynamics in particular is implemented in Example 6.\n"
   ]
  },
  {
   "cell_type": "code",
   "execution_count": null,
   "id": "a5edff5d",
   "metadata": {},
   "outputs": [],
   "source": [
    "from matplotlib import pyplot as plt\n",
    "import matplotlib.image as mpimg\n",
    "img_A = mpimg.imread('example5-diagram.png')\n",
    "plt.imshow(img_A)\n",
    "plt.axis('off')"
   ]
  },
  {
   "attachments": {},
   "cell_type": "markdown",
   "id": "f543d75e",
   "metadata": {},
   "source": [
    "As specified in our [mathematical documentation](https://rangamanilabucsd.github.io/smart/docs/math.html), assuming diffusive transport, the PDE and boundary condition for each of these volumetric species takes the form:\n",
    "\n",
    "$$\n",
    "\\partial_t u_i^m - \\nabla \\cdot ( D_i^m \\nabla (u_i^m) ) - f_i^m(u_i^m) = 0 \\qquad \\text{ in } \\Omega^m\\\\\n",
    "D_i \\nabla u_i^m \\cdot n^m - R_i^{q} (u^m, u^n, v^q) = 0 \\qquad \\text{ on } \\Gamma^{q}\n",
    "$$\n",
    "\n",
    "and the surface species take the form:\n",
    "\n",
    "$$\n",
    "\\partial_t v_i^q - \\nabla_S \\cdot (D_i^q \\nabla_S v ) - g_i^q ( u^m, u^n, v^q ) = 0 \\qquad \\text{ on } \\Gamma^{q}\\\\\n",
    "D_i \\nabla v_i^q \\cdot n^q = 0 \\qquad \\text{ on } \\partial\\Gamma^{q}\n",
    "$$\n",
    "\n",
    "Our reaction terms and boundary conditions are chosen according to the system described above. For the purposes of this simplified example we use linear mass action in all reaction terms. Explicitly writing out this system of PDEs, we have:\n",
    "\n",
    "\\begin{align}\n",
    "    \\partial_t u_B^{Cyto} - D_B^{Cyto} \\nabla^2 u_B^{Cyto} + k_{2f} u_B^{Cyto} &= 0 \\qquad \\text{ in } \\Omega^{Cyto}\\\\\n",
    "    D_B^{Cyto} \\nabla u_B^{Cyto} \\cdot n^{Cyto} + j_1[t] &= 0 \\qquad \\text{ on } \\Gamma^{PM} \\nonumber\\\\\n",
    "    D_B^{Cyto} \\nabla u_B^{Cyto} \\cdot n^{Cyto} + k_{3f} v_R^{ERm} u_B^{Cyto} - k_{3r} v_{Ro}^{ERm} &= 0 \\qquad \\text{ on } \\Gamma^{ERm} \\nonumber\\\\\n",
    "    \\nonumber \\\\\n",
    "    \\partial_t u_A^{Cyto} - D_A^{Cyto} \\nabla^2 u_A^{Cyto} &= 0 \\qquad \\text{ in } \\Omega^{Cyto}\\\\\n",
    "    D_A^{Cyto} \\nabla u_A^{Cyto} \\cdot n^{Cyto} &= 0 \\qquad \\text{ on } \\Gamma^{PM} \\nonumber\\\\\n",
    "    D_A^{Cyto} \\nabla u_A^{Cyto} \\cdot n^{Cyto} - k_{4,Vmax} v_{Ro}^{ERm} (u_{AER}^{ER} - u_A^{Cyto}) &= 0 \\qquad \\text{ on } \\Gamma^{ERm} \\nonumber\\\\\n",
    "    \\nonumber \\\\\n",
    "    \\partial_t u_{AER}^{ER} - D_{AER}^{ER} \\nabla^2 u_{AER}^{ER} &= 0 \\qquad \\text{ in } \\Omega^{ER}\\\\\n",
    "    D_{AER}^{ER} \\nabla u_{AER}^{ER} \\cdot n^{ER} + k_{4,Vmax} v_{Ro}^{ERm} (u_{AER}^{ER} - u_A^{Cyto}) &= 0 \\qquad \\text{ on } \\Gamma^{ERm} \\nonumber\\\\\n",
    "    \\nonumber \\\\\n",
    "    \\partial_t v_{R}^{ERm} - D_{R}^{ERm} \\nabla^2 v_{R}^{ERm} - \n",
    "    k_{3f} v_R^{ERm} u_B^{Cyto} + k_{3r} v_{Ro}^{ERm}  &= 0 \\qquad \\text{ on } \\Gamma^{ERm}\\\\\n",
    "    \\nonumber \\\\\n",
    "    \\partial_t v_{Ro}^{ERm} - D_{Ro}^{ERm} \\nabla^2 v_{Ro}^{ERm} +\n",
    "    k_{3f} v_R^{ERm} u_B^{Cyto} - k_{3r} v_{Ro}^{ERm} &= 0 \\qquad \\text{ on } \\Gamma^{ERm}\\\\\n",
    "\\end{align}"
   ]
  },
  {
   "attachments": {},
   "cell_type": "markdown",
   "id": "28f77cbf",
   "metadata": {},
   "source": [
    "## Code imports and initialization"
   ]
  },
  {
   "cell_type": "code",
   "execution_count": null,
   "id": "cc398816",
   "metadata": {},
   "outputs": [],
   "source": [
    "import logging\n",
    "\n",
    "import dolfin as d\n",
    "import sympy as sym\n",
    "import numpy as np\n",
    "import pathlib\n",
    "import gmsh  # must be imported before pyvista if dolfin is imported first\n",
    "\n",
    "from smart import config, mesh, model, mesh_tools, visualization\n",
    "from smart.model_assembly import (\n",
    "    Compartment,\n",
    "    Parameter,\n",
    "    Reaction,\n",
    "    Species,\n",
    "    SpeciesContainer,\n",
    "    ParameterContainer,\n",
    "    CompartmentContainer,\n",
    "    ReactionContainer,\n",
    ")\n",
    "from smart.units import unit"
   ]
  },
  {
   "attachments": {},
   "cell_type": "markdown",
   "id": "c8650536",
   "metadata": {},
   "source": [
    "We will set the logging level to `INFO`. This will display some output during the simulation. If you want to get even more output you could set the logging level to `DEBUG`."
   ]
  },
  {
   "cell_type": "code",
   "execution_count": null,
   "id": "9ed0899a",
   "metadata": {},
   "outputs": [],
   "source": [
    "logger = logging.getLogger(\"smart\")\n",
    "logger.setLevel(logging.INFO)"
   ]
  },
  {
   "attachments": {},
   "cell_type": "markdown",
   "id": "95b9d865",
   "metadata": {},
   "source": [
    "First, we define the various units for the inputs"
   ]
  },
  {
   "cell_type": "code",
   "execution_count": null,
   "id": "4f4023cf",
   "metadata": {},
   "outputs": [],
   "source": [
    "# Aliases - base units\n",
    "uM = unit.uM\n",
    "um = unit.um\n",
    "molecule = unit.molecule\n",
    "sec = unit.sec\n",
    "# Aliases - units used in model\n",
    "D_unit = um**2 / sec\n",
    "flux_unit = molecule / (um**2 * sec)\n",
    "vol_unit = uM\n",
    "surf_unit = molecule / um**2"
   ]
  },
  {
   "attachments": {},
   "cell_type": "markdown",
   "id": "46582d26",
   "metadata": {},
   "source": [
    "## Generate model\n",
    "Next we generate the model described in the equations above.\n",
    "\n",
    "### Compartments\n",
    "As described above, the three compartments are the cytosol (\"Cyto\"), the plasma membrane (\"PM\"), the ER membrane (\"ERm\"), and the ER interior volume (\"ER\").\n",
    "\n",
    "Note that, as shown, we can also specify nonadjacency for compartments; this is not strictly necessary, but will generally speed up the simulations."
   ]
  },
  {
   "cell_type": "code",
   "execution_count": null,
   "id": "b2f34b3c",
   "metadata": {},
   "outputs": [],
   "source": [
    "Cyto = Compartment(\"Cyto\", 3, um, 1)\n",
    "PM = Compartment(\"PM\", 2, um, 10)\n",
    "# ER = Compartment(\"ER\", 3, um, 2)\n",
    "ERm = Compartment(\"ERm\", 2, um, 12)\n",
    "PM.specify_nonadjacency(['ERm'])#, 'ER'])\n",
    "ERm.specify_nonadjacency(['PM'])"
   ]
  },
  {
   "attachments": {},
   "cell_type": "markdown",
   "id": "d93ce862",
   "metadata": {},
   "source": [
    "Initialize a compartment container and add the 4 compartments to it."
   ]
  },
  {
   "cell_type": "code",
   "execution_count": null,
   "id": "701577e8",
   "metadata": {},
   "outputs": [],
   "source": [
    "cc = CompartmentContainer()\n",
    "cc.add([ERm, PM, Cyto])#ER, "
   ]
  },
  {
   "attachments": {},
   "cell_type": "markdown",
   "id": "0a6acf0b",
   "metadata": {},
   "source": [
    "### Species\n",
    "In this case, we have 5 species across 3 different compartments. We define each in turn:"
   ]
  },
  {
   "cell_type": "code",
   "execution_count": null,
   "id": "8d991278",
   "metadata": {},
   "outputs": [],
   "source": [
    "A = Species(\"A\", 0.01, vol_unit, 1.0, D_unit, \"Cyto\")\n",
    "B = Species(\"B\", 0.0, vol_unit, 1.0, D_unit, \"Cyto\")\n",
    "AER = Parameter(\"AER\", 200.0, vol_unit)#, 5.0, D_unit, \"ER\")\n",
    "# Create an algebraic expression to define the initial condition of R\n",
    "Rinit = \"(sin(40*y) + cos(40*z) + sin(40*x) + 3) * (y-x)**2\"\n",
    "R1 = Species(\"R1\", Rinit, surf_unit, 0.02, D_unit, \"ERm\")\n",
    "R1o = Species(\"R1o\", 0.0, surf_unit, 0.02, D_unit, \"ERm\")"
   ]
  },
  {
   "attachments": {},
   "cell_type": "markdown",
   "id": "b60826cc",
   "metadata": {},
   "source": [
    "Create species container and add the 5 species objects to it."
   ]
  },
  {
   "cell_type": "code",
   "execution_count": null,
   "id": "e86bebaf",
   "metadata": {},
   "outputs": [],
   "source": [
    "sc = SpeciesContainer()\n",
    "sc.add([R1o, R1, B, A])#, AER"
   ]
  },
  {
   "attachments": {},
   "cell_type": "markdown",
   "id": "af900a73",
   "metadata": {},
   "source": [
    "###  Parameters and Reactions\n",
    "\n",
    "Parameters and reactions are generally defined together, although the order does not strictly matter. We define them in turn as follows:"
   ]
  },
  {
   "cell_type": "code",
   "execution_count": null,
   "id": "d2120ac6",
   "metadata": {},
   "outputs": [],
   "source": [
    "# Degradation of B in the cytosol\n",
    "k2f = Parameter(\"k2f\", 10, 1 / sec)\n",
    "r2 = Reaction(\n",
    "    \"r2\", [\"B\"], [], param_map={\"on\": \"k2f\"}, reaction_type=\"mass_action_forward\"\n",
    ")\n",
    "\n",
    "# Activating receptors on ERm with B\n",
    "k3f = Parameter(\"k3f\", 100, 1 / (uM * sec))\n",
    "k3r = Parameter(\"k3r\", 100, 1 / sec)\n",
    "r3 = Reaction(\"r3\", [\"B\", \"R1\"], [\"R1o\"], {\"on\": \"k3f\", \"off\": \"k3r\"})\n",
    "# Release of A from ERm to cytosol\n",
    "k4Vmax = Parameter(\"k4Vmax\", 2000, 1 / (uM * sec))\n",
    "r4 = Reaction(\n",
    "    \"r4\",\n",
    "    [],\n",
    "    [\"A\"],\n",
    "    param_map={\"Vmax\": \"k4Vmax\", \"uER\": \"AER\"},\n",
    "    species_map={\"R1o\": \"R1o\", \"u\": \"A\"},\n",
    "    eqn_f_str=\"Vmax*R1o*(uER-u)\",\n",
    ")"
   ]
  },
  {
   "attachments": {},
   "cell_type": "markdown",
   "id": "7fdd58b8",
   "metadata": {},
   "source": [
    "We define one additional reaction as the time-dependent production of species B at the plasma membrane. In this case, we define a pulse-type function as the derivative of an arctan function. Note that this is useful because we can provide an expression to use for pre-integration.\n",
    "\n",
    "$$\n",
    "j_{int}[t] = V_{max} \\arctan\\left({m (t - t_0)}\\right)\\\\\n",
    "j_1[t] = \\frac{dj_{int}[t]}{dt} = \\frac{m V_{max}}{1 + m^2 (t-t_0)^2}\n",
    "$$"
   ]
  },
  {
   "cell_type": "code",
   "execution_count": null,
   "id": "51abf270",
   "metadata": {},
   "outputs": [],
   "source": [
    "Vmax, t0, m = 500, 0.1, 200\n",
    "t = sym.symbols(\"t\")\n",
    "pulseI = Vmax * sym.atan(m * (t - t0))\n",
    "pulse = sym.diff(pulseI, t)\n",
    "j1pulse = Parameter.from_expression(\n",
    "    \"j1pulse\", pulse, flux_unit, use_preintegration=True, preint_sym_expr=pulseI\n",
    ")\n",
    "r1 = Reaction(\n",
    "    \"r1\",\n",
    "    [],\n",
    "    [\"B\"],\n",
    "    param_map={\"J\": \"j1pulse\"},\n",
    "    eqn_f_str=\"J\",\n",
    "    explicit_restriction_to_domain=\"PM\",\n",
    ")"
   ]
  },
  {
   "attachments": {},
   "cell_type": "markdown",
   "id": "3d883c6e",
   "metadata": {},
   "source": [
    "Create containers for parameters and reactions and add all the parameters and reaction objects to them."
   ]
  },
  {
   "cell_type": "code",
   "execution_count": null,
   "id": "8ae2c2c1",
   "metadata": {},
   "outputs": [],
   "source": [
    "pc = ParameterContainer()\n",
    "pc.add([k4Vmax, k3r, k3f, k2f, j1pulse, AER])\n",
    "\n",
    "rc = ReactionContainer()\n",
    "rc.add([r1, r2, r3, r4])"
   ]
  },
  {
   "attachments": {},
   "cell_type": "markdown",
   "id": "15c35d39",
   "metadata": {},
   "source": [
    "## Create/load in mesh\n",
    "\n",
    "In SMART we have different levels of meshes:\n",
    "- Parent mesh: contains the entire geometry of the problem, including all surfaces and volumes\n",
    "- Child meshes: submeshes (sections of the parent mesh) associated with individual compartments. Here, the child meshes are:\n",
    "    - Cyto: the portion of the outer cube outside of the inner cube, defined by `cell_markers = 1`\n",
    "    - ER: the inside portion of the inner cube, defined by `cell_markers = 2`\n",
    "    - PM: surface mesh where x=0, defined by `facet_markers = 10`\n",
    "    - ERm: surface mesh corresponding to all faces of the inner cube, defined by `facet_markers = 12`\n",
    "\n",
    "Here we create a UnitCube mesh as the Parent mesh, defined by\n",
    "\n",
    "$$\n",
    "\\Omega = [0, 1] \\times [0, 1] \\times [0, 1] \\subset \\mathbb{R}^3\n",
    "$$\n",
    "\n",
    "and we display a cut cross-section using pyvista."
   ]
  },
  {
   "attachments": {},
   "cell_type": "markdown",
   "id": "035113ed",
   "metadata": {},
   "source": [
    "By default, `smart.mesh_tools.create_cubes` marks all faces of the outer cube as \"10\", our marker value associated with PM. Here, since we are only treating the x=0 face as PM, we alter the facet markers on all other faces, setting them equal to zero. They are then treated as no-flux boundaries not belonging to a designated surface compartment. The resultant mesh with the new facet and volume markers is displayed below."
   ]
  },
  {
   "cell_type": "code",
   "execution_count": null,
   "id": "fe56e162",
   "metadata": {},
   "outputs": [],
   "source": [
    "domain, facet_markers, cell_markers = mesh_tools.create_cubes(N=10)\n",
    "for face in d.faces(domain):\n",
    "    if face.midpoint().x() > d.DOLFIN_EPS and facet_markers[face] == 10:\n",
    "        facet_markers[face] = 0"
   ]
  },
  {
   "attachments": {},
   "cell_type": "markdown",
   "id": "c17ebcbb",
   "metadata": {},
   "source": [
    "We now save the mesh as an h5 file and then read it into SMART as a `ParentMesh` object. "
   ]
  },
  {
   "cell_type": "code",
   "execution_count": null,
   "id": "5657aab1",
   "metadata": {},
   "outputs": [],
   "source": [
    "mesh_folder = pathlib.Path(\"mesh\")\n",
    "mesh_folder.mkdir(exist_ok=True)\n",
    "mesh_path = mesh_folder / \"DemoCuboidsMesh.h5\"\n",
    "mesh_tools.write_mesh(\n",
    "    domain, facet_markers, cell_markers, filename=mesh_path\n",
    ")\n",
    "parent_mesh = mesh.ParentMesh(\n",
    "    mesh_filename=str(mesh_path),\n",
    "    mesh_filetype=\"hdf5\",\n",
    "    name=\"parent_mesh\",\n",
    ")"
   ]
  },
  {
   "attachments": {},
   "cell_type": "markdown",
   "id": "0f1cf8a4",
   "metadata": {},
   "source": [
    "## Model and solver initialization, solving\n",
    "\n",
    "Now we are ready to set up the model. First we load the default configurations and set some configurations for the current solver."
   ]
  },
  {
   "cell_type": "code",
   "execution_count": null,
   "id": "8c1a2a92",
   "metadata": {},
   "outputs": [],
   "source": [
    "conf = config.Config()\n",
    "dt = 0.02\n",
    "conf.solver.update(\n",
    "    {\n",
    "        \"final_t\": 1,\n",
    "        \"initial_dt\": dt,\n",
    "        \"time_precision\": 6,\n",
    "    }\n",
    ")"
   ]
  },
  {
   "attachments": {},
   "cell_type": "markdown",
   "id": "d05a1a75",
   "metadata": {},
   "source": [
    "## Solving system and storing data\n",
    "\n",
    "We create some XDMF files where we will store the output.\n",
    "\n",
    "We then run the the solver and store the data at each time point to the initialized files. We also integrate A over the cytosolic volume at each time step to monitor the elevation in A over time and we display the concentration of A in the cytosol at t = 0.2 s."
   ]
  },
  {
   "cell_type": "code",
   "execution_count": null,
   "id": "31d42278",
   "metadata": {},
   "outputs": [],
   "source": [
    "D_AER = 5\n",
    "# set any changes to model here\n",
    "# ER = Compartment(\"ER\", 3, um, 2)\n",
    "AER = Parameter(\"AER\", 200.0, vol_unit)\n",
    "# AER = Species(\"AER\", 200.0, vol_unit, D_AER, D_unit, \"ER\")\n",
    "r4 = Reaction(\n",
    "    \"r4\",\n",
    "    [],\n",
    "    [\"A\"],\n",
    "    param_map={\"Vmax\": \"k4Vmax\", \"uER\": \"AER\"},\n",
    "    species_map={\"R1o\": \"R1o\", \"u\": \"A\"},\n",
    "    eqn_f_str=\"Vmax*R1o*(uER-u)\",\n",
    ")\n",
    "\n",
    "cc = CompartmentContainer()\n",
    "cc.add([ERm, PM, Cyto])#ER\n",
    "sc = SpeciesContainer()\n",
    "sc.add([R1, R1o, A, B])#AER\n",
    "pc = ParameterContainer()\n",
    "pc.add([k4Vmax, k3r, k3f, k2f, j1pulse, AER])\n",
    "rc = ReactionContainer()\n",
    "rc.add([r1, r2, r3, r4])\n",
    "\n",
    "model_cur = model.Model(pc, sc, cc, rc, conf, parent_mesh)\n",
    "model_cur.initialize()\n",
    "\n",
    "# Write initial condition(s) to file\n",
    "results = dict()\n",
    "result_folder = pathlib.Path(\"results_new_value\")\n",
    "result_folder.mkdir(exist_ok=True)\n",
    "for species_name, species in model_cur.sc.items:\n",
    "    results[species_name] = d.XDMFFile(\n",
    "        model_cur.mpi_comm_world, str(result_folder / f\"{species_name}.xdmf\")\n",
    "    )\n",
    "    results[species_name].parameters[\"flush_output\"] = True\n",
    "    results[species_name].write(model_cur.sc[species_name].u[\"u\"], model_cur.t)\n",
    "# Set loglevel to warning in order not to pollute notebook output\n",
    "logger.setLevel(logging.WARNING)\n",
    "from scipy.optimize import fsolve\n",
    "def ode_fun(AER, model_cur, prev_val):\n",
    "    volER = (0.375) ** (3)\n",
    "    Vmaxval = model_cur.pc['k4Vmax'].value\n",
    "    orig_val = prev_val#model_cur.pc['AER'].value\n",
    "    ds = d.Measure(\"dx\", domain=model_cur.cc['ERm'].dolfin_mesh)\n",
    "    R1ovec = model_cur.sc[\"R1o\"].u[\"u\"]\n",
    "    Avec = model_cur.sc[\"A\"].u[\"u\"]\n",
    "    dt = float(model_cur.dt)\n",
    "    dAERdt = d.assemble(Vmaxval * R1ovec * (Avec - AER[0]) * ds) * (1 / 602.2) / volER\n",
    "    return ((AER - orig_val) / dt) - dAERdt\n",
    "\n",
    "avg_A_new = [A.initial_condition]\n",
    "# define integration measure and total volume for computing average A at each time point\n",
    "dx = d.Measure(\"dx\", domain=model_cur.cc['Cyto'].dolfin_mesh)\n",
    "ds = d.Measure(\"dx\", domain=model_cur.cc['ERm'].dolfin_mesh)\n",
    "volume = d.assemble(1.0*dx)\n",
    "ERM_area = d.assemble(1.0*ds)\n",
    "volER = (0.375) ** (3)\n",
    "R1ovec = sc[\"R1o\"].u[\"u\"]\n",
    "Avec = sc[\"A\"].u[\"u\"]\n",
    "# Solve\n",
    "displayed = False\n",
    "while model_cur.t < model_cur.final_t:\n",
    "    Vmaxval = pc['k4Vmax'].value\n",
    "    orig_val = pc['AER'].value\n",
    "    new_value = fsolve(ode_fun, orig_val, args=(model_cur, orig_val))\n",
    "    new_value = new_value[0]\n",
    "    pc['AER'].value = new_value\n",
    "    pc['AER'].dolfin_constant.assign(pc['AER'].value)\n",
    "    # Solve the system\n",
    "    model_cur.monolithic_solve()\n",
    "    # Save results for post processing\n",
    "    for species_name, species in model_cur.sc.items:\n",
    "        results[species_name].write(model_cur.sc[species_name].u[\"u\"], model_cur.t)\n",
    "    # compute average A concentration at each time step\n",
    "    int_val = d.assemble(model_cur.sc['A'].u['u']*dx)\n",
    "    avg_A_new.append(int_val / volume)\n",
    "    if model_cur.t >= 0.2 and not displayed:\n",
    "        visualization.plot(model_cur.sc['A'].u['u'],\n",
    "                           clip_plane=(1, 1, 0), clip_origin=(0.5, 0.5, 0.5))\n",
    "        displayed = True\n",
    "    new_value = fsolve(ode_fun, new_value, args=(model_cur, orig_val))\n",
    "    new_value = new_value[0]\n",
    "    pc['AER'].value = new_value\n",
    "    pc['AER'].value_vector = np.vstack((pc['AER'].value_vector, [float(model_cur.t), new_value]))\n",
    "    pc['AER'].dolfin_constant.assign(new_value)\n",
    "plt.plot(model_cur.tvec, pc['AER'].value_vector[:,1])"
   ]
  },
  {
   "attachments": {},
   "cell_type": "markdown",
   "id": "e11917d7",
   "metadata": {},
   "source": [
    "Finally, we plot the average concentration of A over time."
   ]
  },
  {
   "cell_type": "code",
   "execution_count": null,
   "id": "b8651e71",
   "metadata": {},
   "outputs": [],
   "source": [
    "plt.plot(model_cur.tvec, avg_A_new)\n",
    "plt.xlabel('Time (s)')\n",
    "plt.ylabel('Cytosolic concentration of A (μM)')"
   ]
  }
 ],
 "metadata": {
  "jupytext": {
   "cell_metadata_filter": "-all",
   "main_language": "python",
   "notebook_metadata_filter": "-all"
  },
  "kernelspec": {
   "display_name": "Python 3 (ipykernel)",
   "language": "python",
   "name": "python3"
  },
  "language_info": {
   "codemirror_mode": {
    "name": "ipython",
    "version": 3
   },
   "file_extension": ".py",
   "mimetype": "text/x-python",
   "name": "python",
   "nbconvert_exporter": "python",
   "pygments_lexer": "ipython3",
   "version": "3.10.12"
  },
  "vscode": {
   "interpreter": {
    "hash": "916dbcbb3f70747c44a77c7bcd40155683ae19c65e1c03b4aa3499c5328201f1"
   }
  }
 },
 "nbformat": 4,
 "nbformat_minor": 5
}
