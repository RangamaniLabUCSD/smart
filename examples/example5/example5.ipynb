{
 "cells": [
  {
   "attachments": {},
   "cell_type": "markdown",
   "id": "f65f18d7",
   "metadata": {},
   "source": [
    "# 3D example showcasing some of the features of SMART\n",
    "\n",
    "Geometry is divided into 4 domains; two volumes, and two surfaces:\n",
    "- cytosol (Cyto): $\\Omega_{Cyto}$\n",
    "- endoplasmic reticulum volume (ER): $\\Omega_{ER}$\n",
    "- plasma membrane (PM): $\\Gamma_{PM}$\n",
    "- ER membrane (ERm): $\\Gamma_{ERm}$\n",
    "\n",
    "For simplicity, here we consider a \"cube-within-a-cube\" geometry, in which the smaller\n",
    "inner cube represents a section of ER and one face of the outer cube (x=0) represents the PM. The other\n",
    "faces of the outer cube are treated as no flux boundaries. The space outside\n",
    "the inner cube but inside the outer cube is classified as cytosol.\n",
    "\n",
    "There are three function-spaces on these three domains:\n",
    "$$\n",
    "u^{Cyto} = [A, B] \\quad \\text{on} \\quad \\Omega^{Cyto}\\\\\n",
    "u^{ER} = [AER] \\quad \\text{on} \\quad \\Omega^{ER}\\\\\n",
    "v^{ERm} = [R, Ro] \\quad \\text{on} \\quad \\Gamma^{ERm}\n",
    "$$\n",
    "\n",
    "In words, this says that species A and B reside in the cytosolic volume, \n",
    "species AER corresponds to an amount of species A that lives in the ER volume,\n",
    "and species R (closed receptor/channel) and Ro (open receptor/channel) reside on the ER membrane.\n",
    "\n",
    "In this model, species B reacts with a receptor/channel, R, on the ER membrane, causing it to open (change state from R->Ro), \n",
    "allowing species A to flow out of the ER and into the cytosol. \n",
    "Note that this is roughly similar to an IP3 pulse at the PM, leading to Ca2+ release from the ER,\n",
    "where, by analogy, species B is similar to IP3 and species A is similar to Ca2+. A more comprehensive\n",
    "model of Ca2+ dynamics in particular is implemented in Example 4.\n"
   ]
  },
  {
   "cell_type": "code",
   "execution_count": null,
   "id": "a5edff5d",
   "metadata": {},
   "outputs": [],
   "source": [
    "from matplotlib import pyplot as plt\n",
    "import matplotlib.image as mpimg\n",
    "%matplotlib inline\n",
    "img_A = mpimg.imread('example5-diagram.png')\n",
    "plt.imshow(img_A)\n",
    "plt.axis('off')"
   ]
  },
  {
   "attachments": {},
   "cell_type": "markdown",
   "id": "f543d75e",
   "metadata": {},
   "source": [
    "As specified in our mathematical documentation, assuming diffusive transport, the PDE and boundary condition for each of these volumetric species takes the form:\n",
    "$$\n",
    "\\partial_t u_i^m - \\nabla \\cdot ( D_i^m \\nabla (u_i^m) ) - f_i^m(u_i^m) = 0 \\qquad \\text{ in } \\Omega^m\\\\\n",
    "D_i \\nabla u_i^m \\cdot n^m - R_i^{q} (u^m, u^n, v^q) = 0 \\qquad \\text{ on } \\Gamma^{q}\n",
    "$$\n",
    "\n",
    "and the surface species take the form:\n",
    "$$\n",
    "\\partial_t v_i^q - \\nabla_S \\cdot (D_i^q \\nabla_S v ) - g_i^q ( u^m, u^n, v^q ) = 0 \\qquad \\text{ on } \\Gamma^{q}\\\\\n",
    "D_i \\nabla v_i^q \\cdot n^q = 0 \\qquad \\text{ on } \\partial\\Gamma^{q}\n",
    "$$\n",
    "\n",
    "Our reaction terms and boundary conditions are chosen according to the system described above. For the purposes of this simplified example we use linear mass action in all reaction terms. Explicitly writing out this system of PDEs, we have:\n",
    "\n",
    "\\begin{align}\n",
    "    \\partial_t u_B^{Cyto} - D_B^{Cyto} \\nabla^2 u_B^{Cyto} + k_{2f} u_B^{Cyto} &= 0 \\qquad \\text{ in } \\Omega^{Cyto}\\\\\n",
    "    D_B^{Cyto} \\nabla u_B^{Cyto} \\cdot n^{Cyto} + j_1[t] &= 0 \\qquad \\text{ on } \\Gamma^{PM} \\nonumber\\\\\n",
    "    D_B^{Cyto} \\nabla u_B^{Cyto} \\cdot n^{Cyto} + k_{3f} v_R^{ERm} u_B^{Cyto} - k_{3r} v_{Ro}^{ERm} &= 0 \\qquad \\text{ on } \\Gamma^{ERm} \\nonumber\\\\\n",
    "    \\nonumber \\\\\n",
    "    \\partial_t u_A^{Cyto} - D_A^{Cyto} \\nabla^2 u_A^{Cyto} &= 0 \\qquad \\text{ in } \\Omega^{Cyto}\\\\\n",
    "    D_A^{Cyto} \\nabla u_A^{Cyto} \\cdot n^{Cyto} &= 0 \\qquad \\text{ on } \\Gamma^{PM} \\nonumber\\\\\n",
    "    D_A^{Cyto} \\nabla u_A^{Cyto} \\cdot n^{Cyto} - k_{4,Vmax} v_{Ro}^{ERm} (u_{AER}^{ER} - u_A^{Cyto}) &= 0 \\qquad \\text{ on } \\Gamma^{ERm} \\nonumber\\\\\n",
    "    \\nonumber \\\\\n",
    "    \\partial_t u_{AER}^{ER} - D_{AER}^{ER} \\nabla^2 u_{AER}^{ER} &= 0 \\qquad \\text{ in } \\Omega^{ER}\\\\\n",
    "    D_{AER}^{ER} \\nabla u_{AER}^{ER} \\cdot n^{ER} + k_{4,Vmax} v_{Ro}^{ERm} (u_{AER}^{ER} - u_A^{Cyto}) &= 0 \\qquad \\text{ on } \\Gamma^{ERm} \\nonumber\\\\\n",
    "    \\nonumber \\\\\n",
    "    \\partial_t v_{R}^{ERm} - D_{R}^{ERm} \\nabla^2 v_{R}^{ERm} - \n",
    "    k_{3f} v_R^{ERm} u_B^{Cyto} + k_{3r} v_{Ro}^{ERm}  &= 0 \\qquad \\text{ on } \\Gamma^{ERm}\\\\\n",
    "    \\nonumber \\\\\n",
    "    \\partial_t v_{Ro}^{ERm} - D_{Ro}^{ERm} \\nabla^2 v_{Ro}^{ERm} +\n",
    "    k_{3f} v_R^{ERm} u_B^{Cyto} - k_{3r} v_{Ro}^{ERm} &= 0 \\qquad \\text{ on } \\Gamma^{ERm}\\\\\n",
    "\\end{align}"
   ]
  },
  {
   "attachments": {},
   "cell_type": "markdown",
   "id": "28f77cbf",
   "metadata": {},
   "source": [
    "## Code imports and initialization"
   ]
  },
  {
   "cell_type": "code",
   "execution_count": null,
   "id": "cc398816",
   "metadata": {},
   "outputs": [],
   "source": [
    "import os\n",
    "import logging\n",
    "\n",
    "import dolfin as d\n",
    "import sympy as sym\n",
    "import numpy as np\n",
    "\n",
    "from smart import config, common, mesh, model, mesh_tools\n",
    "from smart.model_assembly import (\n",
    "    Compartment,\n",
    "    Parameter,\n",
    "    Reaction,\n",
    "    Species,\n",
    "    SpeciesContainer,\n",
    "    ParameterContainer,\n",
    "    CompartmentContainer,\n",
    "    ReactionContainer,\n",
    ")\n",
    "from smart.units import unit"
   ]
  },
  {
   "attachments": {},
   "cell_type": "markdown",
   "id": "c8650536",
   "metadata": {},
   "source": [
    "We will set the logging level to `INFO`. This will display some output during the simulation. If you want to get even more output you could set the logging level to `DEBUG`."
   ]
  },
  {
   "cell_type": "code",
   "execution_count": null,
   "id": "9ed0899a",
   "metadata": {},
   "outputs": [],
   "source": [
    "logger = logging.getLogger(\"smart\")\n",
    "logger.setLevel(logging.INFO)"
   ]
  },
  {
   "attachments": {},
   "cell_type": "markdown",
   "id": "defc1095",
   "metadata": {},
   "source": [
    "Futhermore, you could also save the logs to a file by attaching a file handler to the logger as follows.\n",
    "\n",
    "```python\n",
    "file_handler = logging.FileHandler(\"filename.log\")\n",
    "file_handler.setFormatter(logging.Formatter(smart.config.base_format))\n",
    "logger.addHandler(file_handler)\n",
    "```"
   ]
  },
  {
   "attachments": {},
   "cell_type": "markdown",
   "id": "95b9d865",
   "metadata": {},
   "source": [
    "First, we define the various units for the inputs"
   ]
  },
  {
   "cell_type": "code",
   "execution_count": null,
   "id": "4f4023cf",
   "metadata": {},
   "outputs": [],
   "source": [
    "# Aliases - base units\n",
    "uM = unit.uM\n",
    "um = unit.um\n",
    "molecule = unit.molecule\n",
    "sec = unit.sec\n",
    "# Aliases - units used in model\n",
    "D_unit = um**2 / sec\n",
    "flux_unit = molecule / (um**2 * sec)\n",
    "vol_unit = uM\n",
    "surf_unit = molecule / um**2"
   ]
  },
  {
   "attachments": {},
   "cell_type": "markdown",
   "id": "46582d26",
   "metadata": {},
   "source": [
    "## Generate model\n",
    "Next we generate the model described in the equations above.\n",
    "\n",
    "### Compartments\n",
    "As described above, the three compartments are the cytosol (\"Cyto\"), the plasma membrane (\"PM\"), the ER membrane (\"ERm\"), and the ER interior volume (\"ER\"). These are initialized by calling:\n",
    "```python\n",
    "compartment_name = Compartment(name, dim, units, marker)\n",
    "```\n",
    "where\n",
    "- name = string naming the compartment\n",
    "- dim = topological dimensionality (e.g. 3 for Cyto, 2 for PM)\n",
    "- units = length units for the compartment (um for all here)\n",
    "- marker = marker value identifying each compartment in the parent mesh\n",
    "\n",
    "Note that, as shown, we can also specify nonadjacency for compartments; this is not strictly necessary, but will generally speed up the simulations."
   ]
  },
  {
   "cell_type": "code",
   "execution_count": null,
   "id": "b2f34b3c",
   "metadata": {},
   "outputs": [],
   "source": [
    "Cyto = Compartment(\"Cyto\", 3, um, 1)\n",
    "PM = Compartment(\"PM\", 2, um, 10)\n",
    "ER = Compartment(\"ER\", 3, um, 2)\n",
    "ERm = Compartment(\"ERm\", 2, um, 12)\n",
    "PM.specify_nonadjacency(['ERm', 'ER'])\n",
    "ERm.specify_nonadjacency(['PM'])"
   ]
  },
  {
   "attachments": {},
   "cell_type": "markdown",
   "id": "d93ce862",
   "metadata": {},
   "source": [
    "Initialize a compartment container and add the 4 compartments to it."
   ]
  },
  {
   "cell_type": "code",
   "execution_count": null,
   "id": "701577e8",
   "metadata": {},
   "outputs": [],
   "source": [
    "cc = CompartmentContainer()\n",
    "cc.add([ERm, ER, PM, Cyto])"
   ]
  },
  {
   "attachments": {},
   "cell_type": "markdown",
   "id": "0a6acf0b",
   "metadata": {},
   "source": [
    "### Species\n",
    "In this case, we have 5 species across 3 different compartments. Each is initialized by calling:\n",
    "```python\n",
    "species_name = Species(name, conc_init, conc_units, D, D_units, compartment)\n",
    "```\n",
    "where\n",
    "- name = string naming the species\n",
    "- conc_init = initial concentration for this species (as in the case of Rinit here, can be an expression given by a string to be parsed by sympy - the only unknowns in the expression should be x, y, and z)\n",
    "- conc_units = concentration units for this species (micromolar/uM for volumetric species here and molecules/um**2 for surface species)\n",
    "- D = value of diffusion coefficient\n",
    "- D_units = units for diffusion coefficient (um**2/sec here)\n",
    "- compartment = each species should be assigned to a single compartment (either \"Cyto\", \"ER\" or \"ERm\" here)"
   ]
  },
  {
   "cell_type": "code",
   "execution_count": null,
   "id": "8d991278",
   "metadata": {},
   "outputs": [],
   "source": [
    "A = Species(\"A\", 0.01, vol_unit, 1.0, D_unit, \"Cyto\")\n",
    "B = Species(\"B\", 0.0, vol_unit, 1.0, D_unit, \"Cyto\")\n",
    "AER = Species(\"AER\", 200.0, vol_unit, 5.0, D_unit, \"ER\")\n",
    "#Create an algebraic expression to define the initial condition of R\n",
    "Rinit = \"(sin(40*y) + cos(40*z) + sin(40*x) + 3) * (y-x)**2\"\n",
    "R1 = Species(\"R1\", Rinit, surf_unit, 0.02, D_unit, \"ERm\")\n",
    "R1o = Species(\"R1o\", 0.0, surf_unit, 0.02, D_unit, \"ERm\")"
   ]
  },
  {
   "attachments": {},
   "cell_type": "markdown",
   "id": "b60826cc",
   "metadata": {},
   "source": [
    "Create species container and add the 5 species objects to it."
   ]
  },
  {
   "cell_type": "code",
   "execution_count": null,
   "id": "e86bebaf",
   "metadata": {},
   "outputs": [],
   "source": [
    "sc = SpeciesContainer()\n",
    "sc.add([R1o, R1, AER, B, A])"
   ]
  },
  {
   "attachments": {},
   "cell_type": "markdown",
   "id": "af900a73",
   "metadata": {},
   "source": [
    "###  Parameters and Reactions\n",
    "\n",
    "Parameters and reactions are generally defined together, although the order does not strictly matter. Parameters are specified as:\n",
    "```python\n",
    "param_name = Parameter(name, value, units, group (opt))\n",
    "```\n",
    "where\n",
    "- name: string naming the parameter\n",
    "- value: value of the given parameter\n",
    "- units: units associated with given value\n",
    "- group: optional string placing this reaction in a reaction group; for organizational purposes when there are multiple reaction modules\n",
    "\n",
    "Reactions are specified by a variable number of arguments (optional arguments are indicated by (opt) here):\n",
    "```python\n",
    "reaction_name = Reaction(name, reactants, products, param_map\n",
    "                         eqn_f_str (opt), eqn_r_str (opt), reaction_type (opt), species_map (opt), \n",
    "                         explicit_restriction_to_domain (opt), group (opt), flux_scaling (opt))\n",
    "```\n",
    "required arguments:\n",
    "- name: string naming the reaction\n",
    "- reactants: list of strings specifying the reactants for this reaction\n",
    "- products: list of strings specifying the products for this reaction\n",
    "    ***NOTE: the lists \"reactants\" and \"products\" determine the stoichiometry of the reaction,\n",
    "       for instance, if two A's react to give one B, the reactants list would be [\"A\",\"A\"],\n",
    "       and the products list would be [\"B\"]\n",
    "- param_map: relationship between the parameters specified in the reaction string and those given\n",
    "              in the parameter container. By default, the reaction parameters are \"on\" and \"off\" when\n",
    "              a system obeys simple mass action. If the forward rate is given by a parameter \"k1\" and the\n",
    "              reverse rate is given by \"k2\", then param_map = {\"on\":\"k1\", \"off\":\"k2\"}\n",
    "\n",
    "optional arguments:\n",
    "- eqn_f_str: For systems not obeying simple mass action, this string specifies the forward reaction rate\n",
    "             By default, this string is \"on*{all reactants multiplied together}\"\n",
    "- eqn_r_str: For systems not obeying simple mass action, this string specifies the reverse reaction rate\n",
    "             By default, this string is \"off*{all products multiplied together}\"\n",
    "- reaction_type: either \"custom\" or \"mass_action\" (default is \"mass_action\") [never a required argument]\n",
    "- species_map: same format as param_map; only required if the species name in the reaction string do not\n",
    "               match the species names given in the species container\n",
    "- explicit_restriction_to_domain: string specifying where the reaction occurs; required if the reaction is not\n",
    "                                  constrained by the reaction string (e.g., if production occurs only at the boundary,\n",
    "                                  as it does here, but the species being produced exists through the entire volume)\n",
    "- group: string placing this reaction in a reaction group; for organizational purposes when there are multiple reaction modules\n",
    "- flux_scaling: in certain cases, a given reactant or product may experience a scaled flux (for instance, if we assume that\n",
    "                some of the molecules are immediately sequestered after the reaction); in this case, to signify that this flux \n",
    "                should be rescaled, we specify ''flux_scaling = {scaled_species: scale_factor}'', where scaled_species is a\n",
    "                string specifying the species to be scaled and scale_factor is a number specifying the rescaling factor"
   ]
  },
  {
   "cell_type": "code",
   "execution_count": null,
   "id": "d2120ac6",
   "metadata": {},
   "outputs": [],
   "source": [
    "# Degradation of B in the cytosol\n",
    "k2f = Parameter(\"k2f\", 10, 1 / sec)\n",
    "r2 = Reaction(\n",
    "    \"r2\", [\"B\"], [], param_map={\"on\": \"k2f\"}, reaction_type=\"mass_action_forward\"\n",
    ")\n",
    "\n",
    "# Activating receptors on ERm with B\n",
    "k3f = Parameter(\"k3f\", 100, 1 / (uM * sec))\n",
    "k3r = Parameter(\"k3r\", 100, 1 / sec)\n",
    "r3 = Reaction(\"r3\", [\"B\", \"R1\"], [\"R1o\"], {\"on\": \"k3f\", \"off\": \"k3r\"})\n",
    "# Release of A from ERm to cytosol\n",
    "k4Vmax = Parameter(\"k4Vmax\", 2000, 1 / (uM * sec))\n",
    "r4 = Reaction(\n",
    "    \"r4\",\n",
    "    [\"AER\"],\n",
    "    [\"A\"],\n",
    "    param_map={\"Vmax\": \"k4Vmax\"},\n",
    "    species_map={\"R1o\": \"R1o\", \"uER\": \"AER\", \"u\": \"A\"},\n",
    "    eqn_f_str=\"Vmax*R1o*(uER-u)\",\n",
    ")"
   ]
  },
  {
   "attachments": {},
   "cell_type": "markdown",
   "id": "7fdd58b8",
   "metadata": {},
   "source": [
    "We define one additional reaction as the time-dependent production of species B at the plasma membrane. In this case, we define a pulse-type function as the derivative of an arctan function. Note that this is useful because we can provide an expression to use in pre-integration.\n",
    "$$\n",
    "j_{int}[t] = V_{max} \\arctan\\left({m (t - t_0)}\\right)\\\\\n",
    "j_1[t] = \\int{j_{int}[t]}dt = \\frac{m V_{max}}{1 + m^2 (t-t_0)^2}\n",
    "$$"
   ]
  },
  {
   "cell_type": "code",
   "execution_count": null,
   "id": "51abf270",
   "metadata": {},
   "outputs": [],
   "source": [
    "Vmax, t0, m = 500, 0.1, 200\n",
    "t = sym.symbols(\"t\")\n",
    "pulseI = Vmax * sym.atan(m * (t - t0))\n",
    "pulse = sym.diff(pulseI, t)\n",
    "j1pulse = Parameter.from_expression(\n",
    "    \"j1pulse\", pulse, flux_unit, use_preintegration=True, preint_sym_expr=pulseI\n",
    ")\n",
    "r1 = Reaction(\n",
    "    \"r1\",\n",
    "    [],\n",
    "    [\"B\"],\n",
    "    param_map={\"J\": \"j1pulse\"},\n",
    "    eqn_f_str=\"J\",\n",
    "    explicit_restriction_to_domain=\"PM\",\n",
    ")"
   ]
  },
  {
   "attachments": {},
   "cell_type": "markdown",
   "id": "b5e218b0",
   "metadata": {},
   "source": [
    "We can plot the time-dependent input by converting the sympy expression to a numpy function using lambdify (this is how SMART evaluates these expressions internally)."
   ]
  },
  {
   "cell_type": "code",
   "execution_count": null,
   "id": "a0829a6b",
   "metadata": {},
   "outputs": [],
   "source": [
    "from sympy.utilities.lambdify import lambdify\n",
    "pulse_func = lambdify(t, pulse,'numpy') # returns a numpy-ready function\n",
    "tArray = np.linspace(0, 1, 100)\n",
    "pulse_vals = pulse_func(tArray)\n",
    "plt.plot(tArray, pulse_vals)"
   ]
  },
  {
   "attachments": {},
   "cell_type": "markdown",
   "id": "03025cde",
   "metadata": {},
   "source": [
    "Note that we can also create a time-dependent parameter by reading data from a csv file. This is illustrated below, introducing a new parameter, \"j1pulse_fromfile\", which we do not use in the full model in this case. It could be used in the model by simply defining it as \"j1pulse\" to overwrite the parameter previously defined from an expression."
   ]
  },
  {
   "cell_type": "code",
   "execution_count": null,
   "id": "9de74e73",
   "metadata": {},
   "outputs": [],
   "source": [
    "j1pulse_fromfile = Parameter.from_file(\"j1pulse\", \"sample_input.csv\", flux_unit)\n",
    "tArray = j1pulse_fromfile.sampling_data[:,0]\n",
    "pulse_vals = j1pulse_fromfile.sampling_data[:,1]\n",
    "plt.plot(tArray, pulse_vals)"
   ]
  },
  {
   "attachments": {},
   "cell_type": "markdown",
   "id": "3d883c6e",
   "metadata": {},
   "source": [
    "Create containers for parameters and reactions and add all the parameters and reaction objects to them."
   ]
  },
  {
   "cell_type": "code",
   "execution_count": null,
   "id": "8ae2c2c1",
   "metadata": {},
   "outputs": [],
   "source": [
    "pc = ParameterContainer()\n",
    "pc.add([k4Vmax, k3r, k3f, k2f, j1pulse])\n",
    "\n",
    "rc = ReactionContainer()\n",
    "rc.add([r1, r2, r3, r4])"
   ]
  },
  {
   "attachments": {},
   "cell_type": "markdown",
   "id": "15c35d39",
   "metadata": {},
   "source": [
    "## Create/load in mesh\n",
    "\n",
    "In SMART we have different levels of meshes:\n",
    "- Parent mesh: contains the entire geometry of the problem, including all surfaces and volumes\n",
    "- Child meshes: submeshes (sections of the parent mesh) associated with individual compartments. Here, the child meshes are:\n",
    "    - Cyto: the portion of the outer cube outside of the inner cube, defined by `cell_markers = 1`\n",
    "    - ER: the inside portion of the inner cube, defined by `cell_markers = 2`\n",
    "    - PM: surface mesh where x=0, defined by `facet_markers = 10`\n",
    "    - ERm: surface mesh corresponding to all faces of the inner cube, defined by `facet_markers = 12`\n",
    "\n",
    "Here we create a UnitCube mesh as the Parent mesh, defined by\n",
    "\n",
    "$$\n",
    "\\Omega = [0, 1] \\times [0, 1] \\times [0, 1] \\subset \\mathbb{R}^3\n",
    "$$"
   ]
  },
  {
   "cell_type": "code",
   "execution_count": null,
   "id": "e77f97fe",
   "metadata": {},
   "outputs": [],
   "source": [
    "domain, facet_markers, cell_markers = mesh_tools.DemoCuboidsMesh()"
   ]
  },
  {
   "attachments": {},
   "cell_type": "markdown",
   "id": "035113ed",
   "metadata": {},
   "source": [
    "By default, DemoCuboidsMesh marks all faces of the outer cube as \"10\", our marker value associated with PM. Here, since we are only treating the x=0 face as PM, we alter the facet markers on all other faces, setting them equal to zero. They are then treated as no-flux boundaries not belonging to a designated surface compartment. The resultant mesh with the new facet and volume markers is displayed below."
   ]
  },
  {
   "cell_type": "code",
   "execution_count": null,
   "id": "fe56e162",
   "metadata": {},
   "outputs": [],
   "source": [
    "# Turn off \"PM\" on all sides of the cube except x=0\n",
    "for face in d.faces(domain):\n",
    "    if face.midpoint().x() > d.DOLFIN_EPS and facet_markers[face] == 10:\n",
    "        facet_markers[face] = 0\n",
    "img_mesh = mpimg.imread('example5-mesh.png')\n",
    "plt.imshow(img_mesh)\n",
    "plt.axis('off')"
   ]
  },
  {
   "attachments": {},
   "cell_type": "markdown",
   "id": "c17ebcbb",
   "metadata": {},
   "source": [
    "We now save the mesh as an h5 file and then read it into SMART as a `ParentMesh` object. "
   ]
  },
  {
   "cell_type": "code",
   "execution_count": null,
   "id": "5657aab1",
   "metadata": {},
   "outputs": [],
   "source": [
    "os.makedirs(\"mesh\", exist_ok=True)\n",
    "mesh_tools.write_mesh(domain, facet_markers, cell_markers, filename=\"mesh/DemoCuboidsMesh\")\n",
    "parent_mesh = mesh.ParentMesh(\n",
    "    mesh_filename=\"mesh/DemoCuboidsMesh.h5\",\n",
    "    mesh_filetype=\"hdf5\",\n",
    "    name=\"parent_mesh\",\n",
    ")"
   ]
  },
  {
   "attachments": {},
   "cell_type": "markdown",
   "id": "0f1cf8a4",
   "metadata": {},
   "source": [
    "## Model and solver initialization\n",
    "\n",
    "Now we are ready to set up the model. First we load the default configurations and set some configurations for the current solver."
   ]
  },
  {
   "cell_type": "code",
   "execution_count": null,
   "id": "8c1a2a92",
   "metadata": {},
   "outputs": [],
   "source": [
    "conf = config.Config()\n",
    "conf.solver.update(\n",
    "    {\n",
    "        \"final_t\": 1,\n",
    "        \"initial_dt\": 0.01,\n",
    "        \"time_precision\": 6,\n",
    "        \"use_snes\": True,\n",
    "        \"print_assembly\": False,\n",
    "    }\n",
    ")\n",
    "print(conf)"
   ]
  },
  {
   "attachments": {},
   "cell_type": "markdown",
   "id": "1511acc7",
   "metadata": {},
   "source": [
    "We create a model using the different containers and the parent mesh. For later reference, we save the model information as a pickle file. "
   ]
  },
  {
   "cell_type": "code",
   "execution_count": null,
   "id": "e3c3c30f",
   "metadata": {},
   "outputs": [],
   "source": [
    "model_cur = model.Model(pc, sc, cc, rc, conf, parent_mesh)\n",
    "model_cur.to_pickle('model_cur.pkl')\n",
    "print(model_cur)"
   ]
  },
  {
   "attachments": {},
   "cell_type": "markdown",
   "id": "dfb70c74",
   "metadata": {},
   "source": [
    "Note that we could later load the model information from the pickle file using the line:\n",
    "```Python\n",
    "model_cur = model.from_pickle(model_cur.pkl)\n",
    "```\n",
    "\n",
    "Next we need to initialize the model and solver."
   ]
  },
  {
   "cell_type": "code",
   "execution_count": null,
   "id": "c8976aa2",
   "metadata": {},
   "outputs": [],
   "source": [
    "model_cur.initialize(initialize_solver=False)\n",
    "model_cur.initialize_discrete_variational_problem_and_solver()"
   ]
  },
  {
   "attachments": {},
   "cell_type": "markdown",
   "id": "d05a1a75",
   "metadata": {},
   "source": [
    "## Solving system and storing data\n",
    "\n",
    "We create some XDMF files where we will store the output "
   ]
  },
  {
   "cell_type": "code",
   "execution_count": null,
   "id": "5df9509e",
   "metadata": {},
   "outputs": [],
   "source": [
    "\n",
    "# Write initial condition(s) to file\n",
    "results = dict()\n",
    "os.makedirs(\"results\", exist_ok=True)\n",
    "for species_name, species in model_cur.sc.items:\n",
    "    results[species_name] = d.XDMFFile(\n",
    "        model_cur.mpi_comm_world, f\"results/{species_name}.xdmf\"\n",
    "    )\n",
    "    results[species_name].parameters[\"flush_output\"] = True\n",
    "    results[species_name].write(model_cur.sc[species_name].u[\"u\"], model_cur.t)"
   ]
  },
  {
   "attachments": {},
   "cell_type": "markdown",
   "id": "183376e6",
   "metadata": {},
   "source": [
    "We now run the the solver and store the data at each time point to the initialized files. We also integrate A over the cytosolic volume at each time step to monitor the elevation in A over time."
   ]
  },
  {
   "cell_type": "code",
   "execution_count": null,
   "id": "31d42278",
   "metadata": {},
   "outputs": [],
   "source": [
    "avg_A = []\n",
    "tvec = []\n",
    "# Solve\n",
    "while model_cur.t <  model_cur.final_t:\n",
    "    # Solve the system\n",
    "    model_cur.monolithic_solve()\n",
    "    # Save results for post processing\n",
    "    for species_name, species in model_cur.sc.items:\n",
    "        results[species_name].write(model_cur.sc[species_name].u[\"u\"], model_cur.t)\n",
    "        # compute average Aphos concentration at each time step\n",
    "    dx = d.Measure(\"dx\",domain = model_cur.cc['Cyto'].dolfin_mesh)\n",
    "    int_val = d.assemble(model_cur.sc['A'].u['u']*dx)\n",
    "    volume = d.assemble(1.0*dx)\n",
    "    avg_A.append(int_val / volume)\n",
    "    tvec.append(model_cur.t)"
   ]
  },
  {
   "attachments": {},
   "cell_type": "markdown",
   "id": "e11917d7",
   "metadata": {},
   "source": [
    "Finally, we plot the average concentration of A over time."
   ]
  },
  {
   "cell_type": "code",
   "execution_count": null,
   "id": "b8651e71",
   "metadata": {},
   "outputs": [],
   "source": [
    "plt.plot(tvec, avg_A)\n",
    "plt.xlabel('Time (s)')\n",
    "plt.ylabel('Cytosolic concentration of A (μM)')"
   ]
  }
 ],
 "metadata": {
  "jupytext": {
   "cell_metadata_filter": "-all",
   "main_language": "python",
   "notebook_metadata_filter": "-all"
  },
  "kernelspec": {
   "display_name": "Python 3 (ipykernel)",
   "language": "python",
   "name": "python3"
  },
  "language_info": {
   "codemirror_mode": {
    "name": "ipython",
    "version": 3
   },
   "file_extension": ".py",
   "mimetype": "text/x-python",
   "name": "python",
   "nbconvert_exporter": "python",
   "pygments_lexer": "ipython3",
   "version": "3.10.6"
  },
  "vscode": {
   "interpreter": {
    "hash": "916dbcbb3f70747c44a77c7bcd40155683ae19c65e1c03b4aa3499c5328201f1"
   }
  }
 },
 "nbformat": 4,
 "nbformat_minor": 5
}
