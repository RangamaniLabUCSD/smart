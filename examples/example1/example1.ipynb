{
 "cells": [
  {
   "attachments": {},
   "cell_type": "markdown",
   "id": "f65f18d7",
   "metadata": {},
   "source": [
    "# Simple example showcasing some of the features of STUBS\n",
    "\n",
    "Geometry is divided into 4 domains; two volumes, and two surfaces:\n",
    "- PM\n",
    "- Cytosol\n",
    "- Cytosol\n",
    "\n",
    "There are three function-spaces on the three domains:\n",
    "```\n",
    "- u[Cyto] = [A, B]\n",
    "- u[ERm]  = [R, Ro]\n",
    "- u[ER]   = [AER]\n",
    "```\n",
    "\n",
    "Roughly, this model is similar to an IP3 pulse at the PM, leading to Ca2+ release at the ER"
   ]
  },
  {
   "cell_type": "code",
   "execution_count": 1,
   "id": "cc398816",
   "metadata": {},
   "outputs": [
    {
     "name": "stderr",
     "output_type": "stream",
     "text": [
      "Authorization required, but no authorization protocol specified\n",
      "Authorization required, but no authorization protocol specified\n"
     ]
    }
   ],
   "source": [
    "import os\n",
    "\n",
    "import dolfin as d\n",
    "import sympy as sym\n",
    "\n",
    "from stubs import unit, config, common, mesh, model\n",
    "from stubs.model_assembly import Compartment, Parameter, Reaction, Species"
   ]
  },
  {
   "attachments": {},
   "cell_type": "markdown",
   "id": "95b9d865",
   "metadata": {},
   "source": [
    "First, we define the various units for the inputs"
   ]
  },
  {
   "cell_type": "code",
   "execution_count": 2,
   "id": "4f4023cf",
   "metadata": {},
   "outputs": [],
   "source": [
    "# Aliases - base units\n",
    "uM = unit.uM\n",
    "um = unit.um\n",
    "molecule = unit.molecule\n",
    "sec = unit.sec\n",
    "# Aliases - units used in model\n",
    "D_unit = um**2 / sec\n",
    "flux_unit = molecule / (um**2 * sec)\n",
    "vol_unit = uM\n",
    "surf_unit = molecule / um**2"
   ]
  },
  {
   "attachments": {},
   "cell_type": "markdown",
   "id": "46582d26",
   "metadata": {},
   "source": [
    "Next we generate the model."
   ]
  },
  {
   "cell_type": "code",
   "execution_count": 3,
   "id": "09079b17",
   "metadata": {},
   "outputs": [],
   "source": [
    "def make_model():\n",
    "    # =============================================================================================\n",
    "    # Species\n",
    "    # =============================================================================================\n",
    "    # name, initial concentration, concentration units, diffusion, diffusion units, compartment\n",
    "    A = Species(\"A\", 0.01, vol_unit, 1.0, D_unit, \"Cyto\")\n",
    "    B = Species(\"B\", 0.0, vol_unit, 1.0, D_unit, \"Cyto\")\n",
    "    AER = Species(\"AER\", 200.0, vol_unit, 5.0, D_unit, \"ER\")\n",
    "\n",
    "    # Lets create an algebraic expression to define the initial condition of R\n",
    "    Rinit = \"(sin(40*y) + cos(40*z) + sin(40*x) + 3) * (y-x)**2\"\n",
    "    R1 = Species(\"R1\", Rinit, surf_unit, 0.02, D_unit, \"ERm\")\n",
    "    R1o = Species(\"R1o\", 0.0, surf_unit, 0.02, D_unit, \"ERm\")\n",
    "    # R2    = Species('R2'  , Rinit, surf_unit, 0   , D_unit, 'ERm')\n",
    "\n",
    "    # =============================================================================================\n",
    "    # Compartments\n",
    "    # =============================================================================================\n",
    "    # name, topological dimensionality, length scale units, marker value\n",
    "    Cyto = Compartment(\"Cyto\", 3, um, 1)\n",
    "    PM = Compartment(\"PM\", 2, um, 10)\n",
    "    ER = Compartment(\"ER\", 3, um, 2)\n",
    "    ERm = Compartment(\"ERm\", 2, um, 12)\n",
    "\n",
    "    # =============================================================================================\n",
    "    # Parameters and Reactions\n",
    "    # =============================================================================================\n",
    "    # Pulse function for B input at the PM\n",
    "    # One way to prescribe a \"pulse-like\" flux is to define the flux as the derivative of a sigmoid\n",
    "    # (here we choose atan as the sigmoid because of its simple derivative)\n",
    "    Vmax, t0, m = 500, 0.1, 200\n",
    "    t = sym.symbols(\"t\")\n",
    "    pulseI = Vmax * sym.atan(m * (t - t0))\n",
    "    pulse = sym.diff(pulseI, t)\n",
    "    j1pulse = Parameter.from_expression(\n",
    "        \"j1pulse\", pulse, flux_unit, use_preintegration=True, preint_sym_expr=pulseI\n",
    "    )\n",
    "    r1 = Reaction(\n",
    "        \"r1\",\n",
    "        [],\n",
    "        [\"B\"],\n",
    "        param_map={\"J\": \"j1pulse\"},\n",
    "        eqn_f_str=\"J\",\n",
    "        explicit_restriction_to_domain=\"PM\",\n",
    "    )\n",
    "\n",
    "    # Degradation of B in the cytosol\n",
    "    k2f = Parameter(\"k2f\", 10, 1 / sec)\n",
    "    r2 = Reaction(\n",
    "        \"r2\", [\"B\"], [], param_map={\"on\": \"k2f\"}, reaction_type=\"mass_action_forward\"\n",
    "    )\n",
    "\n",
    "    # Activating receptors on ERm with B\n",
    "    k3f = Parameter(\"k3f\", 100, 1 / (uM * sec))\n",
    "    k3r = Parameter(\"k3r\", 100, 1 / sec)\n",
    "    r3 = Reaction(\"r3\", [\"B\", \"R1\"], [\"R1o\"], {\"on\": \"k3f\", \"off\": \"k3r\"})\n",
    "\n",
    "    # Release of A from ERm to cytosol\n",
    "    k4Vmax = Parameter(\"k4Vmax\", 2000, 1 / (uM * sec))\n",
    "    r4 = Reaction(\n",
    "        \"r4\",\n",
    "        [\"AER\"],\n",
    "        [\"A\"],\n",
    "        param_map={\"Vmax\": \"k4Vmax\"},\n",
    "        species_map={\"R1o\": \"R1o\", \"uER\": \"AER\", \"u\": \"A\"},\n",
    "        eqn_f_str=\"Vmax*R1o*(uER-u)\",\n",
    "    )\n",
    "    #   explicit_restriction_to_domain='ERm')\n",
    "\n",
    "    # =============================================================================================\n",
    "    # Gather all parameters, species, compartments and reactions\n",
    "    # =============================================================================================\n",
    "    return common.sbmodel_from_locals(locals().values())"
   ]
  },
  {
   "attachments": {},
   "cell_type": "markdown",
   "id": "15c35d39",
   "metadata": {},
   "source": [
    "We load the model generated above, and load in the mesh we will use in this example."
   ]
  },
  {
   "cell_type": "code",
   "execution_count": 4,
   "id": "fe56e162",
   "metadata": {},
   "outputs": [
    {
     "name": "stdout",
     "output_type": "stream",
     "text": [
      "\u001b[32m[2023-01-20 time=02:35:42] Creating dolfin object for space-dependent initial condition R1\u001b[0m \u001b[97m\u001b[0m\n",
      "\n",
      "\u001b[35m!!!!!!!!!!!!!!!!!!!!!!!!!!!!!!!!!!!!!!!!!!!!!!!!!!!!!!!!!!!!!!!!!!!!!!!!!!!!!!!!!!!!!!!!!!!!!!!!!!!!!!!!!!!!!!!!!!!!!!!!!!!!!!!!!!!!!!!!!!!!!!!!!!!!!!!!!!!!!!!!!!!!!!!!\u001b[0m\n",
      "\u001b[35m!!!!!!!!!!!!!!!!!!!!!!!!!!!!!!!!!!!!!!!!!!!!!!!!!!!!!!!!!!!!!!!!!!!!!!!!!!!!!!!!!!!!!!!!!!!!!!!!!!!!!!!!!!!!!!!!!!!!!!!!!!!!!!!!!!!!!!!!!!!!!!!!!!!!!!!!!!!!!!!!!!!!!!!!\u001b[0m\n",
      "\u001b[35m!!!!!\u001b[0m \u001b[31m[2023-01-20 time=02:35:42] Warning! Pre-integrating parameter j1pulse. Make sure that expressions j1pulse appears in have no other time-dependent variables.\u001b[0m \u001b[35m!!!!!\u001b[0m\n",
      "\u001b[35m!!!!!!!!!!!!!!!!!!!!!!!!!!!!!!!!!!!!!!!!!!!!!!!!!!!!!!!!!!!!!!!!!!!!!!!!!!!!!!!!!!!!!!!!!!!!!!!!!!!!!!!!!!!!!!!!!!!!!!!!!!!!!!!!!!!!!!!!!!!!!!!!!!!!!!!!!!!!!!!!!!!!!!!!\u001b[0m\n",
      "\u001b[35m!!!!!!!!!!!!!!!!!!!!!!!!!!!!!!!!!!!!!!!!!!!!!!!!!!!!!!!!!!!!!!!!!!!!!!!!!!!!!!!!!!!!!!!!!!!!!!!!!!!!!!!!!!!!!!!!!!!!!!!!!!!!!!!!!!!!!!!!!!!!!!!!!!!!!!!!!!!!!!!!!!!!!!!!\u001b[0m\n",
      "\n",
      "\n",
      "\u001b[35m!!!!!!!!!!!!!!!!!!!!!!!!!!!!!!!!!!!!!!!!!!!!!!!!!!!!!!!!!!!!!!!!!!!!!!!!!!!!!!!!!!!!!!!!!!!!!!!!!!!!!!!!!!!!!!!!!!!!!!!!!!!!!!!!!!!!!!!!!!!!!!!!!!!!!!!!!!!!!!!!!!!!!!!!\u001b[0m\n",
      "\u001b[35m!!!!!!!!!!!!!!!!!!!!!!!!!!!!!!!!!!!!!!!!!!!!!!!!!!!!!!!!!!!!!!!!!!!!!!!!!!!!!!!!!!!!!!!!!!!!!!!!!!!!!!!!!!!!!!!!!!!!!!!!!!!!!!!!!!!!!!!!!!!!!!!!!!!!!!!!!!!!!!!!!!!!!!!!\u001b[0m\n",
      "\u001b[35m!!!!!\u001b[0m \u001b[31m[2023-01-20 time=02:35:42] Warning! Pre-integrating parameter j1pulse. Make sure that expressions j1pulse appears in have no other time-dependent variables.\u001b[0m \u001b[35m!!!!!\u001b[0m\n",
      "\u001b[35m!!!!!!!!!!!!!!!!!!!!!!!!!!!!!!!!!!!!!!!!!!!!!!!!!!!!!!!!!!!!!!!!!!!!!!!!!!!!!!!!!!!!!!!!!!!!!!!!!!!!!!!!!!!!!!!!!!!!!!!!!!!!!!!!!!!!!!!!!!!!!!!!!!!!!!!!!!!!!!!!!!!!!!!!\u001b[0m\n",
      "\u001b[35m!!!!!!!!!!!!!!!!!!!!!!!!!!!!!!!!!!!!!!!!!!!!!!!!!!!!!!!!!!!!!!!!!!!!!!!!!!!!!!!!!!!!!!!!!!!!!!!!!!!!!!!!!!!!!!!!!!!!!!!!!!!!!!!!!!!!!!!!!!!!!!!!!!!!!!!!!!!!!!!!!!!!!!!!\u001b[0m\n",
      "\n",
      "\u001b[32m[2023-01-20 time=02:35:42] Time-dependent parameter j1pulse evaluated from expression.\u001b[0m \u001b[97m\u001b[0m\n",
      "HDF5 mesh, \"parent_mesh\", successfully loaded from file: mesh/DemoCuboidsMesh.h5!\n",
      "Object `config.solver.update` not found.\n"
     ]
    },
    {
     "ename": "AttributeError",
     "evalue": "'SolverConfig' object has no attribute 'update'",
     "output_type": "error",
     "traceback": [
      "\u001b[0;31m---------------------------------------------------------------------------\u001b[0m",
      "\u001b[0;31mAttributeError\u001b[0m                            Traceback (most recent call last)",
      "Cell \u001b[0;32mIn[4], line 25\u001b[0m\n\u001b[1;32m     23\u001b[0m model \u001b[39m=\u001b[39m model\u001b[39m.\u001b[39mModel(pc, sc, cc, rc, config, parent_mesh)\n\u001b[1;32m     24\u001b[0m get_ipython()\u001b[39m.\u001b[39mrun_line_magic(\u001b[39m'\u001b[39m\u001b[39mpinfo\u001b[39m\u001b[39m'\u001b[39m, \u001b[39m'\u001b[39m\u001b[39mconfig.solver.update\u001b[39m\u001b[39m'\u001b[39m)\n\u001b[0;32m---> 25\u001b[0m config\u001b[39m.\u001b[39;49msolver\u001b[39m.\u001b[39;49mupdate(\n\u001b[1;32m     26\u001b[0m     {\n\u001b[1;32m     27\u001b[0m         \u001b[39m\"\u001b[39m\u001b[39mfinal_t\u001b[39m\u001b[39m\"\u001b[39m: \u001b[39m1\u001b[39m,\n\u001b[1;32m     28\u001b[0m         \u001b[39m\"\u001b[39m\u001b[39minitial_dt\u001b[39m\u001b[39m\"\u001b[39m: \u001b[39m0.01\u001b[39m,\n\u001b[1;32m     29\u001b[0m         \u001b[39m\"\u001b[39m\u001b[39mtime_precision\u001b[39m\u001b[39m\"\u001b[39m: \u001b[39m6\u001b[39m,\n\u001b[1;32m     30\u001b[0m         \u001b[39m\"\u001b[39m\u001b[39muse_snes\u001b[39m\u001b[39m\"\u001b[39m: \u001b[39mTrue\u001b[39;00m,\n\u001b[1;32m     31\u001b[0m         \u001b[39m\"\u001b[39m\u001b[39mprint_assembly\u001b[39m\u001b[39m\"\u001b[39m: \u001b[39mFalse\u001b[39;00m,\n\u001b[1;32m     32\u001b[0m     }\n\u001b[1;32m     33\u001b[0m )\n\u001b[1;32m     35\u001b[0m model\u001b[39m.\u001b[39minitialize(initialize_solver\u001b[39m=\u001b[39m\u001b[39mFalse\u001b[39;00m)\n\u001b[1;32m     36\u001b[0m model\u001b[39m.\u001b[39minitialize_discrete_variational_problem_and_solver()\n",
      "\u001b[0;31mAttributeError\u001b[0m: 'SolverConfig' object has no attribute 'update'"
     ]
    }
   ],
   "source": [
    "\n",
    "pc, sc, cc, rc = make_model()\n",
    "\n",
    "# =============================================================================================\n",
    "# Create/load in mesh\n",
    "# =============================================================================================\n",
    "# Base mesh\n",
    "domain, facet_markers, cell_markers = common.DemoCuboidsMesh()\n",
    "# Turn off \"PM\" on all sides of the cube except x=0\n",
    "for face in d.faces(domain):\n",
    "    if face.midpoint().x() > d.DOLFIN_EPS and facet_markers[face] == 10:\n",
    "        facet_markers[face] = 0\n",
    "# Write mesh and meshfunctions to file\n",
    "os.makedirs(\"mesh\", exist_ok=True)\n",
    "common.write_mesh(domain, facet_markers, cell_markers, filename=\"mesh/DemoCuboidsMesh\")\n",
    "\n",
    "# # Define solvers\n",
    "parent_mesh = mesh.ParentMesh(\n",
    "    mesh_filename=\"mesh/DemoCuboidsMesh.h5\",\n",
    "    mesh_filetype=\"hdf5\",\n",
    "    name=\"parent_mesh\",\n",
    ")\n",
    "config = config.Config()\n",
    "model = model.Model(pc, sc, cc, rc, config, parent_mesh)\n",
    "config.solver.update(\n",
    "    {\n",
    "        \"final_t\": 1,\n",
    "        \"initial_dt\": 0.01,\n",
    "        \"time_precision\": 6,\n",
    "        \"use_snes\": True,\n",
    "        \"print_assembly\": False,\n",
    "    }\n",
    ")\n",
    "\n",
    "model.initialize(initialize_solver=False)\n",
    "model.initialize_discrete_variational_problem_and_solver()\n",
    "\n",
    "# Write initial condition(s) to file\n",
    "results = dict()\n",
    "os.makedirs(\"results\", exist_ok=True)\n",
    "for species_name, species in model.sc.items:\n",
    "    results[species_name] = d.XDMFFile(\n",
    "        model.mpi_comm_world, f\"results/{species_name}.xdmf\"\n",
    "    )\n",
    "    results[species_name].parameters[\"flush_output\"] = True\n",
    "    results[species_name].write(model.sc[species_name].u[\"u\"], model.t)\n",
    "\n",
    "# Solve\n",
    "while True:\n",
    "    # Solve the system\n",
    "    model.monolithic_solve()\n",
    "    # Save results for post processing\n",
    "    for species_name, species in model.sc.items:\n",
    "        results[species_name].write(model.sc[species_name].u[\"u\"], model.t)\n",
    "    # End if we've passed the final time\n",
    "    if model.t >= model.final_t:\n",
    "        break"
   ]
  },
  {
   "cell_type": "code",
   "execution_count": null,
   "id": "b54d28ca",
   "metadata": {},
   "outputs": [],
   "source": []
  }
 ],
 "metadata": {
  "jupytext": {
   "cell_metadata_filter": "-all",
   "main_language": "python",
   "notebook_metadata_filter": "-all"
  },
  "kernelspec": {
   "display_name": "Python 3",
   "language": "python",
   "name": "python3"
  },
  "language_info": {
   "codemirror_mode": {
    "name": "ipython",
    "version": 3
   },
   "file_extension": ".py",
   "mimetype": "text/x-python",
   "name": "python",
   "nbconvert_exporter": "python",
   "pygments_lexer": "ipython3",
   "version": "3.10.6"
  },
  "vscode": {
   "interpreter": {
    "hash": "916dbcbb3f70747c44a77c7bcd40155683ae19c65e1c03b4aa3499c5328201f1"
   }
  }
 },
 "nbformat": 4,
 "nbformat_minor": 5
}
