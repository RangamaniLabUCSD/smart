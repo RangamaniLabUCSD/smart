{
 "cells": [
  {
   "attachments": {},
   "cell_type": "markdown",
   "id": "f65f18d7",
   "metadata": {},
   "source": [
    "# Example for system in Meyers, Craig and Odde 2006\n",
    "\n",
    "Geometry is divided into 2 domains; one volume and one surface:\n",
    "- PM\n",
    "- Cytosol\n",
    "\n",
    "This model has a single species, A, which is phosphorylated at the cell membrane. The unphosphorylated form of A ($A_{dephos}$) can be inferred from mass conservation; everywhere $c_{A_{phos}} + c_{A_{dephos}} = c_{Tot}$, which is a constant in both time and space if the phosphorylated vs. unphosphorylated forms have the same diffusion coefficient.\n",
    "\n",
    "There are two reactions - one in the PM and other in the cytosol. At the membrane, $A_{dephos}$ is phosphorylated by a first-order reaction with rate $k_{kin}$, and in the cytosolic volume, $A_{phos}$ is dephosphorylated by a first order reaction with rate $k_p$.\n",
    "\n",
    "Currently, this code includes a dummy variable, kinMem, which represents relative kinase activity at the membrane, currently set as constant at 1 (dimensionless). Without this additional species, the code currently does not solve the system (it seems that there needs to be variables in at least two compartments to solve the monolithic system).\n"
   ]
  },
  {
   "cell_type": "code",
   "execution_count": null,
   "id": "cc398816",
   "metadata": {},
   "outputs": [],
   "source": [
    "import os\n",
    "\n",
    "import dolfin as d\n",
    "import sympy as sym\n",
    "import numpy as np\n",
    "\n",
    "from stubs import unit, config, common, mesh, model\n",
    "from stubs.model_assembly import Compartment, Parameter, Reaction, Species, sbmodel_from_locals\n",
    "from matplotlib import pyplot as plt"
   ]
  },
  {
   "attachments": {},
   "cell_type": "markdown",
   "id": "95b9d865",
   "metadata": {},
   "source": [
    "First, we define the various units for the inputs"
   ]
  },
  {
   "cell_type": "code",
   "execution_count": null,
   "id": "4f4023cf",
   "metadata": {},
   "outputs": [],
   "source": [
    "# Aliases - base units\n",
    "uM = unit.uM\n",
    "um = unit.um\n",
    "molecule = unit.molecule\n",
    "sec = unit.sec\n",
    "dimensionless = unit.dimensionless\n",
    "# Aliases - units used in model\n",
    "D_unit = um**2 / sec\n",
    "flux_unit = molecule / (um**2 * sec)\n",
    "vol_unit = uM\n",
    "surf_unit = molecule / um**2"
   ]
  },
  {
   "attachments": {},
   "cell_type": "markdown",
   "id": "46582d26",
   "metadata": {},
   "source": [
    "Next we generate the model."
   ]
  },
  {
   "cell_type": "code",
   "execution_count": null,
   "id": "09079b17",
   "metadata": {},
   "outputs": [],
   "source": [
    "def make_model(curRadius):\n",
    "    # =============================================================================================\n",
    "    # Species\n",
    "    # =============================================================================================\n",
    "    # name, initial concentration, concentration units, diffusion, diffusion units, compartment\n",
    "    Aphos = Species(\"Aphos\", 0.1, vol_unit, 10.0, D_unit, \"Cyto\")\n",
    "    kinMem = Species(\"kinMem\", 1.0, dimensionless, 0.0, D_unit, \"PM\") # dummy variable; without this, the current version of SMART throws an error\n",
    "\n",
    "    # =============================================================================================\n",
    "    # Compartments\n",
    "    # =============================================================================================\n",
    "    # name, topological dimensionality, length scale units, marker value\n",
    "    Cyto = Compartment(\"Cyto\", 3, um, 1)\n",
    "    PM = Compartment(\"PM\", 2, um, 10)\n",
    "\n",
    "    # =============================================================================================\n",
    "    # Parameters and Reactions\n",
    "    # =============================================================================================\n",
    "    Atot = Parameter(\"Atot\", 1.0, vol_unit)\n",
    "    # Phosphorylation of Adephos at the PM\n",
    "    kkin = Parameter(\"kkin\", 50.0, 1/sec) \n",
    "    VolSA = Parameter(\"VolSA\", curRadius/3, um) # vol to surface area ratio of the cell\n",
    "    r1 = Reaction(\"r1\", [], [\"Aphos\"], param_map={\"kon\": \"kkin\", \"Atot\": \"Atot\", \"VolSA\": \"VolSA\"},\n",
    "        eqn_f_str=\"kinMem*kon*VolSA*(Atot - Aphos)\", species_map={\"Aphos\": \"Aphos\",\"kinMem\": \"kinMem\"}, explicit_restriction_to_domain=\"PM\")\n",
    "    # Dephosphorylation of Aphos in the cytosol\n",
    "    kp = Parameter(\"kp\", 10.0, 1/sec)\n",
    "    r2 = Reaction(\"r2\", [\"Aphos\"], [], param_map={\"kon\": \"kp\"},\n",
    "         eqn_f_str=\"kon*Aphos\", species_map={\"Aphos\": \"Aphos\"})\n",
    "\n",
    "    # =============================================================================================\n",
    "    # Gather all parameters, species, compartments and reactions\n",
    "    # =============================================================================================\n",
    "    return sbmodel_from_locals(locals().values())"
   ]
  },
  {
   "attachments": {},
   "cell_type": "markdown",
   "id": "15c35d39",
   "metadata": {},
   "source": [
    "We load the model generated above, and load in the mesh we will use in this example, iterating over 10 different values of cell radius, log-spaced between 1 and 10."
   ]
  },
  {
   "cell_type": "code",
   "execution_count": null,
   "id": "fe56e162",
   "metadata": {},
   "outputs": [],
   "source": [
    "radiusVec = np.logspace(0,1,num=10) # currently testing 10 radius values\n",
    "ss_vec = np.zeros((10, 1))\n",
    "for i in range(10):\n",
    "    curRadius = radiusVec[i]\n",
    "    pc, sc, cc, rc = make_model(curRadius)\n",
    "\n",
    "    # =============================================================================================\n",
    "    # Create/load in mesh\n",
    "    # =============================================================================================\n",
    "    # Base mesh\n",
    "    domain, facet_markers, cell_markers = common.DemoSpheresMesh(curRadius, 0, hEdge = 0.2) # 0 in second argument corresponds to no inner sphere\n",
    "    # Write mesh and meshfunctions to file\n",
    "    os.makedirs(f\"mesh_{i:03d}\", exist_ok=True)\n",
    "    common.write_mesh(domain, facet_markers, cell_markers, filename=f\"mesh_{i:03d}/DemoSphere\")\n",
    "\n",
    "    # # Define solvers\n",
    "    parent_mesh = mesh.ParentMesh(\n",
    "        mesh_filename=f\"mesh_{i:03d}/DemoSphere.h5\",\n",
    "        mesh_filetype=\"hdf5\",\n",
    "        name=\"parent_mesh\",\n",
    "    )\n",
    "    configCur = config.Config()\n",
    "    modelCur = model.Model(pc, sc, cc, rc, configCur, parent_mesh)\n",
    "    configCur.solver.update(\n",
    "        {\n",
    "            \"final_t\": 1,\n",
    "            \"initial_dt\": 0.01,\n",
    "            \"time_precision\": 6,\n",
    "            \"use_snes\": True,\n",
    "            \"print_assembly\": False,\n",
    "        }\n",
    "    )\n",
    "\n",
    "    modelCur.initialize(initialize_solver=False)\n",
    "    modelCur.initialize_discrete_variational_problem_and_solver()\n",
    "    # Write initial condition(s) to file\n",
    "    results = dict()\n",
    "    os.makedirs(f\"resultsSphere_{i:03d}\", exist_ok=True)\n",
    "    for species_name, species in modelCur.sc.items:\n",
    "        results[species_name] = d.XDMFFile(\n",
    "            modelCur.mpi_comm_world, f\"resultsSphere_{i:03d}/{species_name}.xdmf\"\n",
    "        )\n",
    "        results[species_name].parameters[\"flush_output\"] = True\n",
    "        results[species_name].write(modelCur.sc[species_name].u[\"u\"], modelCur.t)\n",
    "\n",
    "    # Solve\n",
    "    while True:\n",
    "        # Solve the system\n",
    "        modelCur.monolithic_solve()\n",
    "        # Save results for post processing\n",
    "        for species_name, species in modelCur.sc.items:\n",
    "            results[species_name].write(modelCur.sc[species_name].u[\"u\"], modelCur.t)\n",
    "        # End if we've passed the final time\n",
    "        if modelCur.t >= modelCur.final_t:\n",
    "            break\n",
    "    \n",
    "    # compute steady state solution at the end of each run\n",
    "    dx = d.Measure(\"dx\",domain = modelCur.cc['Cyto'].dolfin_mesh)\n",
    "    int_val = d.assemble(modelCur.sc['Aphos'].u['u']*dx)\n",
    "    volume = d.assemble(1.0*dx)\n",
    "    ss_val = int_val / volume\n",
    "    ss_vec[i] = ss_val\n",
    "\n",
    "np.savetxt(f\"ss_vec.txt\", ss_vec)"
   ]
  },
  {
   "cell_type": "code",
   "execution_count": null,
   "id": "d950b475",
   "metadata": {},
   "outputs": [],
   "source": [
    "%matplotlib inline\n",
    "plt.plot(radiusVec, ss_vec, 'ro')\n",
    "radiusTest = np.logspace(0,1,100)\n",
    "thieleMod = radiusTest / 1.0\n",
    "k_kin = 50\n",
    "k_p = 10\n",
    "cT = 1\n",
    "D = 10\n",
    "C1 = k_kin*cT*radiusTest**2/((3*D*(np.sqrt(k_p/D)-(1/radiusTest)) + k_kin*radiusTest)*np.exp(thieleMod) +\n",
    "        (3*D*(np.sqrt(k_p/D)+(1/radiusTest))-k_kin*radiusTest)*np.exp(-thieleMod))\n",
    "cA = (6*C1/radiusTest)*(np.cosh(thieleMod)/thieleMod - np.sinh(thieleMod)/thieleMod**2)\n",
    "plt.plot(radiusTest, cA)\n",
    "plt.xlabel(\"Cell radius (μm)\")\n",
    "plt.ylabel(\"Steady state concentration (μM)\")\n",
    "plt.legend((\"SMART simulation\", \"Analytical solution\"))"
   ]
  },
  {
   "cell_type": "code",
   "execution_count": null,
   "id": "fe379435",
   "metadata": {},
   "outputs": [],
   "source": [
    "# quantify percent error\n",
    "thieleMod = radiusVec / 1.0\n",
    "k_kin = 50\n",
    "k_p = 10\n",
    "cT = 1\n",
    "D = 10\n",
    "C1 = k_kin*cT*radiusVec**2/((3*D*(np.sqrt(k_p/D)-(1/radiusVec)) + k_kin*radiusVec)*np.exp(thieleMod) +\n",
    "        (3*D*(np.sqrt(k_p/D)+(1/radiusVec))-k_kin*radiusVec)*np.exp(-thieleMod))\n",
    "cA = (6*C1/radiusVec)*(np.cosh(thieleMod)/thieleMod - np.sinh(thieleMod)/thieleMod**2)\n",
    "percentError = 100*np.abs(ss_vec - cA) / cA\n",
    "plt.plot(radiusVec,percentError)\n",
    "plt.xlabel(\"Cell radius (μm)\")\n",
    "plt.ylabel(\"Percent error from analytical solution\")\n",
    "assert all(percentError < 1), f\"Example 2 results deviate {max(percentError):.3f}% from the analytical solution\"\n",
    "rmse = np.sqrt(np.mean(percentError**2))\n",
    "print(f\"RMSE with respect to analytical solution = {rmse:.3f}%\")"
   ]
  },
  {
   "cell_type": "code",
   "execution_count": null,
   "id": "05043f63",
   "metadata": {},
   "outputs": [],
   "source": [
    "# check that solution is not too far from previous numerical solution (regression test)\n",
    "ss_vec_ref = np.array([7.923821144851057596e-01, 7.669667883419870602e-01,\n",
    "                       7.298498502029002744e-01, 6.788940529553533221e-01,\n",
    "                       6.142454046569625348e-01, 5.396662231709322688e-01,\n",
    "                       4.614726970070175405e-01, 3.858559025223168293e-01,\n",
    "                       3.170657047898646219e-01, 2.570951001202800845e-01])\n",
    "percentErrorRegression = 100*np.abs(ss_vec - ss_vec_ref) / ss_vec_ref\n",
    "# not sure what the tolerated error should be for this regression test, currently set to 0.1%\n",
    "assert all(percentErrorRegression < 0.1), f\"Failed regression test: Example 2 results deviate {max(percentErrorRegression):.3f}% from the previous numerical solution\"\n",
    "rmse_regression = np.sqrt(np.mean(percentErrorRegression**2))\n",
    "print(f\"RMSE with respect to previous numerical solution = {rmse_regression:.3f}%\")"
   ]
  }
 ],
 "metadata": {
  "jupytext": {
   "cell_metadata_filter": "-all",
   "main_language": "python",
   "notebook_metadata_filter": "-all"
  },
  "kernelspec": {
   "display_name": "Python 3",
   "language": "python",
   "name": "python3"
  },
  "language_info": {
   "codemirror_mode": {
    "name": "ipython",
    "version": 3
   },
   "file_extension": ".py",
   "mimetype": "text/x-python",
   "name": "python",
   "nbconvert_exporter": "python",
   "pygments_lexer": "ipython3",
   "version": "3.10.6"
  },
  "vscode": {
   "interpreter": {
    "hash": "916dbcbb3f70747c44a77c7bcd40155683ae19c65e1c03b4aa3499c5328201f1"
   }
  }
 },
 "nbformat": 4,
 "nbformat_minor": 5
}
