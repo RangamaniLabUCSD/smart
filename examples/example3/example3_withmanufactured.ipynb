{
 "cells": [
  {
   "attachments": {},
   "cell_type": "markdown",
   "id": "f65f18d7",
   "metadata": {},
   "source": [
    "# Example 3: Protein phosphorylation and diffusion in 3D cell geometry\n",
    "\n",
    "Here, we implement the model of protein phosphorylation at the cell membrane and diffusion in the cytosol from [Meyers, Craig, and Odde 2006, Current Biology](https://doi.org/10.1016/j.cub.2006.07.056). It involves a single species $A$ that is phosphorylated at the cell membrane and dephosphorylated throughout the cytosol. For the full equations and more details, see the main example 3 file."
   ]
  },
  {
   "cell_type": "code",
   "execution_count": null,
   "id": "cc398816",
   "metadata": {},
   "outputs": [],
   "source": [
    "import dolfin as d\n",
    "import numpy as np\n",
    "import pathlib\n",
    "import logging\n",
    "\n",
    "from smart import config, mesh, model, mesh_tools\n",
    "from smart.units import unit\n",
    "import sympy as sym\n",
    "import gmsh  # must be imported before pyvista if dolfin is imported first\n",
    "\n",
    "from smart import config, mesh, model, mesh_tools, visualization\n",
    "from smart.model_assembly import (\n",
    "    Compartment,\n",
    "    Parameter,\n",
    "    Reaction,\n",
    "    Species,\n",
    "    SpeciesContainer,\n",
    "    ParameterContainer,\n",
    "    CompartmentContainer,\n",
    "    ReactionContainer,\n",
    ")\n",
    "\n",
    "from matplotlib import pyplot as plt\n",
    "import matplotlib.image as mpimg\n",
    "logger = logging.getLogger(\"smart\")\n",
    "logger.setLevel(logging.INFO)"
   ]
  },
  {
   "attachments": {},
   "cell_type": "markdown",
   "id": "95b9d865",
   "metadata": {},
   "source": [
    "Now, we define various units used in this problem."
   ]
  },
  {
   "cell_type": "code",
   "execution_count": null,
   "id": "4f4023cf",
   "metadata": {},
   "outputs": [],
   "source": [
    "uM = unit.uM\n",
    "um = unit.um\n",
    "molecule = unit.molecule\n",
    "sec = unit.sec\n",
    "dimensionless = unit.dimensionless\n",
    "D_unit = um**2 / sec\n",
    "flux_unit = molecule / (um**2 * sec)\n",
    "vol_unit = uM"
   ]
  },
  {
   "attachments": {},
   "cell_type": "markdown",
   "id": "105b9b7e",
   "metadata": {},
   "source": [
    "Define compartments and species and create compartment and species containers. Note that the surface is subdivided into six surface compartments (see definition of cube mesh below)."
   ]
  },
  {
   "cell_type": "code",
   "execution_count": null,
   "id": "2aeb8fe6",
   "metadata": {},
   "outputs": [],
   "source": [
    "Cyto = Compartment(\"Cyto\", 3, um, 1)\n",
    "PMleft = Compartment(\"PMleft\", 2, um, 10)\n",
    "PMright = Compartment(\"PMright\", 2, um, 11)\n",
    "PMfront = Compartment(\"PMfront\", 2, um, 12)\n",
    "PMback = Compartment(\"PMback\", 2, um, 13)\n",
    "PMbottom = Compartment(\"PMbottom\", 2, um, 14)\n",
    "PMtop = Compartment(\"PMtop\", 2, um, 15)\n",
    "Aphos = Species(\"Aphos\", 0.0, vol_unit, 10.0, D_unit, \"Cyto\")\n",
    "\n",
    "cc = CompartmentContainer()\n",
    "cc.add([PMleft, PMright, PMfront, PMback, PMtop, PMbottom, Cyto])\n",
    "sc = SpeciesContainer()\n",
    "sc.add([Aphos])"
   ]
  },
  {
   "attachments": {},
   "cell_type": "markdown",
   "id": "430c8b6e",
   "metadata": {},
   "source": [
    "Define parameters and reactions and create parameter and reaction containers."
   ]
  },
  {
   "cell_type": "code",
   "execution_count": null,
   "id": "7cebdcf1",
   "metadata": {},
   "outputs": [],
   "source": [
    "Atot = Parameter(\"Atot\", 1.0, vol_unit)\n",
    "# Phosphorylation of Adephos at the PM\n",
    "kkin = Parameter(\"kkin\", 50.0, 1/sec)\n",
    "curRadius = 2  # first radius value to test\n",
    "# vol to surface area ratio of the cell (overwritten for each cell size)\n",
    "VolSA = Parameter(\"VolSA\", curRadius/3, um)\n",
    "r1 = []\n",
    "for PMsub in [\"PMleft\", \"PMright\", \"PMfront\", \"PMback\", \"PMbottom\", \"PMtop\"]:\n",
    "    r1.append(Reaction(f\"r1_{PMsub}\", [], [\"Aphos\"], param_map={\"kon\": \"kkin\", \"Atot\": \"Atot\", \"VolSA\": \"VolSA\"},\n",
    "              eqn_f_str=\"kon*VolSA*(Atot - Aphos)\", species_map={\"Aphos\": \"Aphos\"}, explicit_restriction_to_domain=PMsub))\n",
    "# Dephosphorylation of Aphos in the cytosol\n",
    "kp = Parameter(\"kp\", 10.0, 1/sec)\n",
    "r2 = Reaction(\"r2\", [\"Aphos\"], [], param_map={\"kon\": \"kp\"},\n",
    "              eqn_f_str=\"kp*Aphos\", species_map={\"Aphos\": \"Aphos\"})\n",
    "pc = ParameterContainer()\n",
    "pc.add([Atot, kkin, VolSA, kp])\n",
    "\n",
    "rc = ReactionContainer()\n",
    "rc.add([*r1, r2])"
   ]
  },
  {
   "cell_type": "markdown",
   "id": "309e5e8a",
   "metadata": {},
   "source": [
    "Define manufactured solution and associated reactions. To not make the choice of manufactured solution completely arbitrary, we have chosen it as a multiplication of three solutions to the PDE in 1D, then multiplied by some time-dependence governed by the time-scale of protein dephosphorylation in the cytosol."
   ]
  },
  {
   "cell_type": "code",
   "execution_count": null,
   "id": "6ce6af50",
   "metadata": {},
   "outputs": [],
   "source": [
    "xSize, ySize, zSize = 2.0, 2.0, 2.0\n",
    "x = sym.Symbol('x')\n",
    "y = sym.Symbol('y')\n",
    "z = sym.Symbol('z')\n",
    "t = sym.Symbol('t')\n",
    "k_kin = kkin.value*VolSA.value\n",
    "k_p = kp.value\n",
    "cT = Atot.value\n",
    "D = Aphos.D\n",
    "xFactor = xSize / sym.sqrt(3*D/k_p)\n",
    "Ax = (k_kin*xSize/(2*D))*sym.exp(xFactor) / ((xFactor/2)*(sym.exp(xFactor)-1) + (k_kin*xSize/(2*D))*(1+sym.exp(xFactor)))\n",
    "Bx = (k_kin*xSize/(2*D)) / ((xFactor/2)*(sym.exp(xFactor)-1) + (k_kin*xSize/(2*D))*(1+sym.exp(xFactor)))\n",
    "yFactor = ySize / sym.sqrt(3*D/k_p)\n",
    "Ay = (k_kin*ySize/(2*D))*sym.exp(yFactor) / ((yFactor/2)*(sym.exp(yFactor)-1) + (k_kin*ySize/(2*D))*(1+sym.exp(yFactor)))\n",
    "By = (k_kin*ySize/(2*D)) / ((yFactor/2)*(sym.exp(yFactor)-1) + (k_kin*ySize/(2*D))*(1+sym.exp(yFactor)))\n",
    "zFactor = zSize / sym.sqrt(3*D/k_p)\n",
    "Az = (k_kin*zSize/(2*D))*sym.exp(zFactor) / ((zFactor/2)*(sym.exp(zFactor)-1) + (k_kin*zSize/(2*D))*(1+sym.exp(zFactor)))\n",
    "Bz = (k_kin*zSize/(2*D)) / ((zFactor/2)*(sym.exp(zFactor)-1) + (k_kin*zSize/(2*D))*(1+sym.exp(zFactor)))\n",
    "expFactor = sym.sqrt(k_p/(3*D))\n",
    "Asol = cT * ((Ax*sym.exp(-expFactor*x) + Bx*sym.exp(expFactor*x)) * \n",
    "                (Ay*sym.exp(-expFactor*y) + By*sym.exp(expFactor*y)) * \n",
    "                (Az*sym.exp(-expFactor*z) + Bz*sym.exp(expFactor*z)) *\n",
    "                (1 - sym.exp(-k_kin*t)))\n",
    "f = sym.diff(Asol, t) - D*(sym.diff(sym.diff(Asol,x),x) + sym.diff(sym.diff(Asol,y),y) + sym.diff(sym.diff(Asol,z),z)) + k_p*Asol\n",
    "f_parameter = Parameter.from_expression(\"f_parameter\", str(f), uM/sec)#, use_preintegration=True)\n",
    "f_reaction = Reaction(\"f_reaction\", [], [\"Aphos\"], param_map={\"k\": \"f_parameter\"}, species_map={}, eqn_f_str=\"k\")\n",
    "pc.add([f_parameter])\n",
    "rc.add([f_reaction])\n",
    "\n",
    "gleft = -D*sym.diff(Asol,x) - k_kin*(Atot.value-Asol)\n",
    "gleft.subs(x, 0.0)\n",
    "gright = D*sym.diff(Asol,x) - k_kin*(Atot.value-Asol)\n",
    "gright.subs(x, xSize)\n",
    "gfront = -D*sym.diff(Asol,y) - k_kin*(Atot.value-Asol)\n",
    "gfront.subs(y, 0.0)\n",
    "gback = D*sym.diff(Asol,y) - k_kin*(Atot.value-Asol)\n",
    "gback.subs(y, ySize)\n",
    "gbottom = -D*sym.diff(Asol,z) - k_kin*(Atot.value-Asol)\n",
    "gbottom.subs(z, 0.0)\n",
    "gtop = D*sym.diff(Asol,z) - k_kin*(Atot.value-Asol)\n",
    "gtop.subs(z, zSize)\n",
    "\n",
    "g_params = []\n",
    "g_reactions = []\n",
    "PMsub_list = [\"PMleft\", \"PMright\", \"PMfront\", \"PMback\", \"PMbottom\", \"PMtop\"]\n",
    "gExpr_list = [gleft,  gright,  gfront,  gback,  gbottom,  gtop]\n",
    "for i in range(len(PMsub_list)):\n",
    "    g_params.append(Parameter.from_expression(f\"gParam_{PMsub_list[i]}\", gExpr_list[i], uM*um/sec))#, use_preintegration=True))\n",
    "    g_reactions.append(Reaction(f\"g_{PMsub_list[i]}\", [], [\"Aphos\"], param_map={\"k\": f\"gParam_{PMsub_list[i]}\"}, \n",
    "                                species_map={}, eqn_f_str=\"k\", explicit_restriction_to_domain=PMsub_list[i]))\n",
    "pc.add(g_params)\n",
    "rc.add(g_reactions)"
   ]
  },
  {
   "cell_type": "markdown",
   "id": "2c9633cd",
   "metadata": {},
   "source": [
    "For this example, we use a cube mesh with different facet labels on each face. We generate a mesh at several different resolutions for convergence testing."
   ]
  },
  {
   "cell_type": "code",
   "execution_count": null,
   "id": "351eac3f",
   "metadata": {},
   "outputs": [],
   "source": [
    "# Set loglevel to warning in order not to pollute notebook output\n",
    "logger.setLevel(logging.WARNING)\n",
    "\n",
    "hrel = [0.2, 0.1, 0.05, 0.025, 0.0125]\n",
    "L2_sums = []\n",
    "\n",
    "for i in range(len(hrel)):\n",
    "\n",
    "    elPerSide = int(1/hrel[i])\n",
    "    domain = d.BoxMesh(d.Point(0.0, 0.0, 0.0), d.Point(xSize, ySize, zSize), elPerSide, elPerSide, elPerSide)\n",
    "    cell_markers = d.MeshFunction(\"size_t\", domain, 3, 1)\n",
    "    facet_markers = d.MeshFunction(\"size_t\", domain, 2, 0)\n",
    "    for f in d.facets(domain):\n",
    "        x, y, z = f.midpoint()[:]\n",
    "        if np.isclose(x, 0.):\n",
    "            facet_markers[f] = 10\n",
    "        elif np.isclose(x, xSize):\n",
    "            facet_markers[f] = 11\n",
    "        elif np.isclose(y, 0.):\n",
    "            facet_markers[f] = 12\n",
    "        elif np.isclose(y, ySize):\n",
    "            facet_markers[f] = 13\n",
    "        elif np.isclose(z, 0.):\n",
    "            facet_markers[f] = 14\n",
    "        elif np.isclose(z, zSize):\n",
    "            facet_markers[f] = 15\n",
    "\n",
    "    # Write mesh and meshfunctions to file\n",
    "    mesh_folder = pathlib.Path(f\"mesh_hrel{hrel[i]:03f}/\")\n",
    "    mesh_folder.mkdir(exist_ok=True)\n",
    "    mesh_file = mesh_folder / \"DemoCube.h5\"\n",
    "    mesh_tools.write_mesh(domain, facet_markers, cell_markers, filename=mesh_file)\n",
    "    # # Define parent mesh\n",
    "    parent_mesh = mesh.ParentMesh(\n",
    "        str(mesh_file),\n",
    "        mesh_filetype=\"hdf5\",\n",
    "        name=\"parent_mesh\",\n",
    "    )\n",
    "\n",
    "    config_cur = config.Config()\n",
    "    model_cur = model.Model(pc, sc, cc, rc, config_cur, parent_mesh)\n",
    "    config_cur.solver.update(\n",
    "        {\n",
    "            \"final_t\": 1,\n",
    "            \"initial_dt\": 0.01,\n",
    "            \"time_precision\": 6,\n",
    "        }\n",
    "    )\n",
    "    config_cur.flags.update({\"allow_unused_components\": True, \"print_verbose_info\": False})\n",
    "    model_cur.initialize()\n",
    "\n",
    "    # Write initial condition(s) to file\n",
    "    results = dict()\n",
    "    result_folder = pathlib.Path(f\"results_hrel{hrel[i]:03f}\")\n",
    "    result_folder.mkdir(exist_ok=True)\n",
    "    for species_name, species in model_cur.sc.items:\n",
    "        results[species_name] = d.XDMFFile(\n",
    "            model_cur.mpi_comm_world, str(result_folder / f\"{species_name}.xdmf\")\n",
    "        )\n",
    "        results[species_name].parameters[\"flush_output\"] = True\n",
    "        results[species_name].write(model_cur.sc[species_name].u[\"u\"], model_cur.t)\n",
    "\n",
    "    model_cur.to_pickle('model_cur.pkl')\n",
    "\n",
    "    # save integration measure and volume for computing average Aphos at each time step\n",
    "    dx = d.Measure(\"dx\", domain=model_cur.cc['Cyto'].dolfin_mesh)\n",
    "    volume = d.assemble_mixed(1.0*dx)\n",
    "    # Solve\n",
    "    avg_Aphos = [Aphos.initial_condition]\n",
    "    x, y, z = (sym.Symbol(f\"x[{i}]\") for i in range(3))\n",
    "    from sympy.parsing.sympy_parser import parse_expr\n",
    "    sym_expr = parse_expr(str(Asol)).subs({\"x\": x, \"y\": y, \"z\": z, \"t\": model_cur.t})\n",
    "    Asol_expr = d.Expression(sym.printing.ccode(sym_expr), degree=3)\n",
    "    avg_Asol = [d.assemble_mixed(Asol_expr*dx)/volume]\n",
    "    L2_vec = [d.assemble_mixed((Asol_expr-model_cur.sc[\"Aphos\"].u[\"u\"])**2 *dx)]\n",
    "    while True:\n",
    "        # Solve the system\n",
    "        model_cur.monolithic_solve()\n",
    "        # Save results for post processing\n",
    "        for species_name, species in model_cur.sc.items:\n",
    "            results[species_name].write(model_cur.sc[species_name].u[\"u\"], model_cur.t)\n",
    "        # compute average Aphos concentration at each time step\n",
    "        int_val = d.assemble_mixed(model_cur.sc['Aphos'].u['u']*dx)\n",
    "        avg_Aphos.append(int_val / volume)\n",
    "        sym_expr = parse_expr(str(Asol)).subs({\"x\": x, \"y\": y, \"z\": z, \"t\": model_cur.t})\n",
    "        Asol_expr = d.Expression(sym.printing.ccode(sym_expr), degree=3)\n",
    "        avg_Asol.append(d.assemble_mixed(Asol_expr*dx)/volume)\n",
    "        L2_vec.append(d.assemble_mixed((Asol_expr-model_cur.sc[\"Aphos\"].u[\"u\"])**2 *dx))\n",
    "        # End if we've passed the final time\n",
    "        if model_cur.t >= model_cur.final_t:\n",
    "            break\n",
    "    plt.plot(model_cur.tvec, avg_Aphos)\n",
    "    L2_sums.append(sum(L2_vec))\n",
    "# visualization.plot(model_cur.sc['Aphos'].u['u'])\n",
    "plt.plot(model_cur.tvec, avg_Asol, linestyle=\"dashed\")\n",
    "plt.xlabel('Time (s)')\n",
    "plt.ylabel('Aphos concentration (μM)')"
   ]
  },
  {
   "attachments": {},
   "cell_type": "markdown",
   "id": "04401157",
   "metadata": {},
   "source": [
    "Plot L2 norm vs. mesh resolution."
   ]
  },
  {
   "cell_type": "code",
   "execution_count": null,
   "id": "68d353b0",
   "metadata": {},
   "outputs": [],
   "source": [
    "plt.loglog(hrel, L2_sums)"
   ]
  }
 ],
 "metadata": {
  "jupytext": {
   "cell_metadata_filter": "-all",
   "main_language": "python",
   "notebook_metadata_filter": "-all"
  },
  "kernelspec": {
   "display_name": "Python 3",
   "language": "python",
   "name": "python3"
  },
  "language_info": {
   "codemirror_mode": {
    "name": "ipython",
    "version": 3
   },
   "file_extension": ".py",
   "mimetype": "text/x-python",
   "name": "python",
   "nbconvert_exporter": "python",
   "pygments_lexer": "ipython3",
   "version": "3.10.12"
  },
  "vscode": {
   "interpreter": {
    "hash": "916dbcbb3f70747c44a77c7bcd40155683ae19c65e1c03b4aa3499c5328201f1"
   }
  }
 },
 "nbformat": 4,
 "nbformat_minor": 5
}
