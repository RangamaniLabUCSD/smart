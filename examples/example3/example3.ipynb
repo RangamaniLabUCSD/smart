{
 "cells": [
  {
   "attachments": {},
   "cell_type": "markdown",
   "id": "f65f18d7",
   "metadata": {},
   "source": [
    "# Example for system in Cugno et al 2019\n",
    "\n",
    "Geometry is divided into 4 domains; two volumes and two surfaces:\n",
    "- plasma membrane (PM)\n",
    "- Cytosol\n",
    "- ER membrane\n",
    "- ER lumen (inside the ER)\n",
    "\n",
    "This model has a single species, $\\text{Ca}^{2+}$, with prescribed time-dependent fluxes at the PM and the ERM.\n",
    "\n",
    "There are three reactions:\n",
    "- $\\text{Ca}^{2+}$ influx at the PM\n",
    "- $\\text{Ca}^{2+}$ removal in the cytosol (e.g. via buffering)\n",
    "- $\\text{Ca}^{2+}$ flux into the ER  \n",
    "```"
   ]
  },
  {
   "cell_type": "code",
   "execution_count": null,
   "id": "cc398816",
   "metadata": {},
   "outputs": [],
   "source": [
    "import dolfin as d\n",
    "import sympy as sym\n",
    "import numpy as np\n",
    "import pathlib\n",
    "\n",
    "from smart import config, mesh, model, mesh_tools\n",
    "from smart.units import unit\n",
    "from smart.model_assembly import (\n",
    "    Compartment,\n",
    "    Parameter,\n",
    "    Reaction,\n",
    "    Species,\n",
    "    SpeciesContainer,\n",
    "    ParameterContainer,\n",
    "    CompartmentContainer,\n",
    "    ReactionContainer,\n",
    ")\n",
    "\n",
    "from matplotlib import pyplot as plt\n",
    "import matplotlib.image as mpimg\n",
    "from matplotlib import rcParams"
   ]
  },
  {
   "attachments": {},
   "cell_type": "markdown",
   "id": "95b9d865",
   "metadata": {},
   "source": [
    "First, we define the various units for the inputs"
   ]
  },
  {
   "cell_type": "code",
   "execution_count": null,
   "id": "4f4023cf",
   "metadata": {},
   "outputs": [],
   "source": [
    "# Aliases - base units\n",
    "uM = unit.uM\n",
    "um = unit.um\n",
    "molecule = unit.molecule\n",
    "sec = unit.sec\n",
    "dimensionless = unit.dimensionless\n",
    "# Aliases - units used in model\n",
    "D_unit = um**2 / sec\n",
    "flux_unit = uM * um / sec\n",
    "vol_unit = uM\n",
    "surf_unit = molecule / um**2"
   ]
  },
  {
   "attachments": {},
   "cell_type": "markdown",
   "id": "46582d26",
   "metadata": {},
   "source": [
    "## Model generation"
   ]
  },
  {
   "attachments": {},
   "cell_type": "markdown",
   "id": "6cd57501",
   "metadata": {},
   "source": [
    "### Define compartment container"
   ]
  },
  {
   "cell_type": "code",
   "execution_count": null,
   "id": "02a000f2",
   "metadata": {},
   "outputs": [],
   "source": [
    "\n",
    "# name, topological dimensionality, length scale units, marker value\n",
    "Cyto = Compartment(\"Cyto\", 3, um, 1)\n",
    "PM = Compartment(\"PM\", 2, um, 10)\n",
    "ER = Compartment(\"ER\", 3, um, 2)\n",
    "ERm = Compartment(\"ERm\", 2, um, 12)\n",
    "PM.specify_nonadjacency(['ERm', 'ER'])\n",
    "ERm.specify_nonadjacency(['PM'])\n",
    "\n",
    "cc = CompartmentContainer()\n",
    "cc.add([Cyto, PM, ER, ERm])"
   ]
  },
  {
   "attachments": {},
   "cell_type": "markdown",
   "id": "f9121840",
   "metadata": {},
   "source": [
    "### Define species container"
   ]
  },
  {
   "cell_type": "code",
   "execution_count": null,
   "id": "09079b17",
   "metadata": {},
   "outputs": [],
   "source": [
    "Ca = Species(\"Ca\", 0.05, vol_unit, 10.0, D_unit, \"Cyto\")\n",
    "sc = SpeciesContainer()\n",
    "sc.add([Ca])"
   ]
  },
  {
   "attachments": {},
   "cell_type": "markdown",
   "id": "3c56e840",
   "metadata": {},
   "source": [
    "### Define parameters and reaction containers"
   ]
  },
  {
   "cell_type": "code",
   "execution_count": null,
   "id": "2e1f6882",
   "metadata": {},
   "outputs": [],
   "source": [
    "# Ca2+ influx at membrane\n",
    "gamma, alpha, beta = 1140.0, .0025, .002\n",
    "t = sym.symbols(\"t\")\n",
    "pulsePM = gamma*(sym.exp(-t/alpha) - sym.exp(-t/beta))\n",
    "#pulsePM_I = gamma*(-alpha*sym.exp(-t/alpha) + beta*sym.exp(-t/beta)) # integral for preintegration\n",
    "j1pulse = Parameter.from_expression(\n",
    "    \"j1pulse\", pulsePM, flux_unit, use_preintegration=False#, preint_sym_expr=pulsePM_I\n",
    "    )\n",
    "r1 = Reaction(\n",
    "    \"r1\",\n",
    "    [],\n",
    "    [\"Ca\"],\n",
    "    param_map={\"J\": \"j1pulse\"},\n",
    "    eqn_f_str=\"J\",\n",
    "    explicit_restriction_to_domain=\"PM\",\n",
    ")\n",
    "# Ca2+ flux into the ER\n",
    "zeta, tER = 0.2, .02\n",
    "estep = lambda t,t0,m: 1 / (1+sym.exp(m*(t0-t)))\n",
    "pulseER = zeta*gamma*estep(t,tER,8000)*(sym.exp(-(t-tER)/alpha) - sym.exp(-(t-tER)/beta))\n",
    "#pulseER_I = zeta*gamma*(-alpha*sym.exp(-(t-tER)/alpha) + beta*sym.exp(-(t-tER)/beta)) # integral for preintegration\n",
    "j2pulse = Parameter.from_expression(\n",
    "    \"j2pulse\", pulseER, flux_unit, use_preintegration=False#, preint_sym_expr=pulseER_I\n",
    "    )\n",
    "r2 = Reaction(\n",
    "    \"r2\",\n",
    "    [],\n",
    "    [\"Ca\"],\n",
    "    param_map={\"J\": \"j2pulse\"},\n",
    "    eqn_f_str=\"J\",\n",
    "    explicit_restriction_to_domain=\"ERm\",\n",
    ")\n",
    "# consumption of Ca in the cytosol\n",
    "tau = Parameter(\"tau\", 0.05, sec)\n",
    "r3 = Reaction(\"r3\", [\"Ca\"], [], param_map={\"tau\": \"tau\"},\n",
    "        eqn_f_str=\"Ca/tau\", species_map={\"Ca\": \"Ca\"})\n",
    "\n",
    "pc =ParameterContainer()\n",
    "pc.add([j1pulse, j2pulse, tau])\n",
    "rc = ReactionContainer()\n",
    "rc.add([r1, r2, r3])"
   ]
  },
  {
   "attachments": {},
   "cell_type": "markdown",
   "id": "15c35d39",
   "metadata": {},
   "source": [
    "We load the model generated above, and load in the mesh we will use in this example."
   ]
  },
  {
   "cell_type": "code",
   "execution_count": null,
   "id": "fe56e162",
   "metadata": {},
   "outputs": [],
   "source": [
    "curRadius = 0.25 # dendritic spine radius\n",
    "\n",
    "# =============================================================================================\n",
    "# Create/load in mesh\n",
    "# =============================================================================================\n",
    "# Base mesh\n",
    "domain, facet_markers, cell_markers = mesh_tools.DemoEllipsoidsMesh((1.2*curRadius,0.8*curRadius,curRadius), \n",
    "                                                                    (1.2*curRadius/2, 0.8*curRadius/2, curRadius/2), \n",
    "                                                                     hEdge=0.01) \n",
    "# Write mesh and meshfunctions to file\n",
    "os.makedirs(f\"mesh\", exist_ok=True)\n",
    "mesh_tools.write_mesh(domain, facet_markers, cell_markers, filename=f\"mesh/DemoEllipsoid\")\n",
    "\n",
    "# # Define solvers\n",
    "parent_mesh = mesh.ParentMesh(\n",
    "    mesh_filename=f\"mesh/DemoEllipsoid.h5\",\n",
    "    mesh_filetype=\"hdf5\",\n",
    "    name=\"parent_mesh\",\n",
    ")\n",
    "configCur = config.Config()\n",
    "configCur.flags.update({\"allow_unused_components\": True})\n",
    "modelCur = model.Model(pc, sc, cc, rc, configCur, parent_mesh)\n",
    "configCur.solver.update(\n",
    "    {\n",
    "        \"final_t\": 0.1,\n",
    "        \"initial_dt\": 0.001,\n",
    "        \"time_precision\": 6,\n",
    "        \"use_snes\": True,\n",
    "        \"print_assembly\": False,\n",
    "    }\n",
    ")\n",
    "\n",
    "modelCur.initialize(initialize_solver=False)\n",
    "modelCur.initialize_discrete_variational_problem_and_solver()"
   ]
  },
  {
   "cell_type": "code",
   "execution_count": null,
   "id": "b54d28ca",
   "metadata": {},
   "outputs": [],
   "source": [
    "# Write initial condition(s) to file\n",
    "results = dict()\n",
    "result_folder = pathlib.Path(f\"results\")\n",
    "result_folder.mkdir(exist_ok=True)\n",
    "for species_name, species in modelCur.sc.items:\n",
    "    results[species_name] = d.XDMFFile(\n",
    "        modelCur.mpi_comm_world, str(result_folder / f\"{species_name}.xdmf\")\n",
    "    )\n",
    "    results[species_name].parameters[\"flush_output\"] = True\n",
    "    results[species_name].write(modelCur.sc[species_name].u[\"u\"], modelCur.t)\n",
    "\n",
    "concVec = np.array([.05])\n",
    "# Solve\n",
    "while True:\n",
    "    # Solve the system\n",
    "    modelCur.monolithic_solve()\n",
    "    # Save results for post processing\n",
    "    for species_name, species in modelCur.sc.items:\n",
    "        results[species_name].write(modelCur.sc[species_name].u[\"u\"], modelCur.t)\n",
    "    # save mean value at r = (curRadius + curRadius/2)/2 (for comparison to Cugno graph below)\n",
    "    cytoMesh = domain = modelCur.cc['Cyto'].dolfin_mesh\n",
    "    integrateDomain = d.MeshFunction(\"size_t\", cytoMesh, 3, 0)\n",
    "    RTarget = (curRadius + curRadius/2) / 2\n",
    "    for c in d.cells(cytoMesh):\n",
    "        RCur = np.sqrt(c.midpoint().x()**2 + c.midpoint().y()**2 + c.midpoint().z()**2)\n",
    "        integrateDomain[c] = 1 if (RCur > RTarget-.1*curRadius and RCur <\n",
    "                                   RTarget + .1*curRadius) else 0\n",
    "    dx = d.Measure(\"dx\", domain=cytoMesh, subdomain_data=integrateDomain)\n",
    "    int_val = d.assemble(modelCur.sc['Ca'].u['u']*dx(1))\n",
    "    volume = d.assemble(1.0*dx(1))\n",
    "    curConc = np.array([int_val / volume])\n",
    "    concVec = np.concatenate((concVec, curConc))\n",
    "    np.savetxt(result_folder / f\"tvec.txt\", np.array(modelCur.tvec).astype(np.float32))\n",
    "    # End if we've passed the final time\n",
    "    if modelCur.t >= modelCur.final_t:\n",
    "        break"
   ]
  },
  {
   "cell_type": "code",
   "execution_count": null,
   "id": "7d17ded6",
   "metadata": {},
   "outputs": [],
   "source": [
    "%matplotlib inline\n",
    "rcParams['figure.figsize'] = 15, 5\n",
    "# read image from Fig 3b of paper\n",
    "img_A = mpimg.imread('Cugno_et_al_2019_Fig3b.png')\n",
    "fig, ax = plt.subplots(1,2)\n",
    "ax[0].imshow(img_A)\n",
    "ax[0].axis('off')\n",
    "ax[1].plot(modelCur.tvec, concVec)\n",
    "plt.xlabel(\"Time (s)\")\n",
    "plt.ylabel(\"Calcium concentration (μM)\")\n",
    "plt.title(\"SMART simulation\")"
   ]
  }
 ],
 "metadata": {
  "jupytext": {
   "cell_metadata_filter": "-all",
   "main_language": "python",
   "notebook_metadata_filter": "-all"
  },
  "kernelspec": {
   "display_name": "Python 3",
   "language": "python",
   "name": "python3"
  },
  "language_info": {
   "codemirror_mode": {
    "name": "ipython",
    "version": 3
   },
   "file_extension": ".py",
   "mimetype": "text/x-python",
   "name": "python",
   "nbconvert_exporter": "python",
   "pygments_lexer": "ipython3",
   "version": "3.10.6"
  },
  "vscode": {
   "interpreter": {
    "hash": "916dbcbb3f70747c44a77c7bcd40155683ae19c65e1c03b4aa3499c5328201f1"
   }
  }
 },
 "nbformat": 4,
 "nbformat_minor": 5
}
