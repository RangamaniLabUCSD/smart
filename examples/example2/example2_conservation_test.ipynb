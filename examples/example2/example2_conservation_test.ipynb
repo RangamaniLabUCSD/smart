{
 "cells": [
  {
   "attachments": {},
   "cell_type": "markdown",
   "id": "f65f18d7",
   "metadata": {},
   "source": [
    "# Example 2: Simple 2D cell signaling model - showcase mass conservation issue\n",
    "\n",
    "We model a reaction between the cell interior and cell membrane in a 2D geometry:\n",
    "- Cyto - 2D cell \"volume\"\n",
    "- PM - 1D cell boundary (represents plasma membrane)\n",
    "\n",
    "Model from [Rangamani et al, 2013, Cell](https://www.ncbi.nlm.nih.gov/pmc/articles/PMC3874130/). A cytosolic species, \"A\", reacts with a species on the PM, \"B\", to form a new species on the PM, \"X\" (see full equations and diagram in main example 2).\n",
    "\n",
    "Here, we show the enforcement of mass conservation in the case of a very small diffusion coefficient for cytosolic species \"A\". Without fixes to the original SMART code, we current violate mass conservation between species A and B (number of molecules A + number of molecules B should be constant). This fix requires us to interpolate \"A\" onto the plasma membrane domain when expressing certain terms in the variational form for FEniCS (updated on every Newton iteration)."
   ]
  },
  {
   "attachments": {},
   "cell_type": "markdown",
   "id": "a59f3428",
   "metadata": {},
   "source": [
    "Imports and logger initialization:"
   ]
  },
  {
   "cell_type": "code",
   "execution_count": null,
   "id": "cc398816",
   "metadata": {},
   "outputs": [],
   "source": [
    "from matplotlib import pyplot as plt\n",
    "import dolfin as d\n",
    "import sympy as sym\n",
    "import numpy as np\n",
    "import pathlib\n",
    "import logging\n",
    "import gmsh  # must be imported before pyvista if dolfin is imported first\n",
    "import time\n",
    "\n",
    "from smart import config, common, mesh, model, mesh_tools, visualization\n",
    "from smart.units import unit\n",
    "from smart.model_assembly import (\n",
    "    Compartment,\n",
    "    Parameter,\n",
    "    Reaction,\n",
    "    Species,\n",
    "    SpeciesContainer,\n",
    "    ParameterContainer,\n",
    "    CompartmentContainer,\n",
    "    ReactionContainer,\n",
    ")\n",
    "from matplotlib import pyplot as plt\n",
    "import matplotlib.image as mpimg\n",
    "\n",
    "logger = logging.getLogger(\"smart\")\n",
    "logger.setLevel(logging.INFO)"
   ]
  },
  {
   "attachments": {},
   "cell_type": "markdown",
   "id": "95b9d865",
   "metadata": {},
   "source": [
    "First, we define the various units for use in the model."
   ]
  },
  {
   "cell_type": "code",
   "execution_count": null,
   "id": "4f4023cf",
   "metadata": {},
   "outputs": [],
   "source": [
    "um = unit.um\n",
    "molecule = unit.molecule\n",
    "sec = unit.sec\n",
    "dimensionless = unit.dimensionless\n",
    "D_unit = um**2 / sec\n",
    "surf_unit = molecule / um**2\n",
    "flux_unit = molecule / (um * sec)\n",
    "edge_unit = molecule / um"
   ]
  },
  {
   "attachments": {},
   "cell_type": "markdown",
   "id": "46582d26",
   "metadata": {},
   "source": [
    "Next we generate the model by assembling the compartment, species, parameter, and reaction containers (see Example 1 or API documentation for more details)."
   ]
  },
  {
   "cell_type": "code",
   "execution_count": null,
   "id": "09079b17",
   "metadata": {},
   "outputs": [],
   "source": [
    "# =============================================================================================\n",
    "# Compartments\n",
    "# =============================================================================================\n",
    "# name, topological dimensionality, length scale units, marker value\n",
    "Cyto = Compartment(\"Cyto\", 2, um, 1)\n",
    "PM = Compartment(\"PM\", 1, um, 3)\n",
    "cc = CompartmentContainer()\n",
    "cc.add([Cyto, PM])\n",
    "\n",
    "# =============================================================================================\n",
    "# Species\n",
    "# =============================================================================================\n",
    "# name, initial concentration, concentration units, diffusion, diffusion units, compartment\n",
    "A = Species(\"A\", 1.0, surf_unit, 0.01, D_unit, \"Cyto\")\n",
    "X = Species(\"X\", 1.0, edge_unit, 1.0, D_unit, \"PM\")\n",
    "B = Species(\"B\", 0.0, edge_unit, 1.0, D_unit, \"PM\")\n",
    "sc = SpeciesContainer()\n",
    "sc.add([A, X, B])\n",
    "\n",
    "# =============================================================================================\n",
    "# Parameters and Reactions\n",
    "# =============================================================================================\n",
    "\n",
    "# Reaction of A and X to make B (Cyto-PM reaction)\n",
    "kon = Parameter(\"kon\", 1.0, 1/(surf_unit*sec))\n",
    "koff = Parameter(\"koff\", 1.0, 1/sec)\n",
    "r1 = Reaction(\"r1\", [\"A\", \"X\"], [\"B\"],\n",
    "              param_map={\"on\": \"kon\", \"off\": \"koff\"},\n",
    "              species_map={\"A\": \"A\", \"X\": \"X\", \"B\": \"B\"})\n",
    "\n",
    "pc = ParameterContainer()\n",
    "pc.add([kon, koff])\n",
    "rc = ReactionContainer()\n",
    "rc.add([r1])"
   ]
  },
  {
   "attachments": {},
   "cell_type": "markdown",
   "id": "15c35d39",
   "metadata": {},
   "source": [
    "Now we create a circular mesh (mesh built using gmsh in `smart.mesh_tools`), along with marker functions `mf2` and `mf1`."
   ]
  },
  {
   "cell_type": "code",
   "execution_count": null,
   "id": "fe56e162",
   "metadata": {},
   "outputs": [],
   "source": [
    "# Create mesh\n",
    "hEdge = 0.05\n",
    "curRad = 1.0\n",
    "surf_tag = 1\n",
    "edge_tag = 3\n",
    "ellipse_mesh, mf1, mf2 = mesh_tools.create_ellipses(curRad, curRad, hEdge=hEdge,\n",
    "                                                    outer_tag=surf_tag, outer_marker=edge_tag)\n",
    "visualization.plot_dolfin_mesh(ellipse_mesh, mf2, view_xy=True)"
   ]
  },
  {
   "attachments": {},
   "cell_type": "markdown",
   "id": "fe04ad6b",
   "metadata": {},
   "source": [
    "Write mesh and meshfunctions to file, then create `mesh.ParentMesh` object."
   ]
  },
  {
   "cell_type": "code",
   "execution_count": null,
   "id": "e15255a1",
   "metadata": {},
   "outputs": [],
   "source": [
    "mesh_folder = pathlib.Path(\"ellipse_mesh_AR1\")\n",
    "mesh_folder.mkdir(exist_ok=True)\n",
    "mesh_file = mesh_folder / \"ellipse_mesh.h5\"\n",
    "mesh_tools.write_mesh(ellipse_mesh, mf1, mf2, mesh_file)\n",
    "\n",
    "parent_mesh = mesh.ParentMesh(\n",
    "    mesh_filename=str(mesh_file),\n",
    "    mesh_filetype=\"hdf5\",\n",
    "    name=\"parent_mesh\",\n",
    ")"
   ]
  },
  {
   "attachments": {},
   "cell_type": "markdown",
   "id": "355a426e",
   "metadata": {},
   "source": [
    "Solve the system with `enforce_mass_conservation` on vs. off and plot the results for the total number of molecules A + molecules B over time."
   ]
  },
  {
   "cell_type": "code",
   "execution_count": null,
   "id": "40b213ea",
   "metadata": {},
   "outputs": [],
   "source": [
    "# Set loglevel to warning in order not to pollute notebook output\n",
    "logger.setLevel(logging.WARNING)\n",
    "enforce_mass_conservation = [True, False]\n",
    "for i in range(len(enforce_mass_conservation)):\n",
    "    config_cur = config.Config()\n",
    "    config_cur.flags.update({\n",
    "        \"allow_unused_components\": True, \n",
    "        \"enforce_mass_conservation\": enforce_mass_conservation[i]})\n",
    "    config_cur.solver.update(\n",
    "        {\n",
    "            \"final_t\": 5.0,\n",
    "            \"initial_dt\": 0.05,\n",
    "            \"time_precision\": 6,\n",
    "        }\n",
    "    )\n",
    "    model_cur = model.Model(pc, sc, cc, rc, config_cur, parent_mesh)\n",
    "    model_cur.couple_odes = True\n",
    "\n",
    "    model_cur.initialize()\n",
    "    model_cur.to_pickle('model_cur.pkl')\n",
    "    results = dict()\n",
    "    result_folder = pathlib.Path(\n",
    "        f\"resultsConservTest_MassConserv{enforce_mass_conservation[i]}\")\n",
    "    result_folder.mkdir(exist_ok=True)\n",
    "    for species_name, species in model_cur.sc.items:\n",
    "        results[species_name] = d.XDMFFile(\n",
    "            model_cur.mpi_comm_world, str(result_folder / f\"{species_name}.xdmf\")\n",
    "        )\n",
    "        results[species_name].parameters[\"flush_output\"] = True\n",
    "        results[species_name].write(model_cur.sc[species_name].u[\"u\"], model_cur.t)\n",
    "    tvec = [0]\n",
    "    cytoMesh = model_cur.cc[\"Cyto\"].dolfin_mesh\n",
    "    dx_cyto = d.Measure(\"dx\", domain=cytoMesh)\n",
    "    # ds_cyto = d.Measure(\"ds\", domain=cytoMesh)\n",
    "    volume = d.assemble(1.0*dx_cyto)\n",
    "    dx_pm = d.Measure(\"dx\", domain=model_cur.cc[\"PM\"].dolfin_mesh)\n",
    "    sa = d.assemble(1.0*dx_pm)\n",
    "\n",
    "    Atot_vec = [sc[\"A\"].initial_condition * volume + sc[\"B\"].initial_condition * sa]\n",
    "    # Xtot_vec = [sc[\"X\"].initial_condition * sa + sc[\"B\"].initial_condition * sa]\n",
    "\n",
    "    start_time = time.time()\n",
    "    while True:\n",
    "        # Solve the system\n",
    "        model_cur.monolithic_solve()\n",
    "        # Save results for post processing\n",
    "        for species_name, species in model_cur.sc.items:\n",
    "            results[species_name].write(model_cur.sc[species_name].u[\"u\"], model_cur.t)\n",
    "        int_val_A = d.assemble(sc[\"A\"].u[\"u\"]*dx_cyto)\n",
    "        int_val_B = d.assemble(sc[\"B\"].u[\"u\"]*dx_pm)\n",
    "        # int_val_X = d.assemble(sc[\"X\"].u[\"u\"]*dx_pm)\n",
    "        Atot_vec.append(int_val_A + int_val_B)\n",
    "        # Xtot_vec.append(int_val_X + int_val_B)\n",
    "        tvec.append(model_cur.t)\n",
    "        # End if we've passed the final time\n",
    "\n",
    "        if model_cur.t >= model_cur.final_t:\n",
    "            break\n",
    "    end_time = time.time()\n",
    "    print(f\"Mass conservation = {enforce_mass_conservation[i]} time elapsed: {end_time - start_time}\")\n",
    "    plt.plot(tvec, 100*np.array(Atot_vec)/Atot_vec[0], \n",
    "            label=f\"Mass conservation = {enforce_mass_conservation[i]}\")\n",
    "plt.xlabel('Time (s)')\n",
    "plt.ylabel('Normalized molecule count (%)')\n",
    "plt.legend()"
   ]
  }
 ],
 "metadata": {
  "jupytext": {
   "cell_metadata_filter": "-all",
   "main_language": "python",
   "notebook_metadata_filter": "-all"
  },
  "kernelspec": {
   "display_name": "Python 3 (ipykernel)",
   "language": "python",
   "name": "python3"
  },
  "language_info": {
   "codemirror_mode": {
    "name": "ipython",
    "version": 3
   },
   "file_extension": ".py",
   "mimetype": "text/x-python",
   "name": "python",
   "nbconvert_exporter": "python",
   "pygments_lexer": "ipython3",
   "version": "3.10.12"
  },
  "vscode": {
   "interpreter": {
    "hash": "916dbcbb3f70747c44a77c7bcd40155683ae19c65e1c03b4aa3499c5328201f1"
   }
  }
 },
 "nbformat": 4,
 "nbformat_minor": 5
}
