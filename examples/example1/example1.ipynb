{
 "cells": [
  {
   "attachments": {},
   "cell_type": "markdown",
   "id": "f65f18d7",
   "metadata": {},
   "source": [
    "# Formation of Turing patterns in 2D reaction-diffusion\n",
    "\n",
    "In this case, we consider a simple 2D geometry comprised of two \"compartments\":\n",
    "- surf - 2D surface\n",
    "- edge - outer edges of the surface (1D)\n",
    "\n",
    "We implement the Schnakenberg model as a simple system that exhibits Turing patterns in 2D. In this model, two species diffuse in a single compartment (\"surf\"), A and B. A is produced autocatalytically and inhibits the production of B. B degrades over time and positively regulates the production of A."
   ]
  },
  {
   "cell_type": "code",
   "execution_count": null,
   "id": "00dae9c4",
   "metadata": {},
   "outputs": [],
   "source": [
    "from matplotlib import pyplot as plt\n",
    "import matplotlib.image as mpimg\n",
    "%matplotlib inline\n",
    "img_A = mpimg.imread('schnakenberg-diagram.png')\n",
    "plt.imshow(img_A)\n",
    "plt.axis('off')"
   ]
  },
  {
   "attachments": {},
   "cell_type": "markdown",
   "id": "1ce21e84",
   "metadata": {},
   "source": [
    "Nondimensionalizing, with $\\bar{A}=A/c_{ref}$ and $\\bar{B}=B/c_{ref}$, the Schnakenberg model is typically written in the form:\n",
    "$$\n",
    "\\partial_t{\\bar{A}} = \\gamma (a - \\bar{A} + \\bar{A}^2 \\bar{B}) + \\nabla^2 \\bar{A}\\\\\n",
    "\\partial_t{\\bar{B}} = \\gamma (b - \\bar{A}^2 \\bar{B}) + d \\nabla^2 \\bar{B}\n",
    "$$\n",
    "where $a$ and $b$ are reaction constants, $\\gamma$ is a scaling factor, and $d$ is the ratio of the two diffusion coefficients ($D_B/D_A$). One requirement for forming Turing patterns is that $D_B > D_A$, so $d$ must be greater than 1 (here, we set it equal to 20).\n",
    "\n",
    "To define the system below, we recover the dimensional form of these equations (SMART requires a form with dimensions):\n",
    "$$\n",
    "\\partial_t{A} = c_{ref} \\gamma^* (a - \\bar{A} + \\bar{A}^2 \\bar{B}) + D_A \\nabla^2 A\\\\\n",
    "\\partial_t{B} = c_{ref} \\gamma^* (b - \\bar{A}^2 \\bar{B}) + D_B \\nabla^2 B\n",
    "$$\n",
    "\n",
    "where $\\gamma^* = \\gamma D_A / L^2$.\n",
    "\n",
    "We solve these equations over a 1 by 1 square domain with no-flux boundary conditions."
   ]
  },
  {
   "attachments": {},
   "cell_type": "markdown",
   "id": "956a0fd1",
   "metadata": {},
   "source": [
    "We begin with the necessary imports:"
   ]
  },
  {
   "cell_type": "code",
   "execution_count": null,
   "id": "cc398816",
   "metadata": {},
   "outputs": [],
   "source": [
    "import dolfin as d\n",
    "import sympy as sym\n",
    "import numpy as np\n",
    "import pathlib\n",
    "\n",
    "from smart import config, common, mesh, model, visualization\n",
    "from smart.units import unit\n",
    "from smart.model_assembly import (\n",
    "    Compartment,\n",
    "    Parameter,\n",
    "    Reaction,\n",
    "    Species,\n",
    "    SpeciesContainer,\n",
    "    ParameterContainer,\n",
    "    CompartmentContainer,\n",
    "    ReactionContainer,\n",
    ")\n",
    "import logging"
   ]
  },
  {
   "attachments": {},
   "cell_type": "markdown",
   "id": "028bb85e",
   "metadata": {},
   "source": [
    "We will set the logging level to `INFO`. This will display some output during the simulation. If you want to get even more output you could set the logging level to `DEBUG`."
   ]
  },
  {
   "cell_type": "code",
   "execution_count": null,
   "id": "c6e826d7",
   "metadata": {},
   "outputs": [],
   "source": [
    "logger = logging.getLogger(\"smart\")\n",
    "logger.setLevel(logging.INFO)"
   ]
  },
  {
   "attachments": {},
   "cell_type": "markdown",
   "id": "c7fd3be3",
   "metadata": {},
   "source": [
    "Futhermore, you could also save the logs to a file by attaching a file handler to the logger as follows.\n",
    "\n",
    "```python\n",
    "file_handler = logging.FileHandler(\"filename.log\")\n",
    "file_handler.setFormatter(logging.Formatter(smart.config.base_format))\n",
    "logger.addHandler(file_handler)\n",
    "```"
   ]
  },
  {
   "attachments": {},
   "cell_type": "markdown",
   "id": "95b9d865",
   "metadata": {},
   "source": [
    "We define the various units for use in the model. "
   ]
  },
  {
   "cell_type": "code",
   "execution_count": null,
   "id": "4f4023cf",
   "metadata": {},
   "outputs": [],
   "source": [
    "# Aliases - base units\n",
    "um = unit.um\n",
    "molecule = unit.molecule\n",
    "sec = unit.sec\n",
    "dimensionless = unit.dimensionless\n",
    "# Aliases - units used in model\n",
    "D_unit = um**2 / sec\n",
    "flux_unit = molecule / (um * sec)\n",
    "surf_unit = molecule / um**2\n",
    "edge_unit = molecule / um"
   ]
  },
  {
   "attachments": {},
   "cell_type": "markdown",
   "id": "46582d26",
   "metadata": {},
   "source": [
    "## Generate model"
   ]
  },
  {
   "cell_type": "code",
   "execution_count": null,
   "id": "09079b17",
   "metadata": {},
   "outputs": [],
   "source": [
    "# define dimensions of domain\n",
    "L = 1.0 # typical length scale for nondimensionalization\n",
    "x_size = 1.0 * L\n",
    "y_size = 1.0 * L\n",
    "\n",
    "# =============================================================================================\n",
    "# Compartments\n",
    "# =============================================================================================\n",
    "# name, topological dimensionality, length scale units, marker value\n",
    "surf = Compartment(\"surf\", 2, um, 1)\n",
    "edge = Compartment(\"edge\", 1, um, 3)\n",
    "cc = CompartmentContainer()\n",
    "cc.add([surf, edge])\n",
    "\n",
    "# =============================================================================================\n",
    "# Species\n",
    "# =============================================================================================\n",
    "# name, initial concentration, concentration units, diffusion, diffusion units, compartment\n",
    "D_A = 0.0001 # diffusion coefficient of species A\n",
    "d_ratio = 20.0 # ratio between diffusion coefficients\n",
    "a_val = 0.1#0.14\n",
    "b_val = 1#1.35\n",
    "Ainit = a_val + b_val\n",
    "Binit = b_val / (a_val + b_val)**2\n",
    "# Ainit = f\"{Ainit}*(1 + 0.1*sin(2*pi*x/.1))\"\n",
    "# Binit = f\"{Binit}*(1 + 0.1*sin(2*pi*x/.1))\"\n",
    "A = Species(\"A\", Ainit, surf_unit, D_A, D_unit, \"surf\") # activator\n",
    "B = Species(\"B\", Binit, surf_unit, d_ratio*D_A, D_unit, \"surf\") # inhibitor\n",
    "sc = SpeciesContainer()\n",
    "sc.add([A, B])\n",
    "\n",
    "# =============================================================================================\n",
    "# Parameters and Reactions\n",
    "# =============================================================================================\n",
    "# Describing the Schnakenberg model here\n",
    "gStar = Parameter(\"gStar\", 10000*D_A/L**2, 1/sec) # gStar = gamma*D_A/L^2\n",
    "a = Parameter(\"a\", a_val, dimensionless)\n",
    "b = Parameter(\"b\", b_val, dimensionless)\n",
    "cref = Parameter(\"cref\", 1.0, surf_unit) # to convert from dimensionless forms\n",
    "L = Parameter(\"L\", 1.0, um)\n",
    "\n",
    "# Production of A\n",
    "r1 = Reaction(\"r1\", [], [\"A\"], \n",
    "              param_map={\"a\": \"a\", \"gStar\": \"gStar\", \"cref\":\"cref\"}, \n",
    "              eqn_f_str=\"cref*gStar*(a + (A/cref)**2 * (B/cref))\", \n",
    "              species_map={\"A\": \"A\", \"B\": \"B\"})\n",
    "\n",
    "# Degradation of A\n",
    "r2 = Reaction(\"r2\", [\"A\"], [], \n",
    "              param_map={\"gStar\": \"gStar\", \"cref\":\"cref\"}, \n",
    "              eqn_f_str=\"cref*gStar*A/cref\", \n",
    "              species_map={\"A\": \"A\"})\n",
    "\n",
    "# Production of B\n",
    "r3 = Reaction(\"r3\", [], [\"B\"], \n",
    "              param_map={\"gStar\":\"gStar\",\"b\": \"b\", \"cref\":\"cref\"}, \n",
    "              eqn_f_str=\"cref*gStar*b\")\n",
    "\n",
    "# Degradation of B\n",
    "r4 = Reaction(\"r4\", [\"B\"], [], \n",
    "              param_map={\"gStar\": \"gStar\", \"cref\":\"cref\"}, \n",
    "              eqn_f_str=\"cref*gStar* (A/cref)**2 * (B/cref)\", \n",
    "              species_map={\"A\": \"A\", \"B\": \"B\"})\n",
    "\n",
    "pc =ParameterContainer()\n",
    "pc.add([a, b, gStar, cref])\n",
    "rc = ReactionContainer()\n",
    "rc.add([r1, r2, r3, r4])"
   ]
  },
  {
   "attachments": {},
   "cell_type": "markdown",
   "id": "15c35d39",
   "metadata": {},
   "source": [
    "## Create/load in mesh\n",
    "\n",
    "In SMART we have different levels of meshes. Here we create a UnitSquare mesh defined by\n",
    "\n",
    "$$\n",
    "\\Omega = [0, 1] \\times [0, 1] \\subset \\mathbb{R}^2\n",
    "$$\n",
    "\n",
    "which will serve as our parent mesh\n",
    "\n",
    "For our two domains, we have two associated \"child meshes\":\n",
    "- surf: in this case, all cells (triangles) belong to this mesh\n",
    "- edge: 1D child mesh including all line elements along the edges of the domain"
   ]
  },
  {
   "cell_type": "code",
   "execution_count": null,
   "id": "fe56e162",
   "metadata": {},
   "outputs": [],
   "source": [
    "# Create mesh\n",
    "m = 100; n = int(x_size/y_size)*m\n",
    "rect_mesh = d.RectangleMesh(d.Point(0.0, 0.0), d.Point(x_size, y_size), n, m)\n",
    "mf2 = d.MeshFunction(\"size_t\", rect_mesh, 2, 1)\n",
    "mf1 = d.MeshFunction(\"size_t\", rect_mesh, 1, 0)\n",
    "for e in d.edges(rect_mesh):\n",
    "    x_vals = np.zeros(2)\n",
    "    y_vals = np.zeros(2)\n",
    "    idx = 0\n",
    "    for vertex in d.vertices(e):\n",
    "        x_vals[idx] = vertex.point().array()[0]\n",
    "        y_vals[idx] = vertex.point().array()[1]\n",
    "        idx = idx+1\n",
    "    if np.isclose(np.mean(x_vals), 0.) or np.isclose(np.mean(x_vals),x_size)\\\n",
    "        or np.isclose(np.mean(y_vals),0) or np.isclose(np.mean(y_vals),y_size):\n",
    "        mf1[e] = 3\n",
    "# Write mesh and meshfunctions to file\n",
    "mesh_folder = pathlib.Path(\"rect_mesh\")\n",
    "mesh_folder.mkdir(exist_ok=True)\n",
    "mesh_file = mesh_folder / \"rect_mesh.h5\"\n",
    "hdf5 = d.HDF5File(rect_mesh.mpi_comm(), str(mesh_file.with_suffix(\".h5\")), \"w\")\n",
    "hdf5.write(rect_mesh, \"/mesh\")\n",
    "hdf5.write(mf2, \"/mf2\")\n",
    "hdf5.write(mf1, \"/mf1\")\n",
    "# For visualization of domains\n",
    "d.File(str(mesh_file.with_stem(mesh_file.stem + \"_mf2\").with_suffix(\".pvd\"))) << mf2\n",
    "d.File(str(mesh_file.with_stem(mesh_file.stem + \"_mf1\").with_suffix(\".pvd\"))) << mf1\n",
    "parent_mesh = mesh.ParentMesh(\n",
    "    mesh_filename=str(mesh_file),\n",
    "    mesh_filetype=\"hdf5\",\n",
    "    name=\"parent_mesh\",\n",
    ")\n",
    "visualization.plot_dolfin_mesh(rect_mesh, mf2)"
   ]
  },
  {
   "attachments": {},
   "cell_type": "markdown",
   "id": "8f7ac819",
   "metadata": {},
   "source": [
    "## Initialize model and solver\n",
    "Now we are ready to set up the model. First we load the default configurations and set the solver config."
   ]
  },
  {
   "cell_type": "code",
   "execution_count": null,
   "id": "43170d20",
   "metadata": {},
   "outputs": [],
   "source": [
    "configCur = config.Config()\n",
    "configCur.flags.update({\"allow_unused_components\": True})\n",
    "modelCur = model.Model(pc, sc, cc, rc, configCur, parent_mesh)\n",
    "configCur.solver.update(\n",
    "    {\n",
    "        \"final_t\": 50.0,\n",
    "        \"initial_dt\": 0.1,\n",
    "        \"time_precision\": 6,\n",
    "        \"use_snes\": True,\n",
    "        \"print_assembly\": False,\n",
    "    }\n",
    ")"
   ]
  },
  {
   "attachments": {},
   "cell_type": "markdown",
   "id": "96783316",
   "metadata": {},
   "source": [
    "We now initialize the model using the `initialize` function found in the `smart.model` module. We then perturb the initial conditions by adding white noise to the dolfin vectors associated with each species. Finally, we initialized the solver according to the config options we chose above."
   ]
  },
  {
   "cell_type": "code",
   "execution_count": null,
   "id": "a86c7435",
   "metadata": {},
   "outputs": [],
   "source": [
    "modelCur.initialize(initialize_solver=False)\n",
    "# add white noise perturbation to initial conditions\n",
    "for sp_str in (\"A\",\"B\"):\n",
    "    sp = modelCur.sc[sp_str]\n",
    "    u = modelCur.cc[sp.compartment_name].u[\"u\"]\n",
    "    indices = sp.dof_map\n",
    "    uvec    = u.vector()\n",
    "    values  = uvec.get_local()\n",
    "    values[indices] = np.multiply(values[indices], \n",
    "                                  np.random.normal(1, 0.01, len(indices)))\n",
    "    uvec.set_local(values)\n",
    "    uvec.apply(\"insert\")\n",
    "    nvec = modelCur.cc[sp.compartment_name].u[\"n\"].vector()\n",
    "    nvec.set_local(values)\n",
    "    nvec.apply(\"insert\")\n",
    "\n",
    "modelCur.initialize_discrete_variational_problem_and_solver()"
   ]
  },
  {
   "attachments": {},
   "cell_type": "markdown",
   "id": "b610b5b8",
   "metadata": {},
   "source": [
    "## Solve the system and write output data\n",
    "Now, we are ready to start the solution process. We store the initial conditions to output files and then solve the system at each time step using the `monolithic_solve` function. Once we pass the final time chosen above, we exit the loop."
   ]
  },
  {
   "cell_type": "code",
   "execution_count": null,
   "id": "ce499ef3",
   "metadata": {},
   "outputs": [],
   "source": [
    "# Write initial condition(s) to file\n",
    "results = dict()\n",
    "result_folder = pathlib.Path(\"resultsRect\")\n",
    "result_folder.mkdir(exist_ok=True)\n",
    "for species_name, species in modelCur.sc.items:\n",
    "    results[species_name] = d.XDMFFile(\n",
    "        modelCur.mpi_comm_world, str(result_folder / f\"{species_name}.xdmf\")\n",
    "    )\n",
    "    results[species_name].parameters[\"flush_output\"] = True\n",
    "    results[species_name].write(modelCur.sc[species_name].u[\"u\"], modelCur.t)\n",
    "\n",
    "# Solve\n",
    "while True:\n",
    "    # Solve the system\n",
    "    modelCur.monolithic_solve()\n",
    "    # Save results for post processing\n",
    "    for species_name, species in modelCur.sc.items:\n",
    "        results[species_name].write(modelCur.sc[species_name].u[\"u\"], modelCur.t)\n",
    "    # End if we've passed the final time\n",
    "    if modelCur.t >= modelCur.final_t:\n",
    "        break"
   ]
  },
  {
   "attachments": {},
   "cell_type": "markdown",
   "id": "16062eb5",
   "metadata": {},
   "source": [
    "Here, we plot our final solution, showing an example of a Turing pattern. The wavelength of this patterning is tunable by changing `D_ref` in the model definition above."
   ]
  },
  {
   "cell_type": "code",
   "execution_count": null,
   "id": "d950b475",
   "metadata": {},
   "outputs": [],
   "source": [
    "%matplotlib inline\n",
    "d.plot(modelCur.sc[\"B\"].u[\"u\"])\n",
    "visualization.plot(modelCur.sc[\"B\"].u[\"u\"], show_edges=False)"
   ]
  }
 ],
 "metadata": {
  "jupytext": {
   "cell_metadata_filter": "-all",
   "main_language": "python",
   "notebook_metadata_filter": "-all"
  },
  "kernelspec": {
   "display_name": "Python 3",
   "language": "python",
   "name": "python3"
  },
  "language_info": {
   "codemirror_mode": {
    "name": "ipython",
    "version": 3
   },
   "file_extension": ".py",
   "mimetype": "text/x-python",
   "name": "python",
   "nbconvert_exporter": "python",
   "pygments_lexer": "ipython3",
   "version": "3.10.6"
  },
  "vscode": {
   "interpreter": {
    "hash": "916dbcbb3f70747c44a77c7bcd40155683ae19c65e1c03b4aa3499c5328201f1"
   }
  }
 },
 "nbformat": 4,
 "nbformat_minor": 5
}
