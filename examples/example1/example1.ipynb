{
 "cells": [
  {
   "attachments": {},
   "cell_type": "markdown",
   "id": "f65f18d7",
   "metadata": {},
   "source": [
    "# Example 1: Turing patterns in 2D reaction-diffusion\n",
    "\n",
    "In this case, we consider a simple 2D geometry comprised of two compartments:\n",
    "- surf - 2D surface\n",
    "- edge - outer edges of the surface (1D)\n",
    "\n",
    "We implement the Schnakenberg model as a simple system that exhibits Turing patterns in 2D. In this model, two species diffuse in a single compartment (\"surf\"), A and B. A is produced autocatalytically and inhibits the production of B. B degrades over time and positively regulates the production of A."
   ]
  },
  {
   "cell_type": "code",
   "execution_count": null,
   "id": "00dae9c4",
   "metadata": {},
   "outputs": [],
   "source": [
    "from matplotlib import pyplot as plt\n",
    "import matplotlib.image as mpimg\n",
    "img_A = mpimg.imread('schnakenberg-diagram.png')\n",
    "plt.imshow(img_A)\n",
    "plt.axis('off')"
   ]
  },
  {
   "attachments": {},
   "cell_type": "markdown",
   "id": "1ce21e84",
   "metadata": {},
   "source": [
    "Nondimensionalizing, with $\\bar{A}=A/c_{ref}$ and $\\bar{B}=B/c_{ref}$, the Schnakenberg model is typically written in the form:\n",
    "\n",
    "$$\n",
    "\\partial_t{\\bar{A}} = \\gamma (a - \\bar{A} + \\bar{A}^2 \\bar{B}) + \\nabla^2 \\bar{A}\\\\\n",
    "\\partial_t{\\bar{B}} = \\gamma (b - \\bar{A}^2 \\bar{B}) + d \\nabla^2 \\bar{B}\n",
    "$$\n",
    "\n",
    "where $a$ and $b$ are reaction constants, $\\gamma$ is a scaling factor, and $d$ is the ratio of the two diffusion coefficients ($D_B/D_A$). One requirement for forming Turing patterns is that $D_B > D_A$, so $d$ must be greater than 1 (here, we set it equal to 20).\n",
    "\n",
    "To define the system below, we recover the dimensional form of these equations (SMART requires a form with dimensions):\n",
    "\n",
    "$$\n",
    "\\partial_t{A} = c_{ref} \\gamma^* (a - \\bar{A} + \\bar{A}^2 \\bar{B}) + D_A \\nabla^2 A\\\\\n",
    "\\partial_t{B} = c_{ref} \\gamma^* (b - \\bar{A}^2 \\bar{B}) + D_B \\nabla^2 B\n",
    "$$\n",
    "\n",
    "where $\\gamma^* = \\gamma D_A / L^2$.\n",
    "\n",
    "We solve these equations over a 1 by 1 square domain with no-flux boundary conditions."
   ]
  },
  {
   "attachments": {},
   "cell_type": "markdown",
   "id": "956a0fd1",
   "metadata": {},
   "source": [
    "We begin with the necessary imports:"
   ]
  },
  {
   "cell_type": "code",
   "execution_count": null,
   "id": "cc398816",
   "metadata": {},
   "outputs": [],
   "source": [
    "import dolfin as d\n",
    "import sympy as sym\n",
    "import numpy as np\n",
    "import pathlib\n",
    "import gmsh  # must be imported before pyvista if dolfin is imported first\n",
    "\n",
    "from smart import config, common, mesh, model, mesh_tools, visualization\n",
    "from smart.units import unit\n",
    "from smart.model_assembly import (\n",
    "    Compartment,\n",
    "    Parameter,\n",
    "    Reaction,\n",
    "    Species,\n",
    "    SpeciesContainer,\n",
    "    ParameterContainer,\n",
    "    CompartmentContainer,\n",
    "    ReactionContainer,\n",
    ")\n",
    "import logging"
   ]
  },
  {
   "attachments": {},
   "cell_type": "markdown",
   "id": "028bb85e",
   "metadata": {},
   "source": [
    "We will set the logging level to `INFO`. This will display some output during the simulation. If you want to get even more output you could set the logging level to `DEBUG`."
   ]
  },
  {
   "cell_type": "code",
   "execution_count": null,
   "id": "c6e826d7",
   "metadata": {},
   "outputs": [],
   "source": [
    "logger = logging.getLogger(\"smart\")\n",
    "logger.setLevel(logging.INFO)"
   ]
  },
  {
   "attachments": {},
   "cell_type": "markdown",
   "id": "c7fd3be3",
   "metadata": {},
   "source": [
    "Futhermore, you could also save the logs to a file by attaching a file handler to the logger as follows.\n",
    "\n",
    "```\n",
    "file_handler = logging.FileHandler(\"filename.log\")\n",
    "file_handler.setFormatter(logging.Formatter(smart.config.base_format))\n",
    "logger.addHandler(file_handler)\n",
    "```"
   ]
  },
  {
   "attachments": {},
   "cell_type": "markdown",
   "id": "95b9d865",
   "metadata": {},
   "source": [
    "We define the various units for use in the model. "
   ]
  },
  {
   "cell_type": "code",
   "execution_count": null,
   "id": "4f4023cf",
   "metadata": {},
   "outputs": [],
   "source": [
    "# Aliases - base units\n",
    "um = unit.um\n",
    "molecule = unit.molecule\n",
    "sec = unit.sec\n",
    "dimensionless = unit.dimensionless\n",
    "D_unit = um**2 / sec\n",
    "flux_unit = molecule / (um * sec)\n",
    "surf_unit = molecule / um**2\n",
    "edge_unit = molecule / um"
   ]
  },
  {
   "attachments": {},
   "cell_type": "markdown",
   "id": "46582d26",
   "metadata": {},
   "source": [
    "## Generate model\n",
    "\n",
    "### Compartments\n",
    "As described above, the two compartments are the \"surf\" (2D) and edge (1D). These are initialized by calling:\n",
    "```\n",
    "compartment_var = Compartment(name, dimensionality, compartment_units, cell_marker)\n",
    "```\n",
    "where\n",
    "- name: string naming the compartment\n",
    "- dimensionality: topological dimensionality (e.g. 2 for surf, 1 for edge)\n",
    "- compartment_units: length units for the compartment (um for both here)\n",
    "- cell_marker: integer marker value identifying each compartment in the parent mesh"
   ]
  },
  {
   "cell_type": "code",
   "execution_count": null,
   "id": "09079b17",
   "metadata": {},
   "outputs": [],
   "source": [
    "surf = Compartment(\"surf\", 2, um, 1)\n",
    "edge = Compartment(\"edge\", 1, um, 3)"
   ]
  },
  {
   "attachments": {},
   "cell_type": "markdown",
   "id": "2db8daf9",
   "metadata": {},
   "source": [
    "Now we initialize a compartment container and add both compartments to it."
   ]
  },
  {
   "cell_type": "code",
   "execution_count": null,
   "id": "cc3393cb",
   "metadata": {},
   "outputs": [],
   "source": [
    "cc = CompartmentContainer()\n",
    "cc.add([surf, edge])"
   ]
  },
  {
   "attachments": {},
   "cell_type": "markdown",
   "id": "8ee2332b",
   "metadata": {},
   "source": [
    "### Species\n",
    "In this case, we have a two species, \"A\" and \"B\", which exist in the 2D \"surf\" domain. Each is initialized by calling:\n",
    "```\n",
    "species_var = Species(\n",
    "            name, initial_condition, concentration_units,\n",
    "            D, diffusion_units, compartment_name, group (opt)\n",
    "        )\n",
    "```\n",
    "where\n",
    "- name: string naming the species\n",
    "- initial_condition: initial concentration for this species (can be an expression given by a string to be parsed by sympy - the only unknowns in the expression should be x, y, and z)\n",
    "- concentration_units: concentration units for this species (molecules/μm<sup>2</sup> here)\n",
    "- D: diffusion coefficient\n",
    "- diffusion_units: units for diffusion coefficient (μm<sup>2</sup>/sec here)\n",
    "- compartment_name: each species should be assigned to a single compartment (\"surf\", here)\n",
    "- group (opt): for larger models, specifies a group of species this belongs to;\n",
    "            for organizational purposes when there are multiple reaction modules\n",
    "\n",
    "Note that in this example, we initially define some other constants to convert from the nondimensional formulation to dimensional equations."
   ]
  },
  {
   "cell_type": "code",
   "execution_count": null,
   "id": "3f6f384b",
   "metadata": {},
   "outputs": [],
   "source": [
    "D_A = 0.0001  # diffusion coefficient of species A\n",
    "d_ratio = 20.0  # ratio between diffusion coefficients\n",
    "L = 1.0  # typical length scale for nondimensionalization\n",
    "a_val = 0.1\n",
    "b_val = 1\n",
    "Ainit = a_val + b_val\n",
    "Binit = b_val / (a_val + b_val)**2\n",
    "A = Species(\"A\", Ainit, surf_unit, D_A, D_unit, \"surf\")  # activator\n",
    "B = Species(\"B\", Binit, surf_unit, d_ratio*D_A, D_unit, \"surf\")  # inhibitor"
   ]
  },
  {
   "attachments": {},
   "cell_type": "markdown",
   "id": "f77d2d31",
   "metadata": {},
   "source": [
    "Create a species container and add both species to it:"
   ]
  },
  {
   "cell_type": "code",
   "execution_count": null,
   "id": "5c1df887",
   "metadata": {},
   "outputs": [],
   "source": [
    "sc = SpeciesContainer()\n",
    "sc.add([A, B])"
   ]
  },
  {
   "attachments": {},
   "cell_type": "markdown",
   "id": "74d1d353",
   "metadata": {},
   "source": [
    "### Parameters and Reactions\n",
    "Parameters and reactions are generally defined together, although the order does not strictly matter. Parameters are specified as:\n",
    "```\n",
    "param_var = Parameter(name, value, unit, group (opt), notes (opt), use_preintegration (opt))\n",
    "```\n",
    "where\n",
    "- name: string naming the parameter\n",
    "- value: value of the given parameter\n",
    "- unit: units associated with given value\n",
    "- group (optional): optional string placing this reaction in a reaction group; for organizational purposes when there are multiple reaction modules\n",
    "- notes (optional): string related to this parameter\n",
    "- use_preintegration (optional): in the case of a time-dependent parameter, uses preintegration in the solution process\n",
    "\n",
    "Reactions are specified by a variable number of arguments (arguments are indicated by (opt) are either never\n",
    "required or only required in some cases, for more details see notes below and API documentation):\n",
    "```\n",
    "reaction_var = Reaction(\n",
    "                name, lhs, rhs, param_map,\n",
    "                eqn_f_str (opt), eqn_r_str (opt), reaction_type (opt), species_map,\n",
    "                explicit_restriction_to_domain (opt), group (opt), flux_scaling (opt)\n",
    "            )\n",
    "```\n",
    "- name: string naming the reaction\n",
    "- lhs: list of strings specifying the reactants for this reaction\n",
    "- rhs: list of strings specifying the products for this reaction\n",
    "    ***NOTE: the lists \"reactants\" and \"products\" determine the stoichiometry of the reaction;\n",
    "       for instance, if two A's react to give one B, the reactants list would be [\"A\",\"A\"],\n",
    "       and the products list would be [\"B\"]\n",
    "- param_map: relationship between the parameters specified in the reaction string and those given\n",
    "              in the parameter container. By default, the reaction parameters are \"kon\" and \"koff\" when\n",
    "              a system obeys simple mass action. If the forward rate is given by a parameter \"k1\" and the\n",
    "              reverse rate is given by \"k2\", then param_map = {\"on\":\"k1\", \"off\":\"k2\"}\n",
    "- eqn_f_str: For systems not obeying simple mass action, this string specifies the forward reaction rate\n",
    "             By default, this string is \"on*{all reactants multiplied together}\"\n",
    "- eqn_r_str: For systems not obeying simple mass action, this string specifies the reverse reaction rate\n",
    "             By default, this string is \"off*{all products multiplied together}\"\n",
    "- reaction_type (opt): either \"custom\" or \"mass_action\" (default is \"mass_action\") [never a required argument]\n",
    "- species_map: same format as param_map; required if other species not listed in reactants or products appear in the\n",
    "            reaction string\n",
    "- explicit_restriction_to_domain: string specifying where the reaction occurs; required if the reaction is not\n",
    "                                  constrained by the reaction string (e.g., if production occurs only at the boundary,\n",
    "                                  as it does here, but the species being produced exists through the entire volume)\n",
    "- group (opt): string placing this reaction in a reaction group; for organizational purposes when there are multiple reaction modules\n",
    "- flux_scaling (opt): in certain cases, a given reactant or product may experience a scaled flux (for instance, if we assume that\n",
    "                some of the molecules are immediately sequestered after the reaction); in this case, to signify that this flux \n",
    "                should be rescaled, we specify ''flux_scaling = {scaled_species: scale_factor}'', where scaled_species is a\n",
    "                string specifying the species to be scaled and scale_factor is a number specifying the rescaling factor\n",
    "\n",
    "For this system, we do not define any reactions on the boundary (`edge`). This corresponds to assuming a no-flux boundary condition."
   ]
  },
  {
   "cell_type": "code",
   "execution_count": null,
   "id": "df027853",
   "metadata": {},
   "outputs": [],
   "source": [
    "gStar = Parameter(\"gStar\", 10000*D_A/L**2, 1/sec)  # gStar = gamma*D_A/L^2\n",
    "a = Parameter(\"a\", a_val, dimensionless)\n",
    "b = Parameter(\"b\", b_val, dimensionless)\n",
    "cref = Parameter(\"cref\", 1.0, surf_unit)  # to convert from dimensionless forms\n",
    "\n",
    "# Production of A\n",
    "r1 = Reaction(\"r1\", [], [\"A\"],\n",
    "              param_map={\"a\": \"a\", \"gStar\": \"gStar\", \"cref\": \"cref\"},\n",
    "              eqn_f_str=\"cref*gStar*(a + (A/cref)**2 * (B/cref))\",\n",
    "              species_map={\"A\": \"A\", \"B\": \"B\"})\n",
    "\n",
    "# Degradation of A\n",
    "r2 = Reaction(\"r2\", [\"A\"], [],\n",
    "              param_map={\"gStar\": \"gStar\", \"cref\": \"cref\"},\n",
    "              eqn_f_str=\"cref*gStar*A/cref\",\n",
    "              species_map={\"A\": \"A\"})\n",
    "\n",
    "# Production of B\n",
    "r3 = Reaction(\"r3\", [], [\"B\"],\n",
    "              param_map={\"gStar\": \"gStar\", \"b\": \"b\", \"cref\": \"cref\"},\n",
    "              eqn_f_str=\"cref*gStar*b\")\n",
    "\n",
    "# Degradation of B\n",
    "r4 = Reaction(\"r4\", [\"B\"], [],\n",
    "              param_map={\"gStar\": \"gStar\", \"cref\": \"cref\"},\n",
    "              eqn_f_str=\"cref*gStar* (A/cref)**2 * (B/cref)\",\n",
    "              species_map={\"A\": \"A\", \"B\": \"B\"})"
   ]
  },
  {
   "attachments": {},
   "cell_type": "markdown",
   "id": "a0670e78",
   "metadata": {},
   "source": [
    "Create parameter and reaction containers and add in associated objects."
   ]
  },
  {
   "cell_type": "code",
   "execution_count": null,
   "id": "1eb19fb6",
   "metadata": {},
   "outputs": [],
   "source": [
    "pc = ParameterContainer()\n",
    "pc.add([a, b, gStar, cref])\n",
    "rc = ReactionContainer()\n",
    "rc.add([r1, r2, r3, r4])"
   ]
  },
  {
   "attachments": {},
   "cell_type": "markdown",
   "id": "15c35d39",
   "metadata": {},
   "source": [
    "## Create/load in mesh\n",
    "\n",
    "In SMART we have different levels of meshes. Here we create a UnitSquare mesh defined by\n",
    "\n",
    "$$\n",
    "\\Omega = [0, 1] \\times [0, 1] \\subset \\mathbb{R}^2\n",
    "$$\n",
    "\n",
    "which will serve as our parent mesh\n",
    "\n",
    "For our two domains, we have two associated \"child meshes\", which are set by the marker functions `mf2` and `mf1`:\n",
    "- surf: in this case, all cells (triangles) belong to this mesh; here, marked by `mf2 = 1`\n",
    "- edge: 1D child mesh including all line elements along the edges of the domain; here, marked by `mf1 = 3`\n",
    "\n",
    "Note that the marker values must be chosen to match those given in the compartment definitions above."
   ]
  },
  {
   "cell_type": "code",
   "execution_count": null,
   "id": "fe56e162",
   "metadata": {},
   "outputs": [],
   "source": [
    "# define dimensions of domain\n",
    "x_size = 1.0 * L\n",
    "y_size = 1.0 * L\n",
    "# Create mesh\n",
    "m = 100\n",
    "n = int(x_size/y_size)*m\n",
    "rect_mesh = d.RectangleMesh(d.Point(0.0, 0.0), d.Point(x_size, y_size), n, m)\n",
    "mf2 = d.MeshFunction(\"size_t\", rect_mesh, 2, 1)\n",
    "mf1 = d.MeshFunction(\"size_t\", rect_mesh, 1, 0)\n",
    "for e in d.edges(rect_mesh):\n",
    "    x_vals = np.zeros(2)\n",
    "    y_vals = np.zeros(2)\n",
    "    idx = 0\n",
    "    for vertex in d.vertices(e):\n",
    "        x_vals[idx] = vertex.point().array()[0]\n",
    "        y_vals[idx] = vertex.point().array()[1]\n",
    "        idx = idx+1\n",
    "    if np.isclose(np.mean(x_vals), 0.) or np.isclose(np.mean(x_vals), x_size)\\\n",
    "            or np.isclose(np.mean(y_vals), 0.) or np.isclose(np.mean(y_vals), y_size):\n",
    "        mf1[e] = 3"
   ]
  },
  {
   "attachments": {},
   "cell_type": "markdown",
   "id": "86c4b70c",
   "metadata": {},
   "source": [
    "Now we write mesh and meshfunctions to file and visualize here."
   ]
  },
  {
   "cell_type": "code",
   "execution_count": null,
   "id": "fe4d77ac",
   "metadata": {},
   "outputs": [],
   "source": [
    "mesh_folder = pathlib.Path(\"rect_mesh\")\n",
    "mesh_folder.mkdir(exist_ok=True)\n",
    "mesh_file = mesh_folder / \"rect_mesh.h5\"\n",
    "mesh_tools.write_mesh(rect_mesh, mf1, mf2, mesh_file)\n",
    "visualization.plot_dolfin_mesh(rect_mesh, mf2)"
   ]
  },
  {
   "attachments": {},
   "cell_type": "markdown",
   "id": "173e5474",
   "metadata": {},
   "source": [
    "Finally, we initialize the `mesh.ParentMesh` object, using the hdf5 file as input."
   ]
  },
  {
   "cell_type": "code",
   "execution_count": null,
   "id": "bcbd06cd",
   "metadata": {},
   "outputs": [],
   "source": [
    "parent_mesh = mesh.ParentMesh(\n",
    "    mesh_filename=str(mesh_file),\n",
    "    mesh_filetype=\"hdf5\",\n",
    "    name=\"parent_mesh\",\n",
    ")"
   ]
  },
  {
   "attachments": {},
   "cell_type": "markdown",
   "id": "8f7ac819",
   "metadata": {},
   "source": [
    "## Initialize model and solver\n",
    "Now we are ready to set up the model. First we load the default configurations and set the solver config."
   ]
  },
  {
   "cell_type": "code",
   "execution_count": null,
   "id": "43170d20",
   "metadata": {},
   "outputs": [],
   "source": [
    "config_cur = config.Config()\n",
    "config_cur.flags.update({\"allow_unused_components\": True})\n",
    "config_cur.solver.update(\n",
    "    {\n",
    "        \"final_t\": 50.0,\n",
    "        \"initial_dt\": 0.1,\n",
    "        \"time_precision\": 6,\n",
    "        \"use_snes\": True,\n",
    "        \"print_assembly\": False,\n",
    "    }\n",
    ")"
   ]
  },
  {
   "attachments": {},
   "cell_type": "markdown",
   "id": "96783316",
   "metadata": {},
   "source": [
    "We create the model object initialize the model using the `initialize` function found in the `smart.model` module. We then save the model information to a .pkl file for later reference.\n",
    "\n",
    "Note that we could later load the model information from the pickle file using the line:\n",
    "```\n",
    "model_cur = model.from_pickle(model_cur.pkl)\n",
    "```"
   ]
  },
  {
   "cell_type": "code",
   "execution_count": null,
   "id": "a86c7435",
   "metadata": {},
   "outputs": [],
   "source": [
    "modelCur = model.Model(pc, sc, cc, rc, config_cur, parent_mesh)\n",
    "modelCur.initialize(initialize_solver=False)\n",
    "modelCur.to_pickle('model_cur.pkl')"
   ]
  },
  {
   "attachments": {},
   "cell_type": "markdown",
   "id": "c0d464e3",
   "metadata": {},
   "source": [
    "We then perturb the initial conditions by adding white noise to the dolfin vectors associated with each species."
   ]
  },
  {
   "cell_type": "code",
   "execution_count": null,
   "id": "4c42042c",
   "metadata": {},
   "outputs": [],
   "source": [
    "# add white noise perturbation to initial conditions\n",
    "for sp_str in (\"A\", \"B\"):\n",
    "    sp = modelCur.sc[sp_str]\n",
    "    u = modelCur.cc[sp.compartment_name].u[\"u\"]\n",
    "    indices = sp.dof_map\n",
    "    uvec = u.vector()\n",
    "    values = uvec.get_local()\n",
    "    cur_seed = ord(sp_str)  # set seed for reproducibility\n",
    "    generator_cur = np.random.default_rng(cur_seed)\n",
    "    values[indices] = np.multiply(values[indices],\n",
    "                                  generator_cur.normal(1, 0.01, len(indices)))\n",
    "    uvec.set_local(values)\n",
    "    uvec.apply(\"insert\")\n",
    "    nvec = modelCur.cc[sp.compartment_name].u[\"n\"].vector()\n",
    "    nvec.set_local(values)\n",
    "    nvec.apply(\"insert\")"
   ]
  },
  {
   "attachments": {},
   "cell_type": "markdown",
   "id": "79fbfad4",
   "metadata": {},
   "source": [
    " Finally, we initialize the variational problem and solver."
   ]
  },
  {
   "cell_type": "code",
   "execution_count": null,
   "id": "ab27a38e",
   "metadata": {},
   "outputs": [],
   "source": [
    "modelCur.initialize_discrete_variational_problem_and_solver()"
   ]
  },
  {
   "attachments": {},
   "cell_type": "markdown",
   "id": "b610b5b8",
   "metadata": {},
   "source": [
    "## Solve the system and write output data\n",
    "Now, we are ready to start the solution process. We store the initial conditions to output files and then solve the system at each time step using the `monolithic_solve` function. Once we pass the final time chosen above, we exit the loop."
   ]
  },
  {
   "cell_type": "code",
   "execution_count": null,
   "id": "ce499ef3",
   "metadata": {},
   "outputs": [],
   "source": [
    "# Write initial condition(s) to file\n",
    "results = dict()\n",
    "result_folder = pathlib.Path(\"resultsRect\")\n",
    "result_folder.mkdir(exist_ok=True)\n",
    "for species_name, species in modelCur.sc.items:\n",
    "    results[species_name] = d.XDMFFile(\n",
    "        modelCur.mpi_comm_world, str(result_folder / f\"{species_name}.xdmf\")\n",
    "    )\n",
    "    results[species_name].parameters[\"flush_output\"] = True\n",
    "    results[species_name].write(modelCur.sc[species_name].u[\"u\"], modelCur.t)\n",
    "\n",
    "# Set loglevel to warning in order not to pollute notebook output\n",
    "logger.setLevel(logging.WARNING)\n",
    "\n",
    "# Solve\n",
    "while True:\n",
    "    # Solve the system\n",
    "    modelCur.monolithic_solve()\n",
    "    # Save results for post processing\n",
    "    for species_name, species in modelCur.sc.items:\n",
    "        results[species_name].write(modelCur.sc[species_name].u[\"u\"], modelCur.t)\n",
    "    # End if we've passed the final time\n",
    "    if modelCur.t >= modelCur.final_t:\n",
    "        break"
   ]
  },
  {
   "attachments": {},
   "cell_type": "markdown",
   "id": "16062eb5",
   "metadata": {},
   "source": [
    "Here, we plot our final solution, showing an example of a Turing pattern. The wavelength of this patterning is tunable by changing `D_ref` in the model definition above."
   ]
  },
  {
   "cell_type": "code",
   "execution_count": null,
   "id": "d950b475",
   "metadata": {},
   "outputs": [],
   "source": [
    "visualization.plot(modelCur.sc[\"B\"].u[\"u\"], show_edges=False)"
   ]
  },
  {
   "attachments": {},
   "cell_type": "markdown",
   "id": "051141e0",
   "metadata": {},
   "source": [
    "Compare to previous results as a regression test (doable because we set the seed for our random number generator here)."
   ]
  },
  {
   "cell_type": "code",
   "execution_count": null,
   "id": "f01a46f9",
   "metadata": {},
   "outputs": [],
   "source": [
    "dx = d.Measure(\"dx\", domain=modelCur.cc['surf'].dolfin_mesh)\n",
    "L2norm = np.sqrt(d.assemble(modelCur.sc['B'].u['u']**2*dx))\n",
    "L2norm_saved = 0.7752314978101217\n",
    "percent_error = 100*np.abs(L2norm - L2norm_saved)/L2norm_saved\n",
    "assert percent_error < .01,\\\n",
    "    f\"Failed regression test: Example 1 L2 norm deviates {percent_error:.3f}% from the previous numerical solution\""
   ]
  }
 ],
 "metadata": {
  "jupytext": {
   "cell_metadata_filter": "-all",
   "main_language": "python",
   "notebook_metadata_filter": "-all"
  },
  "kernelspec": {
   "display_name": "Python 3",
   "language": "python",
   "name": "python3"
  },
  "language_info": {
   "codemirror_mode": {
    "name": "ipython",
    "version": 3
   },
   "file_extension": ".py",
   "mimetype": "text/x-python",
   "name": "python",
   "nbconvert_exporter": "python",
   "pygments_lexer": "ipython3",
   "version": "3.10.6"
  },
  "vscode": {
   "interpreter": {
    "hash": "916dbcbb3f70747c44a77c7bcd40155683ae19c65e1c03b4aa3499c5328201f1"
   }
  }
 },
 "nbformat": 4,
 "nbformat_minor": 5
}
